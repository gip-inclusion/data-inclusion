{
 "cells": [
  {
   "cell_type": "code",
   "execution_count": 1,
   "metadata": {},
   "outputs": [],
   "source": [
    "from pathlib import Path\n",
    "\n",
    "import jinja2\n",
    "import numpy as np\n",
    "import pandas as pd\n"
   ]
  },
  {
   "cell_type": "markdown",
   "metadata": {},
   "source": [
    "# Purpose\n",
    "\n",
    "This notebook is used to generate documentation about our sources."
   ]
  },
  {
   "cell_type": "code",
   "execution_count": 2,
   "metadata": {},
   "outputs": [],
   "source": [
    "# download data from grist\n",
    "BASE_URL = \"https://grist.incubateur.anct.gouv.fr/o/datainclusion/api/docs/vho3ZujRYH5vnYf2bvqTNA/download/csv\"\n",
    "\n",
    "sources_df = pd.read_csv(BASE_URL + \"?tableId=Sources\")\n",
    "ressources_df = pd.read_csv(BASE_URL + \"?tableId=Ressources\")\n"
   ]
  },
  {
   "cell_type": "code",
   "execution_count": 5,
   "metadata": {},
   "outputs": [],
   "source": [
    "DIR = Path(\".\")\n",
    "TEMPLATE_PATH = DIR / \"sources.md\"\n",
    "OUTPUT_PATH = DIR / \"build\" / \"sources.md\"\n",
    "OUTPUT_PATH.parent.mkdir(parents=True, exist_ok=True)\n",
    "\n",
    "def process_grist_data(df: pd.DataFrame) -> [dict]:\n",
    "    df = df.replace([np.nan], '').replace([True],'✅').replace([False],'🚫')\n",
    "    if 'lien_donnees_producteurs' in df.columns:\n",
    "        df['lien_donnees_producteurs'] = df['lien_donnees_producteurs'].apply(lambda x: f\"[lien]({x})\" if len(x) > 0 else \"\")\n",
    "    return df.to_dict(orient=\"records\")\n",
    "\n",
    "# prepare template context\n",
    "source_dict_list = process_grist_data(sources_df)\n",
    "ressource_dict_list = process_grist_data(ressources_df)\n",
    "for source_dict in source_dict_list:\n",
    "    source_dict[\"ressources\"] = [\n",
    "        ressource_dict\n",
    "        for ressource_dict in ressource_dict_list\n",
    "        if ressource_dict[\"source\"] == source_dict[\"id\"]\n",
    "    ]\n",
    "\n",
    "# render template\n",
    "template_loader = jinja2.FileSystemLoader(searchpath=DIR)\n",
    "template_environment = jinja2.Environment(loader=template_loader)\n",
    "template = template_environment.get_template(str(TEMPLATE_PATH))\n",
    "with (OUTPUT_PATH).open(\"w\") as file:\n",
    "    file.write(template.render(sources=source_dict_list))"
   ]
  }
 ],
 "metadata": {
  "kernelspec": {
   "display_name": "Python 3 (ipykernel)",
   "language": "python",
   "name": "python3"
  },
  "language_info": {
   "codemirror_mode": {
    "name": "ipython",
    "version": 3
   },
   "file_extension": ".py",
   "mimetype": "text/x-python",
   "name": "python",
   "nbconvert_exporter": "python",
   "pygments_lexer": "ipython3",
   "version": "3.10.6"
  },
  "vscode": {
   "interpreter": {
    "hash": "0a605734d949a2010a20d990a303989c986e5cf043e82395c74cff7e62d85c33"
   }
  }
 },
 "nbformat": 4,
 "nbformat_minor": 2
}
