{
 "cells": [
  {
   "cell_type": "code",
   "execution_count": null,
   "id": "40256f98",
   "metadata": {},
   "outputs": [],
   "source": [
    "import pandas as pd\n",
    "import requests\n",
    "from typing import Dict, List"
   ]
  },
  {
   "cell_type": "code",
   "execution_count": null,
   "id": "124231e1",
   "metadata": {},
   "outputs": [],
   "source": [
    "class APIClient:\n",
    "    def __init__(self, base_url: str):\n",
    "        self.base_url = base_url\n",
    "\n",
    "    def list_benefits(self) -> List[Dict]:\n",
    "        return requests.get(self.base_url + \"/benefits\").json()"
   ]
  },
  {
   "cell_type": "code",
   "execution_count": null,
   "id": "ae9c9806",
   "metadata": {},
   "outputs": [],
   "source": [
    "data = APIClient(base_url=\"https://mes-aides.1jeune1solution.beta.gouv.fr/api/\").list_benefits()"
   ]
  },
  {
   "cell_type": "code",
   "execution_count": null,
   "id": "7cabeb76",
   "metadata": {},
   "outputs": [],
   "source": [
    "benefits_df = pd.DataFrame.from_dict(data)\n",
    "benefits_df = benefits_df.set_index(\"id\")\n",
    "benefits_df = benefits_df.replace(\"\", None)\n",
    "institutions_df = pd.json_normalize(benefits_df.institution, sep=\"_\")\n",
    "institutions_df = institutions_df.replace(\"\", None)\n",
    "institutions_df = institutions_df.drop_duplicates(subset=[\"id\"])\n",
    "institutions_df = institutions_df.set_index(\"id\")"
   ]
  },
  {
   "cell_type": "markdown",
   "id": "8f2f4003",
   "metadata": {},
   "source": [
    "### Quantités de données"
   ]
  },
  {
   "cell_type": "markdown",
   "id": "5a0ee036",
   "metadata": {},
   "source": [
    "#### Nombre de benefits"
   ]
  },
  {
   "cell_type": "code",
   "execution_count": null,
   "id": "86ad3862",
   "metadata": {},
   "outputs": [],
   "source": [
    "benefits_df.shape[0]"
   ]
  },
  {
   "cell_type": "markdown",
   "id": "1a54eaae",
   "metadata": {},
   "source": [
    "#### Nombre d'institutions"
   ]
  },
  {
   "cell_type": "code",
   "execution_count": null,
   "id": "baac972f",
   "metadata": {},
   "outputs": [],
   "source": [
    "institutions_df.shape[0]"
   ]
  },
  {
   "cell_type": "markdown",
   "id": "180a58f1",
   "metadata": {},
   "source": [
    "### Institutions"
   ]
  },
  {
   "cell_type": "code",
   "execution_count": null,
   "id": "2c8924d5",
   "metadata": {},
   "outputs": [],
   "source": [
    "def compute_field_occupancy_rates(df):\n",
    "    return ((1 - df.isnull().sum() / df.shape[0]) * 100).sort_values(ascending=False)"
   ]
  },
  {
   "cell_type": "markdown",
   "id": "523cb1bb",
   "metadata": {},
   "source": [
    "#### Institutions - Taux de remplissage des champs"
   ]
  },
  {
   "cell_type": "code",
   "execution_count": null,
   "id": "385d1932",
   "metadata": {},
   "outputs": [],
   "source": [
    "compute_field_occupancy_rates(institutions_df).to_frame()"
   ]
  },
  {
   "cell_type": "markdown",
   "id": "a5b8a8e7",
   "metadata": {},
   "source": [
    "#### Institutions - Types de structures\n",
    "\n",
    "* le champs `type` doit être utilisé pour mapper le type de structure"
   ]
  },
  {
   "cell_type": "code",
   "execution_count": null,
   "id": "1a6f6e33",
   "metadata": {},
   "outputs": [],
   "source": [
    "institutions_df.type.value_counts().to_frame()"
   ]
  },
  {
   "cell_type": "markdown",
   "id": "262c6887",
   "metadata": {},
   "source": [
    "### Benefits"
   ]
  },
  {
   "cell_type": "markdown",
   "id": "620a7728",
   "metadata": {},
   "source": [
    "#### Benefits - Taux de remplissage des champs"
   ]
  },
  {
   "cell_type": "code",
   "execution_count": null,
   "id": "57e8b41c",
   "metadata": {},
   "outputs": [],
   "source": [
    "compute_field_occupancy_rates(benefits_df).to_frame()"
   ]
  },
  {
   "cell_type": "markdown",
   "id": "4d1661ba",
   "metadata": {},
   "source": [
    "#### Benefits - Profils"
   ]
  },
  {
   "cell_type": "code",
   "execution_count": null,
   "id": "8f9722fd",
   "metadata": {},
   "outputs": [],
   "source": [
    "benefits_df.profils.value_counts().to_frame()"
   ]
  },
  {
   "cell_type": "markdown",
   "id": "da4b954b",
   "metadata": {},
   "source": [
    "#### Benefits - Conditions"
   ]
  },
  {
   "cell_type": "code",
   "execution_count": null,
   "id": "9acf9b1b",
   "metadata": {},
   "outputs": [],
   "source": [
    "benefits_df.conditions.value_counts().to_frame()"
   ]
  }
 ],
 "metadata": {
  "kernelspec": {
   "display_name": "Python 3 (ipykernel)",
   "language": "python",
   "name": "python3"
  },
  "language_info": {
   "codemirror_mode": {
    "name": "ipython",
    "version": 3
   },
   "file_extension": ".py",
   "mimetype": "text/x-python",
   "name": "python",
   "nbconvert_exporter": "python",
   "pygments_lexer": "ipython3",
   "version": "3.10.4"
  },
  "vscode": {
   "interpreter": {
    "hash": "5c59c3774541e2228ee548c093b471ded1573b3beb617fa2a9d607b090635324"
   }
  }
 },
 "nbformat": 4,
 "nbformat_minor": 5
}
