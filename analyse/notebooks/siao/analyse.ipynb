{
 "cells": [
  {
   "cell_type": "code",
   "execution_count": null,
   "metadata": {},
   "outputs": [],
   "source": [
    "import os\n",
    "\n",
    "import pandas as pd\n",
    "import numpy as np\n",
    "\n",
    "pd.options.display.max_rows = None"
   ]
  },
  {
   "cell_type": "code",
   "execution_count": null,
   "metadata": {},
   "outputs": [],
   "source": [
    "import dotenv\n",
    "\n",
    "dotenv.load_dotenv(dotenv.find_dotenv())"
   ]
  },
  {
   "cell_type": "code",
   "execution_count": null,
   "metadata": {},
   "outputs": [],
   "source": [
    "df = pd.read_excel(os.environ.get(\"SIAO_FILE_URL\"), dtype=str)"
   ]
  },
  {
   "cell_type": "markdown",
   "metadata": {},
   "source": [
    "### Nettoyage"
   ]
  },
  {
   "cell_type": "code",
   "execution_count": null,
   "metadata": {},
   "outputs": [],
   "source": [
    "df = df.replace([np.nan, \"\"], None)\n",
    "df[\"Code SIRET\"] = df[\"Code SIRET\"].replace(r\"\\.0\", \"\", regex=True).replace(r\"\\D\", \"\", regex=True).replace(\"\", None).apply(lambda s: s and f\"{s:0>14}\").replace(r\"0{14}\", None, regex=True)\n",
    "df[\"Code postal\"] = df[\"Code postal\"].replace(r\"\\.0\", \"\", regex=True).replace(r\"\\D\", \"\", regex=True).replace(\"\", None).apply(lambda s: s and f\"{s:0>5}\")\n",
    "df[\"FINESS\"] = df[\"FINESS\"].replace(r\"\\.0\", \"\", regex=True).replace(r\"\\D\", \"\", regex=True).replace(\"\", None).apply(lambda s: s and f\"{s:0>9}\")"
   ]
  },
  {
   "cell_type": "markdown",
   "metadata": {},
   "source": [
    "### Description générale\n",
    "\n",
    "* orienté services\n",
    "* pas de code insee --> à géocoder ou via base sirene géolocalisée\n",
    "* pas mal de cleanup à faire --> est-ce qu'il est possible d'obtenir le fichier dans un autre format qu'excel ?\n",
    "* pas de champ date de maj\n",
    "* pas de champ pour identifier de manière unique et globale les structure sous-jacentes.\n",
    "* le champ \"Nom de la structure\" est en fait à mi-chemin entre le nom du service et de la structure.\n",
    "* pb: lorsque le SIRET est dupliqué, il n'y a pas de moyen fiable pour distinguer les lignes qui sont communes à une structure de celles qui sont des antennes"
   ]
  },
  {
   "cell_type": "markdown",
   "metadata": {},
   "source": [
    "nb de lignes"
   ]
  },
  {
   "cell_type": "code",
   "execution_count": null,
   "metadata": {},
   "outputs": [],
   "source": [
    "df.shape[0]"
   ]
  },
  {
   "cell_type": "markdown",
   "metadata": {},
   "source": [
    "nb de lignes avec un numéro FINESS"
   ]
  },
  {
   "cell_type": "code",
   "execution_count": null,
   "metadata": {},
   "outputs": [],
   "source": [
    "df[df[\"FINESS\"].notna()].shape[0]"
   ]
  },
  {
   "cell_type": "markdown",
   "metadata": {},
   "source": [
    "nb de lignes avec un numéro FINESS ou un siret"
   ]
  },
  {
   "cell_type": "code",
   "execution_count": null,
   "metadata": {},
   "outputs": [],
   "source": [
    "df[df[\"FINESS\"].notna() | df[\"Code SIRET\"].notna()].shape[0]"
   ]
  },
  {
   "cell_type": "markdown",
   "metadata": {},
   "source": [
    "nb de lignes avec un siret sans FINESS"
   ]
  },
  {
   "cell_type": "code",
   "execution_count": null,
   "metadata": {},
   "outputs": [],
   "source": [
    "df[~df[\"FINESS\"].notna() & df[\"Code SIRET\"].notna()].shape[0]"
   ]
  },
  {
   "cell_type": "markdown",
   "metadata": {},
   "source": [
    "nb de lignes avec FINESS sans siret"
   ]
  },
  {
   "cell_type": "code",
   "execution_count": null,
   "metadata": {},
   "outputs": [],
   "source": [
    "df[df[\"FINESS\"].notna() & ~df[\"Code SIRET\"].notna()].shape[0]"
   ]
  },
  {
   "cell_type": "code",
   "execution_count": null,
   "metadata": {},
   "outputs": [],
   "source": [
    "df[\"Code SIRET\"].value_counts().apply(lambda c: c == 1).sum()"
   ]
  },
  {
   "cell_type": "markdown",
   "metadata": {},
   "source": [
    "taux de remplissage des champs"
   ]
  },
  {
   "cell_type": "code",
   "execution_count": null,
   "metadata": {},
   "outputs": [],
   "source": [
    "def compute_field_occupancy_rates(df):\n",
    "    return ((1 - df.isnull().sum() / df.shape[0]) * 100).sort_values(ascending=False)\n",
    "\n",
    "compute_field_occupancy_rates(df).to_frame()"
   ]
  },
  {
   "cell_type": "markdown",
   "metadata": {},
   "source": [
    "### Champs pour extraire un type de structure ?"
   ]
  },
  {
   "cell_type": "code",
   "execution_count": null,
   "metadata": {},
   "outputs": [],
   "source": [
    "df[\"Type\"].value_counts().to_frame()"
   ]
  },
  {
   "cell_type": "code",
   "execution_count": null,
   "metadata": {},
   "outputs": [],
   "source": [
    "df[\"Catégorie de structure\"].value_counts().to_frame()"
   ]
  },
  {
   "cell_type": "code",
   "execution_count": null,
   "metadata": {},
   "outputs": [],
   "source": [
    "structures_df = df[df[\"Code SIRET\"].isna()]"
   ]
  },
  {
   "cell_type": "code",
   "execution_count": null,
   "metadata": {},
   "outputs": [],
   "source": [
    "df[df[\"Code SIRET\"].notna()][\"Code SIRET\"].nunique()"
   ]
  },
  {
   "cell_type": "code",
   "execution_count": null,
   "metadata": {},
   "outputs": [],
   "source": [
    "categories_flags_structures_df = (\n",
    "    structures_df[\"Nom de la structure\"]\n",
    "    .str.lower()\n",
    "    .apply(\n",
    "        lambda s: {\n",
    "            \"asso\": \"association\" in s or \"asso\" in s.split() or \"ass\" in s.split() or \"association\" in s.split(), # ASSO\n",
    "            \"ccas\": \"ccas\" in s,  # CCAS\n",
    "            \"mission_locale\": \"mission\" in s and \"locale\" in s,  # ML\n",
    "            \"cada\": \"cada\" in s.split(),  # CADA\n",
    "            \"chrs\": \"chrs\" in s or \"c.h.r.s\" in s,  # CHRS\n",
    "            \"chu\": \"chu\" in s.split(),  # CHU\n",
    "            \"cph\": \"cph\" in s.split() or \"c.p.h\" in s,  # CPH\n",
    "            \"huda\": \"huda\" in s or \"h.u.d.a\" in s,  # HUDA\n",
    "            \"spip\": \"spip\" in s or \"s.p.i.p\" in s or \"Pénitentiaire\" in s,  # SPIP\n",
    "            \"pjj\": \"pjj\" in s or \"p.j.j\" in s or \"protection judiciaire\" in s,  # PJJ\n",
    "            \"fjt\": \"fjt\" in s or \"f.j.t\" in s or (\"sidence\" in s and \"sociale\" in s) or s.startswith(\"rs \"),  # RS_FJT\n",
    "            \"udaf\": \"udaf\" in s,  # UDAF\n",
    "            \"plie\": \"plie\" in s.split(),  # PLIE\n",
    "            \"centre_social\": \"centre\" in s and \"social\" in s,  # CS\n",
    "            \"cias\": \"cias\" in s.split(),  # CIAS\n",
    "            \"cava\": \"cava\" in s.split(),  # CAVA\n",
    "            \"muni\": \"mairie\" in s and \"ccas\" not in s,  # MUNI\n",
    "            \"caarud\": \"caarud\" in s or \"c.a.a.r.u.d\" in s,  # CAARUD\n",
    "            \"pe\": s.startswith(\"pole emploi\"),  # PE\n",
    "        },\n",
    "    )\n",
    "    .apply(pd.Series)\n",
    "    .assign(\n",
    "        na=lambda df: df.apply(\n",
    "            lambda row: ~row.any(), axis=\"columns\", result_type=\"expand\"\n",
    "        )\n",
    "    )\n",
    ")\n"
   ]
  },
  {
   "cell_type": "code",
   "execution_count": null,
   "metadata": {},
   "outputs": [],
   "source": [
    "categories_flags_structures_df.sum().sort_values(ascending=False)"
   ]
  },
  {
   "cell_type": "code",
   "execution_count": null,
   "metadata": {},
   "outputs": [],
   "source": [
    "categories_flags_structures_df.iloc[:, categories_flags_structures_df.columns != \"na\"].any(axis=\"columns\").sum()"
   ]
  },
  {
   "cell_type": "code",
   "execution_count": null,
   "metadata": {},
   "outputs": [],
   "source": [
    "categories_flags_structures_df.sum().sort_values(ascending=False).plot(\n",
    "    kind=\"bar\", grid=True, rot=35, figsize=(20, 8)\n",
    ")"
   ]
  },
  {
   "cell_type": "markdown",
   "metadata": {},
   "source": [
    "### Lien avec la base FINESS"
   ]
  },
  {
   "cell_type": "code",
   "execution_count": null,
   "metadata": {},
   "outputs": [],
   "source": [
    "finess_df = pd.read_csv(\"https://www.data.gouv.fr/fr/datasets/r/3dc9b1d5-0157-440d-a7b5-c894fcfdfd45\", dtype=str)\n",
    "finess_df = finess_df.replace([\"\", np.nan], None)\n",
    "finess_df = finess_df[finess_df.siret.notna()]"
   ]
  },
  {
   "cell_type": "code",
   "execution_count": null,
   "metadata": {},
   "outputs": [],
   "source": [
    "merged_df = pd.merge(df, finess_df[[\"nofinesset\", \"siret\"]], how=\"left\", left_on=\"FINESS\", right_on=\"nofinesset\")"
   ]
  },
  {
   "cell_type": "code",
   "execution_count": null,
   "metadata": {},
   "outputs": [],
   "source": [
    "# lignes avec un siret retrouvé grâce à la base FINESS\n",
    "merged_df[merged_df.siret.notna() & merged_df[\"Code SIRET\"].isna()].shape[0]"
   ]
  },
  {
   "cell_type": "code",
   "execution_count": null,
   "metadata": {},
   "outputs": [],
   "source": [
    "# structures avec un siret retrouvé grâce à la base FINESS\n",
    "merged_df[merged_df.siret.notna() & merged_df[\"Code SIRET\"].isna()].siret.nunique()"
   ]
  }
 ],
 "metadata": {
  "kernelspec": {
   "display_name": "Python 3 (ipykernel)",
   "language": "python",
   "name": "python3"
  },
  "language_info": {
   "codemirror_mode": {
    "name": "ipython",
    "version": 3
   },
   "file_extension": ".py",
   "mimetype": "text/x-python",
   "name": "python",
   "nbconvert_exporter": "python",
   "pygments_lexer": "ipython3",
   "version": "3.10.4"
  },
  "toc": {
   "base_numbering": 1,
   "nav_menu": {},
   "number_sections": true,
   "sideBar": true,
   "skip_h1_title": false,
   "title_cell": "Table of Contents",
   "title_sidebar": "Contents",
   "toc_cell": false,
   "toc_position": {},
   "toc_section_display": true,
   "toc_window_display": false
  },
  "vscode": {
   "interpreter": {
    "hash": "5c59c3774541e2228ee548c093b471ded1573b3beb617fa2a9d607b090635324"
   }
  }
 },
 "nbformat": 4,
 "nbformat_minor": 2
}
