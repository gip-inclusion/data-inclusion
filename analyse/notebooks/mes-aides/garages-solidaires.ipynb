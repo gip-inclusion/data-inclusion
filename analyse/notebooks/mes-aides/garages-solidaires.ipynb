{
 "cells": [
  {
   "cell_type": "code",
   "execution_count": null,
   "id": "f8535e93",
   "metadata": {
    "ExecuteTime": {
     "end_time": "2022-08-16T14:41:01.600570Z",
     "start_time": "2022-08-16T14:41:01.596317Z"
    }
   },
   "outputs": [],
   "source": [
    "# Imports\n",
    "import os\n",
    "import numpy as np\n",
    "import pandas as pd\n",
    "import seaborn as sns\n",
    "import matplotlib.pyplot as plt\n",
    "from dotenv import load_dotenv, find_dotenv\n",
    "from pyairtable import Table\n",
    "\n",
    "config = load_dotenv(find_dotenv())"
   ]
  },
  {
   "cell_type": "code",
   "execution_count": null,
   "id": "812cfaba",
   "metadata": {
    "ExecuteTime": {
     "end_time": "2022-08-16T14:45:52.065382Z",
     "start_time": "2022-08-16T14:45:52.062933Z"
    }
   },
   "outputs": [],
   "source": [
    "pd.options.display.max_rows = None\n",
    "plt.rc(\"figure\", figsize=[12, 4])"
   ]
  },
  {
   "cell_type": "markdown",
   "id": "61863810",
   "metadata": {},
   "source": [
    "### Import des données brutes"
   ]
  },
  {
   "cell_type": "code",
   "execution_count": null,
   "id": "3a544e8e",
   "metadata": {
    "ExecuteTime": {
     "end_time": "2022-08-16T14:41:14.366749Z",
     "start_time": "2022-08-16T14:41:03.119366Z"
    }
   },
   "outputs": [],
   "source": [
    "# Fetch data from Airtable API\n",
    "table = Table(\n",
    "    api_key=os.getenv(\"API_KEY\"),\n",
    "    base_id=os.getenv(\"BASE_ID\"),\n",
    "    table_name=os.getenv(\"TABLE_NAME\")\n",
    ")\n",
    "\n",
    "# Loading into a dataframe\n",
    "data = [col['fields'] for col in table.all()]\n",
    "raw_df = pd.DataFrame(data)"
   ]
  },
  {
   "cell_type": "markdown",
   "id": "f523c2c2",
   "metadata": {},
   "source": [
    "### Aperçu"
   ]
  },
  {
   "cell_type": "code",
   "execution_count": null,
   "id": "ca0eadde",
   "metadata": {
    "ExecuteTime": {
     "end_time": "2022-08-16T14:41:14.399016Z",
     "start_time": "2022-08-16T14:41:14.371500Z"
    }
   },
   "outputs": [],
   "source": [
    "raw_df.sample(3)"
   ]
  },
  {
   "cell_type": "code",
   "execution_count": null,
   "id": "5bd7275a",
   "metadata": {
    "ExecuteTime": {
     "end_time": "2022-08-16T14:41:43.903825Z",
     "start_time": "2022-08-16T14:41:43.857636Z"
    }
   },
   "outputs": [],
   "source": [
    "desc_df = raw_df.describe().drop(['top'], axis=0).transpose()\n",
    "desc_df.columns = ['Décompte', 'Valeurs uniques', 'Décompte valeur de la plus fréquente']\n",
    "desc_df"
   ]
  },
  {
   "cell_type": "markdown",
   "id": "3c6a5914",
   "metadata": {},
   "source": [
    "### Nettoyage"
   ]
  },
  {
   "cell_type": "code",
   "execution_count": null,
   "id": "1c980645",
   "metadata": {
    "ExecuteTime": {
     "end_time": "2022-08-16T14:42:12.417099Z",
     "start_time": "2022-08-16T14:42:12.403361Z"
    }
   },
   "outputs": [],
   "source": [
    "# Date column to datetime\n",
    "raw_df[['Créé le', 'Modifié le']] = raw_df[['Créé le', 'Modifié le']].apply(pd.to_datetime, errors='coerce')\n",
    "raw_df = raw_df.replace([\"\", np.nan], None)"
   ]
  },
  {
   "cell_type": "markdown",
   "id": "691bbfc2",
   "metadata": {},
   "source": [
    "### Taux de remplissage des champs de structures"
   ]
  },
  {
   "cell_type": "code",
   "execution_count": null,
   "id": "47970d6c",
   "metadata": {
    "ExecuteTime": {
     "end_time": "2022-08-16T14:43:15.210922Z",
     "start_time": "2022-08-16T14:43:15.201914Z"
    }
   },
   "outputs": [],
   "source": [
    "def compute_field_occupancy_rates(df):\n",
    "    return ((1 - df.isnull().sum() / df.shape[0]) * 100).sort_values(ascending=False)\n",
    "\n",
    "compute_field_occupancy_rates(raw_df).to_frame()"
   ]
  },
  {
   "cell_type": "markdown",
   "id": "2cc86427",
   "metadata": {},
   "source": [
    "### Distribution du premier référencement"
   ]
  },
  {
   "cell_type": "code",
   "execution_count": null,
   "id": "7c0d268f",
   "metadata": {
    "ExecuteTime": {
     "end_time": "2022-08-16T14:46:09.473200Z",
     "start_time": "2022-08-16T14:46:09.308306Z"
    }
   },
   "outputs": [],
   "source": [
    "sns.set(style=\"darkgrid\")\n",
    "sns.histplot(data=raw_df, x='Créé le', bins=20)"
   ]
  },
  {
   "cell_type": "markdown",
   "id": "be694e35",
   "metadata": {},
   "source": [
    "### Distribution de la dernière mise à jour"
   ]
  },
  {
   "cell_type": "code",
   "execution_count": null,
   "id": "6f011f3a",
   "metadata": {
    "ExecuteTime": {
     "end_time": "2022-08-16T14:46:11.768033Z",
     "start_time": "2022-08-16T14:46:11.519845Z"
    }
   },
   "outputs": [],
   "source": [
    "sns.histplot(data=raw_df, x='Modifié le', bins=10)"
   ]
  },
  {
   "cell_type": "markdown",
   "id": "0f1a249b",
   "metadata": {},
   "source": [
    "### Typologie"
   ]
  },
  {
   "cell_type": "code",
   "execution_count": null,
   "id": "03cb76f3",
   "metadata": {
    "ExecuteTime": {
     "end_time": "2022-08-16T14:46:14.379763Z",
     "start_time": "2022-08-16T14:46:14.230998Z"
    }
   },
   "outputs": [],
   "source": [
    "sns.countplot(\n",
    "    data=raw_df.fillna('Type inconnu'),\n",
    "    y='Type',\n",
    "    order = raw_df['Type'].fillna('Type inconnu').value_counts().index\n",
    ")"
   ]
  },
  {
   "cell_type": "markdown",
   "id": "e0a4547a",
   "metadata": {},
   "source": [
    "### Répartition géographique"
   ]
  },
  {
   "cell_type": "code",
   "execution_count": null,
   "id": "9a5bc08b",
   "metadata": {
    "ExecuteTime": {
     "end_time": "2022-08-16T14:46:16.243743Z",
     "start_time": "2022-08-16T14:46:16.072046Z"
    }
   },
   "outputs": [],
   "source": [
    "sns.countplot(\n",
    "    data=raw_df.fillna('Inconnu'),\n",
    "    y='Région Nom',\n",
    "    order = raw_df['Région Nom'].fillna('Inconnu').value_counts().index\n",
    ")"
   ]
  },
  {
   "cell_type": "markdown",
   "id": "f07f08c6",
   "metadata": {},
   "source": [
    "### Répartition des partenaires"
   ]
  },
  {
   "cell_type": "code",
   "execution_count": null,
   "id": "4e1512f4",
   "metadata": {
    "ExecuteTime": {
     "end_time": "2022-08-16T14:46:18.982731Z",
     "start_time": "2022-08-16T14:46:18.856057Z"
    }
   },
   "outputs": [],
   "source": [
    "sns.countplot(\n",
    "    data=raw_df.fillna('Inconnu'),\n",
    "    y='Partenaire Nom',\n",
    "    order = raw_df['Partenaire Nom'].fillna('Inconnu').value_counts().index\n",
    ")"
   ]
  },
  {
   "cell_type": "markdown",
   "id": "b1c8a668",
   "metadata": {},
   "source": [
    "### Répartition des services"
   ]
  },
  {
   "cell_type": "code",
   "execution_count": null,
   "id": "36dc05ae",
   "metadata": {
    "ExecuteTime": {
     "end_time": "2022-08-16T16:37:18.375218Z",
     "start_time": "2022-08-16T16:37:18.364288Z"
    }
   },
   "outputs": [],
   "source": [
    "def get_unique(df, col):\n",
    "    unique_values = []\n",
    "    for el in df[col]:\n",
    "        if not el is None:\n",
    "            for sub_el in el:\n",
    "                if not sub_el in unique_values:\n",
    "                    unique_values.append(sub_el)\n",
    "    return unique_values"
   ]
  },
  {
   "cell_type": "code",
   "execution_count": null,
   "id": "aecd1144",
   "metadata": {
    "ExecuteTime": {
     "end_time": "2022-08-16T16:43:59.771261Z",
     "start_time": "2022-08-16T16:43:59.754460Z"
    }
   },
   "outputs": [],
   "source": [
    "print(\"Services : \", get_unique(raw_df, 'Services'))\n",
    "print(\"Véhicules traités : \", get_unique(raw_df, 'Types de véhicule'))\n",
    "print(\"% sans services indiqués : \",\n",
    "      raw_df['Services'].isna().sum()/raw_df['Services'].count()*100)\n",
    "print(\"% sans véhicules indiqués : \",\n",
    "      raw_df['Types de véhicule'].isna().sum()/raw_df['Types de véhicule'].count())"
   ]
  },
  {
   "cell_type": "code",
   "execution_count": null,
   "id": "254991d0",
   "metadata": {},
   "outputs": [],
   "source": []
  }
 ],
 "metadata": {
  "kernelspec": {
   "display_name": "Python 3 (ipykernel)",
   "language": "python",
   "name": "python3"
  },
  "language_info": {
   "codemirror_mode": {
    "name": "ipython",
    "version": 3
   },
   "file_extension": ".py",
   "mimetype": "text/x-python",
   "name": "python",
   "nbconvert_exporter": "python",
   "pygments_lexer": "ipython3",
   "version": "3.10.6"
  },
  "toc": {
   "base_numbering": 1,
   "nav_menu": {},
   "number_sections": true,
   "sideBar": true,
   "skip_h1_title": false,
   "title_cell": "Table of Contents",
   "title_sidebar": "Contents",
   "toc_cell": false,
   "toc_position": {},
   "toc_section_display": true,
   "toc_window_display": false
  },
  "vscode": {
   "interpreter": {
    "hash": "792c9d9a8f1724810e690d2630ae6c136f67c36719c7aa6bb230be23f85b2432"
   }
  }
 },
 "nbformat": 4,
 "nbformat_minor": 5
}
