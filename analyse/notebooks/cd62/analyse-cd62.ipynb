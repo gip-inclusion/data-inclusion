{
 "cells": [
  {
   "cell_type": "code",
   "execution_count": null,
   "id": "b0d545c5",
   "metadata": {},
   "outputs": [],
   "source": [
    "import os\n",
    "\n",
    "import matplotlib.pyplot as plt\n",
    "import numpy as np\n",
    "import pandas as pd\n",
    "import dotenv"
   ]
  },
  {
   "cell_type": "code",
   "execution_count": null,
   "id": "9dabce51",
   "metadata": {},
   "outputs": [],
   "source": [
    "pd.options.display.max_rows = None\n",
    "pd.options.display.max_columns = None\n",
    "plt.rc(\"figure\", figsize=[12, 8])"
   ]
  },
  {
   "cell_type": "code",
   "execution_count": null,
   "id": "84ce3602",
   "metadata": {},
   "outputs": [],
   "source": [
    "dotenv.load_dotenv(dotenv.find_dotenv())\n",
    "\n",
    "df = pd.read_csv(\n",
    "    os.environ[\"CD62_FILE_URL\"],\n",
    "    sep=\";\",\n",
    "    dtype=str,\n",
    "    encoding=\"latin\",\n",
    ")\n",
    "\n",
    "df = df.replace([np.nan, \"\"], None)"
   ]
  },
  {
   "cell_type": "code",
   "execution_count": null,
   "id": "3d7099dd",
   "metadata": {},
   "outputs": [],
   "source": [
    "df.sample(5)"
   ]
  }
 ],
 "metadata": {
  "kernelspec": {
   "display_name": "Python 3 (ipykernel)",
   "language": "python",
   "name": "python3"
  },
  "language_info": {
   "codemirror_mode": {
    "name": "ipython",
    "version": 3
   },
   "file_extension": ".py",
   "mimetype": "text/x-python",
   "name": "python",
   "nbconvert_exporter": "python",
   "pygments_lexer": "ipython3",
   "version": "3.10.4"
  },
  "vscode": {
   "interpreter": {
    "hash": "5c59c3774541e2228ee548c093b471ded1573b3beb617fa2a9d607b090635324"
   }
  }
 },
 "nbformat": 4,
 "nbformat_minor": 5
}
