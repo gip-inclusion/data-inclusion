{
 "cells": [
  {
   "cell_type": "code",
   "execution_count": null,
   "metadata": {},
   "outputs": [],
   "source": [
    "%pip install -e ../../../pipeline\n",
    "%pip install -e ../../../../data-inclusion-schema\n"
   ]
  },
  {
   "cell_type": "code",
   "execution_count": null,
   "metadata": {},
   "outputs": [],
   "source": [
    "import os\n",
    "\n",
    "import dotenv\n",
    "import pandas as pd\n",
    "\n",
    "from data_inclusion.scripts.tasks import grist\n",
    "from data_inclusion import schema"
   ]
  },
  {
   "cell_type": "code",
   "execution_count": null,
   "metadata": {},
   "outputs": [],
   "source": [
    "dotenv.load_dotenv(dotenv.find_dotenv())\n",
    "\n",
    "GRIST_API_TOKEN = os.environ[\"GRIST_API_TOKEN\"]\n",
    "GRIST_API_URL = \"https://grist.incubateur.net/api\"\n",
    "WORKSPACE_ID = \"27\"\n",
    "DOCUMENT_NAME = \"template\""
   ]
  },
  {
   "cell_type": "code",
   "execution_count": null,
   "metadata": {},
   "outputs": [],
   "source": [
    "grist_client = grist.GristClient(base_url=GRIST_API_URL, token=GRIST_API_TOKEN)\n",
    "\n",
    "document_id = grist_client.create_document(\n",
    "    workspace_id=WORKSPACE_ID, document_name=DOCUMENT_NAME\n",
    ")"
   ]
  },
  {
   "cell_type": "code",
   "execution_count": null,
   "metadata": {},
   "outputs": [],
   "source": [
    "for referentiel in [\n",
    "    \"frais\",\n",
    "    \"labels_nationaux\",\n",
    "    \"modes_accueil\",\n",
    "    \"modes_orientation_accompagnateur\",\n",
    "    \"modes_orientation_beneficiaire\",\n",
    "    \"profils\",\n",
    "    \"thematiques\",\n",
    "    \"typologies_de_services\",\n",
    "    \"typologies_de_structures\",\n",
    "    \"zones_de_diffusion_types\",\n",
    "]:\n",
    "    table_id = grist_client.create_table(\n",
    "        document_id=document_id,\n",
    "        table_name=referentiel.capitalize(),\n",
    "        columns=[\n",
    "            {\"id\": \"value\", \"fields\": {\"label\": \"valeur\", \"type\": \"Text\"}},\n",
    "            {\"id\": \"label\", \"fields\": {\"label\": \"label\", \"type\": \"Text\"}},\n",
    "        ],\n",
    "    )\n",
    "\n",
    "    referentiel_df = pd.read_csv(\n",
    "        f\"../../../pipeline/dbt/seeds/schema/{referentiel}.csv\",\n",
    "        dtype=str,\n",
    "    )\n",
    "\n",
    "    # attention: pas idempotent\n",
    "\n",
    "    grist_client.add_records(\n",
    "        document_id=document_id,\n",
    "        table_id=table_id,\n",
    "        records=[\n",
    "            {\"fields\": value_dict}\n",
    "            for value_dict in referentiel_df[[\"value\", \"label\"]].to_dict(\n",
    "                orient=\"records\"\n",
    "            )\n",
    "        ],\n",
    "    )"
   ]
  },
  {
   "cell_type": "code",
   "execution_count": null,
   "metadata": {},
   "outputs": [],
   "source": [
    "import re\n",
    "\n",
    "\n",
    "def get_column_type(field) -> str:\n",
    "    match_referentiel = re.search(\n",
    "        r\"data_inclusion.schema.(?P<referentiel>\\w+)\", str(field.annotation)\n",
    "    )\n",
    "\n",
    "    if match_referentiel is not None:\n",
    "        return \"Ref:\" + match_referentiel.group(\"referentiel\").capitalize()\n",
    "    elif \"float\" in str(field.annotation):\n",
    "        return \"Numeric\"\n",
    "    elif \"bool\" in str(field.annotation):\n",
    "        return \"Bool\"\n",
    "    elif \"date\" in str(field.annotation):\n",
    "        return \"DateTime:Europe/Paris\"\n",
    "\n",
    "    return \"Text\""
   ]
  },
  {
   "cell_type": "code",
   "execution_count": null,
   "metadata": {},
   "outputs": [],
   "source": [
    "grist_columns = [\n",
    "    {\n",
    "        \"id\": field_name,\n",
    "        \"fields\": {\n",
    "            \"label\": field_name,\n",
    "            \"type\": get_column_type(field_info),\n",
    "            # \"visibleCol\": TODO\n",
    "        },\n",
    "    }\n",
    "    for field_name, field_info in schema.Structure.model_fields.items()\n",
    "]\n",
    "\n",
    "grist_client.create_table(\n",
    "    document_id=document_id,\n",
    "    table_name=\"Structures\",\n",
    "    columns=grist_columns,\n",
    ")"
   ]
  },
  {
   "cell_type": "code",
   "execution_count": null,
   "metadata": {},
   "outputs": [],
   "source": [
    "grist_columns = [\n",
    "    {\n",
    "        \"id\": field_name,\n",
    "        \"fields\": {\n",
    "            \"label\": field_name,\n",
    "            \"type\": get_column_type(field_info),\n",
    "            # \"visibleCol\": TODO\n",
    "        },\n",
    "    }\n",
    "    for field_name, field_info in schema.Service.model_fields.items()\n",
    "]\n",
    "\n",
    "grist_client.create_table(\n",
    "    document_id=document_id,\n",
    "    table_name=\"Services\",\n",
    "    columns=grist_columns,\n",
    ")\n"
   ]
  }
 ],
 "metadata": {
  "kernelspec": {
   "display_name": ".venv",
   "language": "python",
   "name": "python3"
  },
  "language_info": {
   "codemirror_mode": {
    "name": "ipython",
    "version": 3
   },
   "file_extension": ".py",
   "mimetype": "text/x-python",
   "name": "python",
   "nbconvert_exporter": "python",
   "pygments_lexer": "ipython3",
   "version": "3.10.11"
  }
 },
 "nbformat": 4,
 "nbformat_minor": 2
}
