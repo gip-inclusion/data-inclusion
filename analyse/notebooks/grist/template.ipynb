{
 "cells": [
  {
   "cell_type": "code",
   "execution_count": 9,
   "metadata": {},
   "outputs": [],
   "source": [
    "import os\n",
    "\n",
    "import dotenv\n",
    "import pandas as pd\n"
   ]
  },
  {
   "cell_type": "code",
   "execution_count": 10,
   "metadata": {},
   "outputs": [],
   "source": [
    "# !pip install -e ../../../pipeline\n",
    "\n",
    "from data_inclusion.scripts.tasks import grist\n"
   ]
  },
  {
   "cell_type": "code",
   "execution_count": 11,
   "metadata": {},
   "outputs": [],
   "source": [
    "dotenv.load_dotenv(dotenv.find_dotenv())\n",
    "\n",
    "GRIST_API_TOKEN = os.environ[\"GRIST_API_TOKEN\"]\n",
    "GRIST_API_URL = \"https://grist.incubateur.anct.gouv.fr/api\"\n",
    "WORKSPACE_ID = \"1640\"\n",
    "DOCUMENT_NAME = \"monenfant\"\n"
   ]
  },
  {
   "cell_type": "code",
   "execution_count": 12,
   "metadata": {},
   "outputs": [],
   "source": [
    "grist_client = grist.GristClient(base_url=GRIST_API_URL, token=GRIST_API_TOKEN)\n",
    "\n",
    "document_id = grist_client.create_document(\n",
    "    workspace_id=WORKSPACE_ID, document_name=DOCUMENT_NAME\n",
    ")\n"
   ]
  },
  {
   "cell_type": "code",
   "execution_count": 13,
   "metadata": {},
   "outputs": [
    {
     "data": {
      "text/plain": [
       "{'tables': [{'id': 'Typologie_de_structures'}]}"
      ]
     },
     "execution_count": 13,
     "metadata": {},
     "output_type": "execute_result"
    }
   ],
   "source": [
    "grist_client.create_table(\n",
    "    document_id=document_id,\n",
    "    table_name=\"Typologie_de_structures\",\n",
    "    columns=[\n",
    "        {\"id\": \"value\", \"fields\": {\"label\": \"valeur\", \"type\": \"Text\"}},\n",
    "        {\"id\": \"label\", \"fields\": {\"label\": \"label\", \"type\": \"Text\"}},\n",
    "    ],\n",
    ")\n"
   ]
  },
  {
   "cell_type": "code",
   "execution_count": 14,
   "metadata": {},
   "outputs": [],
   "source": [
    "typologies_df = pd.read_csv(\n",
    "    \"../../../pipeline/dbt/seeds/schema/typologies_de_structures.csv\",\n",
    "    dtype=str,\n",
    ")\n"
   ]
  },
  {
   "cell_type": "code",
   "execution_count": 15,
   "metadata": {},
   "outputs": [
    {
     "data": {
      "text/plain": [
       "<Response [200]>"
      ]
     },
     "execution_count": 15,
     "metadata": {},
     "output_type": "execute_result"
    }
   ],
   "source": [
    "grist_client.add_records(\n",
    "    document_id=document_id,\n",
    "    table_id=\"Typologie_de_structures\",\n",
    "    records=[\n",
    "        {\"fields\": typologie_dict}\n",
    "        for typologie_dict in typologies_df[[\"value\", \"label\"]].to_dict(\n",
    "            orient=\"records\"\n",
    "        )\n",
    "    ],\n",
    ")\n"
   ]
  },
  {
   "cell_type": "code",
   "execution_count": 16,
   "metadata": {},
   "outputs": [
    {
     "data": {
      "text/plain": [
       "{'tables': [{'id': 'Structures'}]}"
      ]
     },
     "execution_count": 16,
     "metadata": {},
     "output_type": "execute_result"
    }
   ],
   "source": [
    "grist_client.create_table(\n",
    "    document_id=document_id,\n",
    "    table_name=\"Structures\",\n",
    "    columns=[\n",
    "        {\n",
    "            \"id\": \"id\",\n",
    "            \"fields\": {\"label\": \"id\", \"type\": \"Text\"},\n",
    "        },\n",
    "        {\n",
    "            \"id\": \"siret\",\n",
    "            \"fields\": {\"label\": \"siret\", \"type\": \"Text\"},\n",
    "        },\n",
    "        {\n",
    "            \"id\": \"rna\",\n",
    "            \"fields\": {\"label\": \"rna\", \"type\": \"Text\"},\n",
    "        },\n",
    "        {\n",
    "            \"id\": \"nom\",\n",
    "            \"fields\": {\"label\": \"nom\", \"type\": \"Text\"},\n",
    "        },\n",
    "        {\n",
    "            \"id\": \"commune\",\n",
    "            \"fields\": {\"label\": \"commune\", \"type\": \"Text\"},\n",
    "        },\n",
    "        {\n",
    "            \"id\": \"code_postal\",\n",
    "            \"fields\": {\"label\": \"code_postal\", \"type\": \"Text\"},\n",
    "        },\n",
    "        {\n",
    "            \"id\": \"code_insee\",\n",
    "            \"fields\": {\"label\": \"code_insee\", \"type\": \"Text\"},\n",
    "        },\n",
    "        {\n",
    "            \"id\": \"adresse\",\n",
    "            \"fields\": {\"label\": \"adresse\", \"type\": \"Text\"},\n",
    "        },\n",
    "        {\n",
    "            \"id\": \"complement_adresse\",\n",
    "            \"fields\": {\"label\": \"complement_adresse\", \"type\": \"Text\"},\n",
    "        },\n",
    "        {\n",
    "            \"id\": \"longitude\",\n",
    "            \"fields\": {\"label\": \"longitude\", \"type\": \"Numeric\"},\n",
    "        },\n",
    "        {\n",
    "            \"id\": \"latitude\",\n",
    "            \"fields\": {\"label\": \"latitude\", \"type\": \"Numeric\"},\n",
    "        },\n",
    "        {\n",
    "            \"id\": \"typologie\",\n",
    "            \"fields\": {\n",
    "                \"label\": \"typologie\",\n",
    "                \"type\": \"Ref:Typologie_de_structures\",\n",
    "            },\n",
    "        },\n",
    "        {\n",
    "            \"id\": \"telephone\",\n",
    "            \"fields\": {\"label\": \"telephone\", \"type\": \"Text\"},\n",
    "        },\n",
    "        {\n",
    "            \"id\": \"courriel\",\n",
    "            \"fields\": {\"label\": \"courriel\", \"type\": \"Text\"},\n",
    "        },\n",
    "        {\n",
    "            \"id\": \"site_web\",\n",
    "            \"fields\": {\"label\": \"site_web\", \"type\": \"Text\"},\n",
    "        },\n",
    "        {\n",
    "            \"id\": \"presentation_resume\",\n",
    "            \"fields\": {\"label\": \"presentation_resume\", \"type\": \"Text\"},\n",
    "        },\n",
    "        {\n",
    "            \"id\": \"presentation_detail\",\n",
    "            \"fields\": {\"label\": \"presentation_detail\", \"type\": \"Text\"},\n",
    "        },\n",
    "        {\n",
    "            \"id\": \"source\",\n",
    "            \"fields\": {\"label\": \"source\", \"type\": \"Text\"},\n",
    "        },\n",
    "        {\n",
    "            \"id\": \"date_maj\",\n",
    "            \"fields\": {\n",
    "                \"label\": \"date_maj\",\n",
    "                \"type\": \"DateTime:Europe/Paris\",\n",
    "            },\n",
    "        },\n",
    "        {\n",
    "            \"id\": \"antenne\",\n",
    "            \"fields\": {\"label\": \"antenne\", \"type\": \"Bool\"},\n",
    "        },\n",
    "        {\n",
    "            \"id\": \"lien_source\",\n",
    "            \"fields\": {\"label\": \"lien_source\", \"type\": \"Text\"},\n",
    "        },\n",
    "        {\n",
    "            \"id\": \"horaires_ouverture\",\n",
    "            \"fields\": {\"label\": \"horaires_ouverture\", \"type\": \"Text\"},\n",
    "        },\n",
    "        {\n",
    "            \"id\": \"accessibilite\",\n",
    "            \"fields\": {\"label\": \"accessibilite\", \"type\": \"Text\"},\n",
    "        },\n",
    "        {\n",
    "            \"id\": \"labels_nationaux\",\n",
    "            \"fields\": {\"label\": \"labels_nationaux\", \"type\": \"Text\"},\n",
    "        },\n",
    "        {\n",
    "            \"id\": \"labels_autres\",\n",
    "            \"fields\": {\"label\": \"labels_autres\", \"type\": \"Text\"},\n",
    "        },\n",
    "        {\n",
    "            \"id\": \"thematiques\",\n",
    "            \"fields\": {\"label\": \"thematiques\", \"type\": \"Text\"},\n",
    "        },\n",
    "    ],\n",
    ")\n",
    "# TODO: services\n"
   ]
  }
 ],
 "metadata": {
  "kernelspec": {
   "display_name": ".venv",
   "language": "python",
   "name": "python3"
  },
  "language_info": {
   "codemirror_mode": {
    "name": "ipython",
    "version": 3
   },
   "file_extension": ".py",
   "mimetype": "text/x-python",
   "name": "python",
   "nbconvert_exporter": "python",
   "pygments_lexer": "ipython3",
   "version": "3.10.11"
  },
  "orig_nbformat": 4
 },
 "nbformat": 4,
 "nbformat_minor": 2
}
