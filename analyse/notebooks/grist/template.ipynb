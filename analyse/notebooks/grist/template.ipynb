{
 "cells": [
  {
   "cell_type": "code",
   "execution_count": null,
   "metadata": {},
   "outputs": [],
   "source": [
    "from collections import defaultdict\n",
    "from datetime import datetime\n",
    "import os\n",
    "\n",
    "import dotenv\n",
    "import pandas as pd\n"
   ]
  },
  {
   "cell_type": "code",
   "execution_count": null,
   "metadata": {},
   "outputs": [],
   "source": [
    "# !pip install -e ../../../pipeline\n",
    "# !pip install -e ../../../../data-inclusion-schema\n",
    "\n",
    "from data_inclusion.scripts.tasks import grist\n",
    "from data_inclusion.schema.models import Service\n"
   ]
  },
  {
   "cell_type": "code",
   "execution_count": null,
   "metadata": {},
   "outputs": [],
   "source": [
    "dotenv.load_dotenv(dotenv.find_dotenv())\n",
    "\n",
    "GRIST_API_TOKEN = os.environ[\"GRIST_API_TOKEN\"]\n",
    "GRIST_API_URL = \"https://grist.incubateur.anct.gouv.fr/api\"\n",
    "WORKSPACE_ID = \"1640\"\n",
    "DOCUMENT_NAME = \"monenfant\"\n"
   ]
  },
  {
   "cell_type": "code",
   "execution_count": null,
   "metadata": {},
   "outputs": [],
   "source": [
    "grist_client = grist.GristClient(base_url=GRIST_API_URL, token=GRIST_API_TOKEN)\n",
    "\n",
    "document_id = grist_client.create_document(\n",
    "    workspace_id=WORKSPACE_ID, document_name=DOCUMENT_NAME\n",
    ")\n"
   ]
  },
  {
   "cell_type": "code",
   "execution_count": null,
   "metadata": {},
   "outputs": [],
   "source": [
    "grist_client.create_table(\n",
    "    document_id=document_id,\n",
    "    table_name=\"Typologie_de_structures\",\n",
    "    columns=[\n",
    "        {\"id\": \"value\", \"fields\": {\"label\": \"valeur\", \"type\": \"Text\"}},\n",
    "        {\"id\": \"label\", \"fields\": {\"label\": \"label\", \"type\": \"Text\"}},\n",
    "    ],\n",
    ")\n"
   ]
  },
  {
   "cell_type": "code",
   "execution_count": null,
   "metadata": {},
   "outputs": [],
   "source": [
    "typologies_df = pd.read_csv(\n",
    "    \"../../../pipeline/dbt/seeds/schema/typologies_de_structures.csv\",\n",
    "    dtype=str,\n",
    ")\n"
   ]
  },
  {
   "cell_type": "code",
   "execution_count": null,
   "metadata": {},
   "outputs": [],
   "source": [
    "# attention: pas idempotent\n",
    "\n",
    "grist_client.add_records(\n",
    "    document_id=document_id,\n",
    "    table_id=\"Typologie_de_structures\",\n",
    "    records=[\n",
    "        {\"fields\": typologie_dict}\n",
    "        for typologie_dict in typologies_df[[\"value\", \"label\"]].to_dict(\n",
    "            orient=\"records\"\n",
    "        )\n",
    "    ],\n",
    ")\n"
   ]
  },
  {
   "cell_type": "code",
   "execution_count": null,
   "metadata": {},
   "outputs": [],
   "source": [
    "grist_client.create_table(\n",
    "    document_id=document_id,\n",
    "    table_name=\"Structures\",\n",
    "    columns=[\n",
    "        {\n",
    "            \"id\": value.name,\n",
    "            \"fields\": {\n",
    "                \"label\": value.name,\n",
    "                \"type\": defaultdict(\n",
    "                    lambda: \"Text\",\n",
    "                    **{\n",
    "                        \"longitude\": \"Numeric\",\n",
    "                        \"latitude\": \"Numeric\",\n",
    "                        \"date_maj\": \"DateTime:Europe/Paris\",\n",
    "                        \"typologie\": \"Ref:Typologie_de_structures\",\n",
    "                        \"antenne\": \"Bool\",\n",
    "                    },\n",
    "                )[value.type_.__name__],\n",
    "            },\n",
    "        }\n",
    "        for _, value in Service.__fields__.items()\n",
    "    ],\n",
    ")\n"
   ]
  },
  {
   "cell_type": "code",
   "execution_count": null,
   "metadata": {},
   "outputs": [],
   "source": [
    "grist_client.create_table(\n",
    "    document_id=document_id,\n",
    "    table_name=\"Services\",\n",
    "    columns=[\n",
    "        {\n",
    "            \"id\": value.name,\n",
    "            \"fields\": {\n",
    "                \"label\": value.name,\n",
    "                \"type\": defaultdict(\n",
    "                    lambda: \"Text\",\n",
    "                    **{\n",
    "                        \"cumulable\": \"Bool\",\n",
    "                        \"contact_public\": \"Bool\",\n",
    "                        \"longitude\": \"Numeric\",\n",
    "                        \"latitude\": \"Numeric\",\n",
    "                        \"date_creation\": \"DateTime:Europe/Paris\",\n",
    "                        \"date_suspension\": \"DateTime:Europe/Paris\",\n",
    "                        \"date_maj\": \"DateTime:Europe/Paris\",\n",
    "                    },\n",
    "                )[value.type_.__name__],\n",
    "            },\n",
    "        }\n",
    "        for _, value in Service.__fields__.items()\n",
    "    ],\n",
    ")\n"
   ]
  }
 ],
 "metadata": {
  "kernelspec": {
   "display_name": ".venv",
   "language": "python",
   "name": "python3"
  },
  "language_info": {
   "codemirror_mode": {
    "name": "ipython",
    "version": 3
   },
   "file_extension": ".py",
   "mimetype": "text/x-python",
   "name": "python",
   "nbconvert_exporter": "python",
   "pygments_lexer": "ipython3",
   "version": "3.10.11"
  }
 },
 "nbformat": 4,
 "nbformat_minor": 2
}
