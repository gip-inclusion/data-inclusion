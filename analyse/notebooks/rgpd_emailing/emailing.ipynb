{
 "cells": [
  {
   "cell_type": "code",
   "execution_count": null,
   "metadata": {},
   "outputs": [],
   "source": [
    "import sib_api_v3_sdk\n",
    "from sib_api_v3_sdk.rest import ApiException\n",
    "import dotenv\n",
    "import os\n",
    "import pandas as pd\n",
    "dotenv.load_dotenv(dotenv.find_dotenv())"
   ]
  },
  {
   "cell_type": "code",
   "execution_count": null,
   "metadata": {},
   "outputs": [],
   "source": [
    "# Get the list of emails from a one-column CSV\n",
    "EMAIL_FILE_PATH = os.getenv(\"RGPD_EMAIL_CSV_FILE_PATH\")\n",
    "\n",
    "# The source where the emails come from (a pipeline source ID)\n",
    "EMAIL_SOURCE=os.getenv('RGPD_EMAIL_SOURCE')\n",
    "\n",
    "df_emails = pd.read_csv(EMAIL_FILE_PATH, index_col=None, dtype=str)\n",
    "df_emails[\"SOURCE\"] = EMAIL_SOURCE\n",
    "print(df_emails.info())\n",
    "\n",
    "emails_as_csv = df_emails.to_csv(index=None, sep=\";\")\n",
    "print(emails_as_csv)"
   ]
  },
  {
   "cell_type": "code",
   "execution_count": null,
   "metadata": {},
   "outputs": [],
   "source": [
    "# IMPORTING CONTACTS INTO BREVO\n",
    "# https://app.brevo.com/contact/list/id/77\n",
    "\n",
    "configuration = sib_api_v3_sdk.Configuration()\n",
    "configuration.api_key['api-key'] = os.environ[\"BREVO_API_KEY\"]\n",
    "\n",
    "# Check the API key is available (should be in analyse/.env at BREVO_API_KEY)\n",
    "assert configuration.api_key['api-key'] != \"\"\n",
    "\n",
    "# Documentation for import contacts: https://developers.brevo.com/reference/importcontacts-1\n",
    "api_instance = sib_api_v3_sdk.ContactsApi(sib_api_v3_sdk.ApiClient(configuration))\n",
    "request_contact_import = sib_api_v3_sdk.RequestContactImport()\n",
    "request_contact_import.file_body = emails_as_csv\n",
    "request_contact_import.list_ids = [77]\n",
    "request_contact_import.email_blacklist = False\n",
    "request_contact_import.sms_blacklist = False\n",
    "request_contact_import.update_existing_contacts = True\n",
    "request_contact_import.empty_contacts_attributes = False\n",
    "\n",
    "try:\n",
    "    api_response = api_instance.import_contacts(request_contact_import)\n",
    "    print(api_response)\n",
    "except ApiException as e:\n",
    "    print(\"Exception when calling ContactsApi->import_contacts: %s\\n\" % e)"
   ]
  }
 ],
 "metadata": {
  "kernelspec": {
   "display_name": ".venv",
   "language": "python",
   "name": "python3"
  },
  "language_info": {
   "codemirror_mode": {
    "name": "ipython",
    "version": 3
   },
   "file_extension": ".py",
   "mimetype": "text/x-python",
   "name": "python",
   "nbconvert_exporter": "python",
   "pygments_lexer": "ipython3",
   "version": "3.10.12"
  }
 },
 "nbformat": 4,
 "nbformat_minor": 2
}
