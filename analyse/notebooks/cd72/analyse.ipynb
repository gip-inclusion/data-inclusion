{
 "cells": [
  {
   "cell_type": "code",
   "execution_count": null,
   "metadata": {},
   "outputs": [],
   "source": [
    "import os\n",
    "\n",
    "import matplotlib.pyplot as plt\n",
    "import numpy as np\n",
    "import pandas as pd\n",
    "import dotenv"
   ]
  },
  {
   "cell_type": "code",
   "execution_count": null,
   "metadata": {},
   "outputs": [],
   "source": [
    "pd.options.display.max_rows = None\n",
    "pd.options.display.max_columns = None\n",
    "plt.rc(\"figure\", figsize=[12, 8])"
   ]
  },
  {
   "cell_type": "code",
   "execution_count": null,
   "metadata": {},
   "outputs": [],
   "source": [
    "dotenv.load_dotenv(dotenv.find_dotenv())\n",
    "\n",
    "df = pd.read_excel(\n",
    "    os.environ[\"CD72_FILE_URL\"], sheet_name=\"Structures\", dtype=str\n",
    ").replace([np.nan, \"\"], None)\n"
   ]
  },
  {
   "cell_type": "code",
   "execution_count": null,
   "metadata": {},
   "outputs": [],
   "source": [
    "df.sample(5)"
   ]
  },
  {
   "cell_type": "markdown",
   "metadata": {},
   "source": [
    "### id"
   ]
  },
  {
   "cell_type": "code",
   "execution_count": null,
   "metadata": {},
   "outputs": [],
   "source": [
    "df.shape[0]"
   ]
  },
  {
   "cell_type": "code",
   "execution_count": null,
   "metadata": {},
   "outputs": [],
   "source": [
    "df[df[\"ID Structure\"].isna()]"
   ]
  },
  {
   "cell_type": "code",
   "execution_count": null,
   "metadata": {},
   "outputs": [],
   "source": [
    "df[\"ID Structure\"].nunique()"
   ]
  },
  {
   "cell_type": "markdown",
   "metadata": {},
   "source": [
    "### siret"
   ]
  },
  {
   "cell_type": "code",
   "execution_count": null,
   "metadata": {},
   "outputs": [],
   "source": [
    "df[\"SIRET\"].isna().sum()"
   ]
  },
  {
   "cell_type": "code",
   "execution_count": null,
   "metadata": {},
   "outputs": [],
   "source": [
    "df[\"SIRET\"].nunique()"
   ]
  },
  {
   "cell_type": "code",
   "execution_count": null,
   "metadata": {},
   "outputs": [],
   "source": [
    "df[\"SIRET\"].sample(10)"
   ]
  },
  {
   "cell_type": "code",
   "execution_count": null,
   "metadata": {},
   "outputs": [],
   "source": [
    "df[\"SIRET\"].value_counts().head()"
   ]
  },
  {
   "cell_type": "code",
   "execution_count": null,
   "metadata": {},
   "outputs": [],
   "source": [
    "df[df[\"SIRET\"].duplicated(keep=False) & df[\"SIRET\"].notna()]"
   ]
  },
  {
   "cell_type": "markdown",
   "metadata": {},
   "source": [
    "### nom"
   ]
  },
  {
   "cell_type": "code",
   "execution_count": null,
   "metadata": {},
   "outputs": [],
   "source": [
    "df[\"Nom Structure\"].sample(20).to_frame()"
   ]
  },
  {
   "cell_type": "code",
   "execution_count": null,
   "metadata": {},
   "outputs": [],
   "source": [
    "df[\"Nom Structure\"].duplicated().sum()"
   ]
  },
  {
   "cell_type": "code",
   "execution_count": null,
   "metadata": {},
   "outputs": [],
   "source": [
    "df[\"Nom Structure\"].isna().sum()"
   ]
  },
  {
   "cell_type": "markdown",
   "metadata": {},
   "source": [
    "### commune"
   ]
  },
  {
   "cell_type": "code",
   "execution_count": null,
   "metadata": {},
   "outputs": [],
   "source": [
    "df[\"Ville\"].isna().sum()"
   ]
  },
  {
   "cell_type": "code",
   "execution_count": null,
   "metadata": {},
   "outputs": [],
   "source": [
    "df[df[\"Ville\"].map(lambda s: \"cedex\" in s.lower() if s is not None else False)][\"Ville\"]"
   ]
  },
  {
   "cell_type": "markdown",
   "metadata": {},
   "source": [
    "### code_postal"
   ]
  },
  {
   "cell_type": "code",
   "execution_count": null,
   "metadata": {},
   "outputs": [],
   "source": [
    "df[\"Code postal\"].value_counts().head(10).to_frame()"
   ]
  },
  {
   "cell_type": "code",
   "execution_count": null,
   "metadata": {},
   "outputs": [],
   "source": [
    "df[\"Code postal\"].sample(20).to_frame()"
   ]
  },
  {
   "cell_type": "code",
   "execution_count": null,
   "metadata": {},
   "outputs": [],
   "source": [
    "df[df[\"Code postal\"].isna()][[\"Adresse\", \"Code postal\", \"Ville\", \"Nom Structure\"]]"
   ]
  },
  {
   "cell_type": "markdown",
   "metadata": {},
   "source": [
    "Quelques structures sans données adresses"
   ]
  },
  {
   "cell_type": "markdown",
   "metadata": {},
   "source": [
    "### code_insee"
   ]
  },
  {
   "cell_type": "markdown",
   "metadata": {},
   "source": [
    "à géocoder"
   ]
  },
  {
   "cell_type": "markdown",
   "metadata": {},
   "source": [
    "### adresse"
   ]
  },
  {
   "cell_type": "code",
   "execution_count": null,
   "metadata": {},
   "outputs": [],
   "source": [
    "df[\"Adresse\"].isna().sum()"
   ]
  },
  {
   "cell_type": "code",
   "execution_count": null,
   "metadata": {},
   "outputs": [],
   "source": [
    "df[\"Adresse\"].sample(20).to_frame()"
   ]
  },
  {
   "cell_type": "markdown",
   "metadata": {},
   "source": [
    "### complement_adresse"
   ]
  },
  {
   "cell_type": "markdown",
   "metadata": {},
   "source": [
    "### longitude"
   ]
  },
  {
   "cell_type": "markdown",
   "metadata": {},
   "source": [
    "### latitude"
   ]
  },
  {
   "cell_type": "markdown",
   "metadata": {},
   "source": [
    "absents"
   ]
  },
  {
   "cell_type": "markdown",
   "metadata": {},
   "source": [
    "### typologie"
   ]
  },
  {
   "cell_type": "code",
   "execution_count": null,
   "metadata": {},
   "outputs": [],
   "source": [
    "df[\"Type de structure\"].value_counts().to_frame()"
   ]
  },
  {
   "cell_type": "code",
   "execution_count": null,
   "metadata": {},
   "outputs": [],
   "source": [
    "df[\"Typologie structure\"].value_counts().to_frame()"
   ]
  },
  {
   "cell_type": "code",
   "execution_count": null,
   "metadata": {},
   "outputs": [],
   "source": [
    "df[df[\"Typologie structure\"].isna()]"
   ]
  },
  {
   "cell_type": "code",
   "execution_count": null,
   "metadata": {},
   "outputs": [],
   "source": [
    "from data_inclusion.schema import models\n",
    "\n",
    "di_typologie_by_input_typologie = {\n",
    "        \"Associations\": models.Typologie.ASSO,\n",
    "        \"Autre\": models.Typologie.Autre,\n",
    "        \"Organisme de formations\": models.Typologie.OF,\n",
    "        \"Structures porteuses d’ateliers et chantiers d’insertion (ACI)\": models.Typologie.ACI,\n",
    "        \"Pôle emploi\": models.Typologie.PE,\n",
    "        \"Centre social\": models.Typologie.CS,\n",
    "        \"Centres communaux d’action sociale (CCAS)\": models.Typologie.CCAS,\n",
    "        \"Communautés de Commune\": models.Typologie.CC,\n",
    "        \"Groupements d'employeurs pour l'insertion et la qualification (GEIQ)\": models.Typologie.GEIQ,\n",
    "        \"Municipalités\": models.Typologie.MUNI,\n",
    "        \"Entreprise d'insertion (EI)\": models.Typologie.EI,\n",
    "        \"Associations intermédiaires (AI)\": models.Typologie.AI,\n",
    "        \"Maison de quartier\": models.Typologie.MQ,\n",
    "        \"Mission Locale\": models.Typologie.ML,\n",
    "        \"Maison des jeunes et de la culture\": models.Typologie.MJC,\n",
    "        \"Résidence sociale / FJT - Foyer de Jeunes Travailleurs\": models.Typologie.RS_FJT,\n",
    "        \"Entreprise de travail temporaire d'insertion (ETTI)\": models.Typologie.ETTI,\n",
    "        \"Points et bureaux information jeunesse (PIJ/BIJ)\": models.Typologie.PIJ_BIJ,\n",
    "        \"Chambres consulaires (CCI, CMA, CA)\": models.Typologie.Autre,\n",
    "        \"Directions de l’Economie, de l’Emploi, du Travail et des Solidarités (DEETS)\": models.Typologie.DEETS,\n",
    "        \"Plans locaux pour l’insertion et l’emploi (PLIE)\": models.Typologie.PLIE,\n",
    "        \"Bibliothèque / Médiathèque\": models.Typologie.BIB,\n",
    "        \"Centres d’information sur les droits des femmes et des familles (CIDFF)\": models.Typologie.CIDFF,\n",
    "        \"Conseils Départementaux (CD)\": models.Typologie.CD,\n",
    "        \"Caisses d’allocation familiale (CAF)\": models.Typologie.CAF,\n",
    "        \"Agence nationale pour la formation professionnelle des adultes (AFPA)\": models.Typologie.AFPA,\n",
    "        \"Préfecture, Sous-Préfecture\": models.Typologie.PREF,\n",
    "        \"Région\": models.Typologie.REG,\n",
    "        \"Services pénitentiaires d’insertion et de probation (SPIP)\": models.Typologie.SPIP,\n",
    "        \"Union Départementale d’Aide aux Familles (UDAF)\": models.Typologie.UDAF,\n",
    "        None: models.Typologie.Autre,\n",
    "    }\n",
    "\n",
    "df[\"Typologie structure\"].map(di_typologie_by_input_typologie).value_counts().to_frame()"
   ]
  },
  {
   "cell_type": "markdown",
   "metadata": {},
   "source": [
    "### telephone"
   ]
  },
  {
   "cell_type": "code",
   "execution_count": null,
   "metadata": {},
   "outputs": [],
   "source": [
    "df[\"Téléphone accueil\"].isna().sum()"
   ]
  },
  {
   "cell_type": "code",
   "execution_count": null,
   "metadata": {},
   "outputs": [],
   "source": [
    "df[df[\"Téléphone accueil\"].isna() & df[\"Téléphone principal\"].notna()][[\"Téléphone principal\"]]"
   ]
  },
  {
   "cell_type": "code",
   "execution_count": null,
   "metadata": {},
   "outputs": [],
   "source": [
    "df[[\"Téléphone accueil\", \"Téléphone principal\"]].sample(10)"
   ]
  },
  {
   "cell_type": "markdown",
   "metadata": {},
   "source": [
    "Prendre en prio l'accueil puis le principal"
   ]
  },
  {
   "cell_type": "markdown",
   "metadata": {},
   "source": [
    "### courriel"
   ]
  },
  {
   "cell_type": "code",
   "execution_count": null,
   "metadata": {},
   "outputs": [],
   "source": [
    "df[df[\"E-mail accueil\"].notna()][\"E-mail accueil\"].sample(10)"
   ]
  },
  {
   "cell_type": "code",
   "execution_count": null,
   "metadata": {},
   "outputs": [],
   "source": [
    "df[\"E-mail accueil\"].isna().sum()"
   ]
  },
  {
   "cell_type": "markdown",
   "metadata": {},
   "source": [
    "### site_web"
   ]
  },
  {
   "cell_type": "code",
   "execution_count": null,
   "metadata": {},
   "outputs": [],
   "source": [
    "df[\"Site Internet\"].isna().sum()"
   ]
  },
  {
   "cell_type": "code",
   "execution_count": null,
   "metadata": {},
   "outputs": [],
   "source": [
    "df[df[\"Site Internet\"].notna()][\"Site Internet\"].sample(10).to_frame()"
   ]
  },
  {
   "cell_type": "markdown",
   "metadata": {},
   "source": [
    "### presentation_resume"
   ]
  },
  {
   "cell_type": "code",
   "execution_count": null,
   "metadata": {},
   "outputs": [],
   "source": [
    "df[df[\"Description\"].notna()][\"Description\"].map(lambda s: len(s) > 280).sum()"
   ]
  },
  {
   "cell_type": "markdown",
   "metadata": {},
   "source": [
    "### presentation_detail"
   ]
  },
  {
   "cell_type": "markdown",
   "metadata": {},
   "source": [
    "### date_maj"
   ]
  },
  {
   "cell_type": "code",
   "execution_count": null,
   "metadata": {},
   "outputs": [],
   "source": [
    "df[\"Mis à jour le :\"].isna().sum()"
   ]
  },
  {
   "cell_type": "code",
   "execution_count": null,
   "metadata": {},
   "outputs": [],
   "source": [
    "from dateutil.parser import parse\n",
    "\n",
    "df[\"Mis à jour le :\"].map(lambda s: parse(s) if s is not None else None).hist(bins=100)\n"
   ]
  },
  {
   "cell_type": "markdown",
   "metadata": {},
   "source": [
    "### structure_parente"
   ]
  },
  {
   "cell_type": "markdown",
   "metadata": {},
   "source": [
    "### lien_source"
   ]
  },
  {
   "cell_type": "markdown",
   "metadata": {},
   "source": [
    "### horaires_ouverture"
   ]
  },
  {
   "cell_type": "code",
   "execution_count": null,
   "metadata": {},
   "outputs": [],
   "source": [
    "df[df[\"Horaires\"].notna()][\"Horaires\"].to_frame().sample(10)"
   ]
  },
  {
   "cell_type": "markdown",
   "metadata": {},
   "source": [
    "### accessibilite"
   ]
  },
  {
   "cell_type": "markdown",
   "metadata": {},
   "source": [
    "### labels_nationaux"
   ]
  },
  {
   "cell_type": "markdown",
   "metadata": {},
   "source": [
    "### labels_autres"
   ]
  },
  {
   "cell_type": "markdown",
   "metadata": {},
   "source": [
    "### thematiques"
   ]
  },
  {
   "cell_type": "markdown",
   "metadata": {},
   "source": [
    "SIRETs dupliqués ?"
   ]
  },
  {
   "cell_type": "code",
   "execution_count": null,
   "metadata": {},
   "outputs": [],
   "source": [
    "df[\"SIRET\"].value_counts().head(10).to_frame()"
   ]
  },
  {
   "cell_type": "markdown",
   "metadata": {},
   "source": [
    "taux de remplissage des champs"
   ]
  },
  {
   "cell_type": "code",
   "execution_count": null,
   "metadata": {},
   "outputs": [],
   "source": [
    "def compute_field_occupancy_rates(df):\n",
    "    return ((1 - df.isnull().sum() / df.shape[0]) * 100).sort_values(ascending=False)"
   ]
  },
  {
   "cell_type": "code",
   "execution_count": null,
   "metadata": {},
   "outputs": [],
   "source": [
    "compute_field_occupancy_rates(df).to_frame()"
   ]
  }
 ],
 "metadata": {
  "kernelspec": {
   "display_name": "Python 3.10.4 ('.venv': venv)",
   "language": "python",
   "name": "python3"
  },
  "language_info": {
   "codemirror_mode": {
    "name": "ipython",
    "version": 3
   },
   "file_extension": ".py",
   "mimetype": "text/x-python",
   "name": "python",
   "nbconvert_exporter": "python",
   "pygments_lexer": "ipython3",
   "version": "3.10.4 (main, Apr 24 2022, 15:44:04) [GCC 11.2.0]"
  },
  "vscode": {
   "interpreter": {
    "hash": "5c59c3774541e2228ee548c093b471ded1573b3beb617fa2a9d607b090635324"
   }
  }
 },
 "nbformat": 4,
 "nbformat_minor": 2
}
