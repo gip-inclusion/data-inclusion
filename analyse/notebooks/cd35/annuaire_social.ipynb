{
 "cells": [
  {
   "cell_type": "code",
   "execution_count": null,
   "id": "4cd03fc3",
   "metadata": {},
   "outputs": [],
   "source": [
    "import os\n",
    "\n",
    "import dotenv\n",
    "import numpy as np\n",
    "import pandas as pd\n"
   ]
  },
  {
   "cell_type": "code",
   "execution_count": null,
   "id": "7211ba2b",
   "metadata": {},
   "outputs": [],
   "source": [
    "pd.options.display.max_rows = None\n",
    "pd.options.display.max_columns = None"
   ]
  },
  {
   "cell_type": "code",
   "execution_count": null,
   "id": "ebf55fb8",
   "metadata": {},
   "outputs": [],
   "source": [
    "dotenv.load_dotenv(dotenv.find_dotenv())"
   ]
  },
  {
   "cell_type": "markdown",
   "id": "769a1643",
   "metadata": {},
   "source": [
    "## état du fichier\n",
    "\n",
    "* des mauvaises lignes\n",
    "* utf-8 mais des éléments non reconnus\n",
    "* orienté structures\n",
    "* des institutions publiques à priori\n",
    "* pas de SIRET, de SIREN ou de code_insee\n",
    "* contact plutôt bien renseigné"
   ]
  },
  {
   "cell_type": "code",
   "execution_count": null,
   "id": "fa2a2769",
   "metadata": {},
   "outputs": [],
   "source": [
    "df = pd.read_csv(\n",
    "    os.environ[\"CD35_FILE_URL\"],\n",
    "    sep=\";\",\n",
    "    encoding_errors=\"replace\",\n",
    "    on_bad_lines=\"warn\",\n",
    "    dtype=str,\n",
    ")\n",
    "df = df.replace([\"\", np.nan], None)\n",
    "df.sample(5)\n"
   ]
  },
  {
   "cell_type": "markdown",
   "id": "280f381d",
   "metadata": {},
   "source": [
    "#### Nombre de lignes"
   ]
  },
  {
   "cell_type": "code",
   "execution_count": null,
   "id": "08a6c77d",
   "metadata": {},
   "outputs": [],
   "source": [
    "df.shape[0]"
   ]
  },
  {
   "cell_type": "markdown",
   "id": "ee752efe",
   "metadata": {},
   "source": [
    "#### Taux de remplissage des champs"
   ]
  },
  {
   "cell_type": "code",
   "execution_count": null,
   "id": "4da1947c",
   "metadata": {},
   "outputs": [],
   "source": [
    "def compute_field_occupancy_rates(df):\n",
    "    return ((1 - df.isnull().sum() / df.shape[0]) * 100).sort_values(ascending=False)"
   ]
  },
  {
   "cell_type": "code",
   "execution_count": null,
   "id": "99634222",
   "metadata": {},
   "outputs": [],
   "source": [
    "# taux de remplissage des champs\n",
    "compute_field_occupancy_rates(df).to_frame()"
   ]
  },
  {
   "cell_type": "markdown",
   "id": "3f0423a8",
   "metadata": {},
   "source": [
    "## typologie de structure\n",
    "\n",
    "via `ORG_SIGLE`\n",
    "\n",
    "problèmes:\n",
    "* présent à 69%\n",
    "* beaucoup de valeurs cependant."
   ]
  },
  {
   "cell_type": "code",
   "execution_count": null,
   "id": "28a9ac03",
   "metadata": {},
   "outputs": [],
   "source": [
    "# les 20 sigles les + fréquents\n",
    "df.ORG_SIGLE.value_counts(dropna=False)[:20].to_frame()"
   ]
  },
  {
   "cell_type": "code",
   "execution_count": null,
   "id": "4fe2559c",
   "metadata": {},
   "outputs": [],
   "source": [
    "df.ORG_DESC.str.len().median()"
   ]
  },
  {
   "cell_type": "markdown",
   "id": "821f0df5",
   "metadata": {},
   "source": [
    "### Départements"
   ]
  },
  {
   "cell_type": "code",
   "execution_count": null,
   "id": "6bd60658",
   "metadata": {},
   "outputs": [],
   "source": [
    "df.ORG_CP.map(lambda x: str(int(x))[:2] if not pd.isna(x) else x).value_counts(dropna=False).to_frame()"
   ]
  },
  {
   "cell_type": "code",
   "execution_count": null,
   "id": "dc983a13",
   "metadata": {},
   "outputs": [],
   "source": [
    "categories_flags_structures_df = df.apply(\n",
    "    lambda row: {\n",
    "        \"pmi\": (\"maternelle\" in row.ORG_NOM.lower() and \"infantile\" in row.ORG_NOM.lower()) or \"pmi\" in row.ORG_NOM.lower(),\n",
    "        \"ccas\": pd.notnull(row.ORG_SIGLE) and \"CCAS\" == row.ORG_SIGLE,\n",
    "        \"saad\": pd.notnull(row.ORG_SIGLE) and \"SAAD\" == row.ORG_SIGLE,\n",
    "        \"ehpad\": pd.notnull(row.ORG_SIGLE) and \"EHPAD\" == row.ORG_SIGLE,\n",
    "        \"epiceries\": \"épiceries\" in row.ORG_NOM.lower(),\n",
    "        \"admr\": \"admr\" in row.ORG_NOM.lower(),\n",
    "        \"cmp\": \"cmpp\" in row.ORG_NOM.lower() or (\"centre\" in row.ORG_NOM.lower() and \"psycho\" in row.ORG_NOM.lower()),\n",
    "        \"espace_jeux\": \"espace\" in row.ORG_NOM.lower() and \"jeu\" in row.ORG_NOM.lower(),\n",
    "        \"halte_garderie\": \"halte-garderie\" in row.ORG_NOM.lower(),\n",
    "        \"mairie\": \"mairie\" in row.ORG_NOM.lower(),\n",
    "        \"pae\": \"pae\" in row.ORG_NOM.lower(),\n",
    "        \"crèche\": \"crèche\" in row.ORG_NOM.lower(),\n",
    "        \"sessad\": \"sessad\" in row.ORG_NOM.lower(),\n",
    "    },\n",
    "    axis=\"columns\",\n",
    "    result_type=\"expand\",\n",
    ")\n",
    "\n",
    "df[~categories_flags_structures_df.any(axis=\"columns\")].sort_values(\"ORG_NOM\").sample(10)"
   ]
  },
  {
   "cell_type": "code",
   "execution_count": null,
   "id": "8c7b869e",
   "metadata": {},
   "outputs": [],
   "source": [
    "categories_flags_structures_df.sum().sort_values(ascending=False).plot(\n",
    "    kind=\"bar\", grid=True, rot=35, figsize=(20, 8)\n",
    ")"
   ]
  }
 ],
 "metadata": {
  "kernelspec": {
   "display_name": "Python 3 (ipykernel)",
   "language": "python",
   "name": "python3"
  },
  "language_info": {
   "codemirror_mode": {
    "name": "ipython",
    "version": 3
   },
   "file_extension": ".py",
   "mimetype": "text/x-python",
   "name": "python",
   "nbconvert_exporter": "python",
   "pygments_lexer": "ipython3",
   "version": "3.10.4 (main, Apr 24 2022, 15:44:04) [GCC 11.2.0]"
  },
  "vscode": {
   "interpreter": {
    "hash": "5c59c3774541e2228ee548c093b471ded1573b3beb617fa2a9d607b090635324"
   }
  }
 },
 "nbformat": 4,
 "nbformat_minor": 5
}
