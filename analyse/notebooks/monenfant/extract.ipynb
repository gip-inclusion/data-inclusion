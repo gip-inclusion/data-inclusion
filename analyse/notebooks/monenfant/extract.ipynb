{
 "cells": [
  {
   "attachments": {},
   "cell_type": "markdown",
   "metadata": {},
   "source": [
    "# Extraction des données monenfant.fr\n",
    "\n",
    "L'extraction se fait manuellement à partir de la [recherche du site de monenfant.fr](https://monenfant.fr/que-recherchez-vous/).\n",
    "\n",
    "Il faut :\n",
    "\n",
    "* ouvrir préalablemet la console du navigateur sur la page \"network\",\n",
    "* sélectionner une catégorie (e.g. \"Mode d'accueil\") puis une typologie (e.g. Crêches),\n",
    "* remplir le captcha,\n",
    "* indiquer une ville et augmenter le rayon de recherche (30km),\n",
    "* lancer la recherche,\n",
    "* dans la console du navigateur, repérer l'appel à la ressource `que-recherchez-vous` qui contient les résultats au format json (généralement le dernier et le plus gros),\n",
    "* sauvegarder la réponse au format json dans le dossier `data` de ce dossier.\n",
    "\n",
    "La recherche :\n",
    "\n",
    "* se fait autour d'une ville, dans un rayon de 30km maximum,\n",
    "* est limitée à 2000 résultats.\n",
    "\n",
    "Donc, pour récupérer les données pour un département:\n",
    "\n",
    "* faire plusieurs recherches pour des villes qui permettent de recouvrir le département,\n",
    "* fusionner les résultats,\n",
    "* filtrer les résultats pour exclure les données qui ne sont pas dans le département visé.\n"
   ]
  },
  {
   "attachments": {},
   "cell_type": "markdown",
   "metadata": {},
   "source": [
    "| département  | villes à rechercher                          |\n",
    "|--------------|----------------------------------------------|\n",
    "| Essonne      | Etampes, Arpajon                             |\n",
    "| Aude         | Bram, Lagrasse, Peyriac-de-Mer, Quillan       |\n",
    "| Drôme        | Peyrins, Bouvante, Crest, Taulignan, Séderon |\n",
    "| Haute-Savoie | Annecy, Onnion, Passy                        |"
   ]
  },
  {
   "cell_type": "code",
   "execution_count": null,
   "metadata": {},
   "outputs": [],
   "source": [
    "import json\n",
    "from pathlib import Path\n",
    "\n",
    "import pandas as pd\n"
   ]
  },
  {
   "cell_type": "code",
   "execution_count": null,
   "metadata": {},
   "outputs": [],
   "source": [
    "import requests\n",
    "import time\n",
    "from datetime import datetime\n",
    "\n",
    "now = datetime.now()\n",
    "today = now.strftime(\"%d/%m/%Y\")\n",
    "\n",
    "\n",
    "def get_creche(row) -> dict:\n",
    "    url = \"https://monenfant.fr/web/guest/que-recherchez-vous?p_p_id=fr_monenfant_recherche_portlet_RecherchePortlet_INSTANCE_VnedXuapLnSM&p_p_lifecycle=2&p_p_state=normal&p_p_mode=view&p_p_resource_id=%2Frecherche%2Frechercher&p_p_cacheability=cacheLevelPage&_fr_monenfant_recherche_portlet_RecherchePortlet_INSTANCE_VnedXuapLnSM_cmd=get_structure_details\"\n",
    "\n",
    "    headers = {\n",
    "        \"User-Agent\": \"data.inclusion@beta.gouv.fr\",\n",
    "        \"Accept\": \"application/json, text/javascript, */*; q=0.01\",\n",
    "        \"Accept-Language\": \"fr,en-US;q=0.7,en;q=0.3\",\n",
    "        \"Content-Type\": \"application/x-www-form-urlencoded; charset=UTF-8\",\n",
    "        \"X-Requested-With\": \"XMLHttpRequest\",\n",
    "        \"Origin\": \"https://monenfant.fr\",\n",
    "        \"DNT\": \"1\",\n",
    "        \"Connection\": \"keep-alive\",\n",
    "        \"Referer\": \"https://monenfant.fr/que-recherchez-vous/mode-d-accueil\",\n",
    "        \"Sec-Fetch-Dest\": \"empty\",\n",
    "        \"Sec-Fetch-Mode\": \"cors\",\n",
    "        \"Sec-Fetch-Site\": \"same-origin\",\n",
    "        \"Sec-GPC\": \"1\",\n",
    "    }\n",
    "\n",
    "    data = {\n",
    "        \"_fr_monenfant_recherche_portlet_RecherchePortlet_INSTANCE_VnedXuapLnSM_id\": row.resultId,\n",
    "        \"_fr_monenfant_recherche_portlet_RecherchePortlet_INSTANCE_VnedXuapLnSM_dureeRecherche\": \"345\",\n",
    "        \"_fr_monenfant_recherche_portlet_RecherchePortlet_INSTANCE_VnedXuapLnSM_dateDebutRecherche\": today,\n",
    "    }\n",
    "\n",
    "    time.sleep(0.4)\n",
    "\n",
    "    return requests.post(url, headers=headers, data=data).json()\n"
   ]
  },
  {
   "cell_type": "code",
   "execution_count": null,
   "metadata": {},
   "outputs": [],
   "source": [
    "df = pd.concat(\n",
    "    [\n",
    "        pd.DataFrame(json.load(file.open())[\"results\"])\n",
    "        for file in Path(\"./data\").glob(\"*.json\")\n",
    "    ],\n",
    "    ignore_index=True,\n",
    ")\n",
    "\n",
    "df = df[\n",
    "    df.adresse.str.contains(r\"91\\d{3}\")  # Essonne\n",
    "    | df.adresse.str.contains(r\"11\\d{3}\")  # Aude\n",
    "    | df.adresse.str.contains(r\"74\\d{3}\")  # Drôme\n",
    "    | df.adresse.str.contains(r\"26\\d{3}\")  # Haute-Savoie\n",
    "]\n",
    "\n",
    "df = df.drop_duplicates(subset=[\"resultId\"])\n",
    "\n",
    "df.shape[0]\n"
   ]
  },
  {
   "cell_type": "code",
   "execution_count": null,
   "metadata": {},
   "outputs": [],
   "source": [
    "df = df.apply(get_creche, axis=1, result_type=\"expand\")"
   ]
  },
  {
   "cell_type": "code",
   "execution_count": null,
   "metadata": {},
   "outputs": [],
   "source": [
    "df.to_json(\n",
    "    \"creches.json\",\n",
    "    orient=\"records\",\n",
    "    force_ascii=False,\n",
    ")\n"
   ]
  }
 ],
 "metadata": {
  "kernelspec": {
   "display_name": ".venv",
   "language": "python",
   "name": "python3"
  },
  "language_info": {
   "codemirror_mode": {
    "name": "ipython",
    "version": 3
   },
   "file_extension": ".py",
   "mimetype": "text/x-python",
   "name": "python",
   "nbconvert_exporter": "python",
   "pygments_lexer": "ipython3",
   "version": "3.10.11"
  }
 },
 "nbformat": 4,
 "nbformat_minor": 2
}
