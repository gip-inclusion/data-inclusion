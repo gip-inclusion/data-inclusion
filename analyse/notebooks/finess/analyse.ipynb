{
 "cells": [
  {
   "cell_type": "code",
   "execution_count": null,
   "id": "57314959",
   "metadata": {
    "ExecuteTime": {
     "end_time": "2022-09-13T18:47:38.017194Z",
     "start_time": "2022-09-13T18:47:36.833545Z"
    }
   },
   "outputs": [],
   "source": [
    "import os\n",
    "\n",
    "import numpy as np\n",
    "import pandas as pd\n",
    "import seaborn as sns\n",
    "import matplotlib.pyplot as plt\n",
    "from pyproj import Transformer"
   ]
  },
  {
   "cell_type": "code",
   "execution_count": null,
   "id": "55b292c0",
   "metadata": {
    "ExecuteTime": {
     "end_time": "2022-09-13T18:47:38.020842Z",
     "start_time": "2022-09-13T18:47:38.018336Z"
    }
   },
   "outputs": [],
   "source": [
    "pd.options.display.max_columns = None\n",
    "plt.rc(\"figure\", figsize=[12, 4])"
   ]
  },
  {
   "cell_type": "code",
   "execution_count": null,
   "id": "99912d1c",
   "metadata": {},
   "outputs": [],
   "source": [
    "import dotenv\n",
    "\n",
    "dotenv.load_dotenv(dotenv.find_dotenv())\n"
   ]
  },
  {
   "cell_type": "markdown",
   "id": "4cf1f60c",
   "metadata": {},
   "source": [
    "## Analyse"
   ]
  },
  {
   "cell_type": "markdown",
   "id": "28a6c754",
   "metadata": {},
   "source": [
    "👉 RÉSUMÉ EN FIN DE PAGE"
   ]
  },
  {
   "cell_type": "markdown",
   "id": "bfb774c5",
   "metadata": {},
   "source": [
    "Documentation du fichier : https://www.data.gouv.fr/fr/datasets/r/d06a0924-9931-4a60-83b6-93abdb6acfd6"
   ]
  },
  {
   "cell_type": "markdown",
   "id": "90de2472",
   "metadata": {},
   "source": [
    "### Importation des données bruts"
   ]
  },
  {
   "cell_type": "markdown",
   "id": "04f3494a",
   "metadata": {},
   "source": [
    "Le fichier utilisé n'est pas le fichier brut produit par FINESS (https://www.data.gouv.fr/fr/datasets/finess-extraction-du-fichier-des-etablissements/), mais une version pré-nettoyée via ce [script](https://github.com/taniki/notebooks/blob/master/finess/clean.ipynb)."
   ]
  },
  {
   "cell_type": "code",
   "execution_count": null,
   "id": "85953194",
   "metadata": {
    "ExecuteTime": {
     "end_time": "2022-09-13T18:47:38.583316Z",
     "start_time": "2022-09-13T18:47:38.022775Z"
    }
   },
   "outputs": [],
   "source": [
    "raw_df = pd.read_csv(\n",
    "    os.environ.get(\"FINESS_FILE_URL\"),\n",
    "    sep=\",\",\n",
    "    index_col=0,  # la 1ère ligne du fichier est le numéro de ligne\n",
    "    on_bad_lines=\"warn\",\n",
    "    dtype=str,\n",
    ")\n"
   ]
  },
  {
   "cell_type": "markdown",
   "id": "432e8ac3",
   "metadata": {},
   "source": [
    "### Aperçu"
   ]
  },
  {
   "cell_type": "code",
   "execution_count": null,
   "id": "be5f3319",
   "metadata": {
    "ExecuteTime": {
     "end_time": "2022-09-13T18:47:38.608199Z",
     "start_time": "2022-09-13T18:47:38.586253Z"
    }
   },
   "outputs": [],
   "source": [
    "raw_df.sample(2)"
   ]
  },
  {
   "cell_type": "code",
   "execution_count": null,
   "id": "0841a538",
   "metadata": {},
   "outputs": [],
   "source": [
    "raw_df.shape[0]"
   ]
  },
  {
   "cell_type": "code",
   "execution_count": null,
   "id": "75327f3e",
   "metadata": {
    "ExecuteTime": {
     "end_time": "2022-09-13T18:47:38.630558Z",
     "start_time": "2022-09-13T18:47:38.611014Z"
    }
   },
   "outputs": [],
   "source": [
    "# Le fichier contient des catégories d'établissements.\n",
    "# Seul un sous-ensemble de ces catégories nous intéresse.\n",
    "# cf https://www.notion.so/dora-beta/Analyse-des-donn-es-FINESS-75b23111f35a4057a97ff4e2bb1fa78f\n",
    "\n",
    "raw_df = raw_df[\n",
    "    raw_df[\"categagretab\"].isin(['4301', '4302', '4303', '4501', '4601', '4602', '4607'])\n",
    "    | (raw_df[\"categagretab\"] == \"2202\") & (raw_df[\"categetab\"] == \"228\")\n",
    "    | (raw_df[\"categagretab\"] == \"2206\") & (raw_df[\"categetab\"] == \"636\")\n",
    "]\n",
    "\n",
    "raw_df.shape[0]"
   ]
  },
  {
   "cell_type": "code",
   "execution_count": null,
   "id": "c9524192",
   "metadata": {
    "ExecuteTime": {
     "end_time": "2022-09-13T18:47:38.634670Z",
     "start_time": "2022-09-13T18:47:38.631808Z"
    }
   },
   "outputs": [],
   "source": [
    "# Labels sont issus de la documentation FINESS\n",
    "# cf https://www.notion.so/dora-beta/Analyse-des-donn-es-FINESS-75b23111f35a4057a97ff4e2bb1fa78f\n",
    "\n",
    "categories = {\n",
    "    '4301': \"Etab. et Services d'Hébergement pour Adultes Handicapés\",\n",
    "    '4302': \"Services de Travail Protégé pour Adultes Handicapés\",\n",
    "    '4303': \"Services de Réinsertion Prof pour Adultes Handicapés\",\n",
    "    '4501': \"Etablissements de l'Aide Sociale à l'Enfance\",\n",
    "    '4601': \"Etablissements pour Adultes et Familles en Difficulté\",\n",
    "    '4602': \"Autres Etablissements Sociaux d'Hébergement et d'Accueil\",\n",
    "    '4607': \"Logements en Structure Collective\",\n",
    "}\n",
    "\n",
    "sub_categories = {\n",
    "    '228': \"Centre Planification ou Education Familiale Ctre.Planif.Educ.Fam\",\n",
    "    '636': \"Centre de soins et de prévention Centre soins prév.\",\n",
    "}"
   ]
  },
  {
   "cell_type": "markdown",
   "id": "56c6c622",
   "metadata": {},
   "source": [
    "### nettoyage"
   ]
  },
  {
   "cell_type": "code",
   "execution_count": null,
   "id": "086049a6",
   "metadata": {},
   "outputs": [],
   "source": [
    "raw_df = raw_df.replace([\"\", np.nan], None)"
   ]
  },
  {
   "cell_type": "markdown",
   "id": "17139648",
   "metadata": {},
   "source": [
    "### Taux de remplissage des champs de structure"
   ]
  },
  {
   "cell_type": "code",
   "execution_count": null,
   "id": "555b1d31",
   "metadata": {
    "ExecuteTime": {
     "end_time": "2022-09-13T18:47:38.701781Z",
     "start_time": "2022-09-13T18:47:38.638269Z"
    }
   },
   "outputs": [],
   "source": [
    "def compute_field_occupancy_rates(df):\n",
    "    return ((1 - df.isnull().sum() / df.shape[0]) * 100).sort_values(ascending=False)\n",
    "\n",
    "compute_field_occupancy_rates(raw_df).to_frame()"
   ]
  },
  {
   "cell_type": "markdown",
   "id": "91e5c329",
   "metadata": {},
   "source": [
    "### Identifiant local ?"
   ]
  },
  {
   "cell_type": "markdown",
   "id": "e4c90b2b",
   "metadata": {},
   "source": [
    "2 champs potentiels : `nofinesset` et `nofinessej`"
   ]
  },
  {
   "cell_type": "code",
   "execution_count": null,
   "id": "72213154",
   "metadata": {},
   "outputs": [],
   "source": [
    "raw_df.nofinessej.nunique()"
   ]
  },
  {
   "cell_type": "code",
   "execution_count": null,
   "id": "a724f11c",
   "metadata": {},
   "outputs": [],
   "source": [
    "raw_df.nofinesset.nunique()"
   ]
  },
  {
   "cell_type": "markdown",
   "id": "0833a8f7",
   "metadata": {},
   "source": [
    "conclusion : `nofinessej` dupliqué et `nofinesset` unique -> `nofinesset` identifiant local"
   ]
  },
  {
   "cell_type": "markdown",
   "id": "ff68e8d8",
   "metadata": {},
   "source": [
    "### Code insee ?"
   ]
  },
  {
   "cell_type": "code",
   "execution_count": null,
   "id": "ba137a67",
   "metadata": {},
   "outputs": [],
   "source": [
    "raw_df.assign(foo=raw_df.ligneacheminement.str.extract(r\"\\d{5} (.*?)(?= CEDEX|$)\"))[[\"foo\", \"ligneacheminement\"]][raw_df.ligneacheminement.str.contains(\"CEDEX\")]"
   ]
  },
  {
   "cell_type": "code",
   "execution_count": null,
   "id": "b5ea54cb",
   "metadata": {},
   "outputs": [],
   "source": [
    "raw_df[[\"departement\", \"commune\", \"ligneacheminement\"]].sample(5)\n",
    "raw_df[raw_df.nofinesset == \"2A0001269\"]"
   ]
  },
  {
   "cell_type": "code",
   "execution_count": null,
   "id": "1714ece0",
   "metadata": {},
   "outputs": [],
   "source": [
    "raw_df[raw_df.nofinesset == \"970407573\"]"
   ]
  },
  {
   "cell_type": "code",
   "execution_count": null,
   "id": "a162c51a",
   "metadata": {},
   "outputs": [],
   "source": [
    "raw_df[raw_df.nofinesset == \"970407573\"].iloc[0].to_json(force_ascii=False)"
   ]
  },
  {
   "cell_type": "markdown",
   "id": "3547d96b",
   "metadata": {},
   "source": [
    "conclusion: departement + commune = code_insee"
   ]
  },
  {
   "cell_type": "markdown",
   "id": "ad71b128",
   "metadata": {},
   "source": [
    "### Date de màj ?"
   ]
  },
  {
   "cell_type": "markdown",
   "id": "9bb33d6d",
   "metadata": {},
   "source": [
    "2 champs potentiels : `maj` et `datemaj`"
   ]
  },
  {
   "cell_type": "code",
   "execution_count": null,
   "id": "70e0bc40",
   "metadata": {},
   "outputs": [],
   "source": [
    "raw_df.datemaj.value_counts()"
   ]
  },
  {
   "cell_type": "code",
   "execution_count": null,
   "id": "cf5008f8",
   "metadata": {},
   "outputs": [],
   "source": [
    "plt.rc(\"figure\", figsize=[12, 4])\n",
    "sns.set(style=\"darkgrid\")\n",
    "sns.histplot(data=raw_df.maj.apply(pd.to_datetime, errors=\"coerce\"), bins=20)"
   ]
  },
  {
   "cell_type": "markdown",
   "id": "c51f683e",
   "metadata": {},
   "source": [
    "conclusion:\n",
    "* `datemaj`: la même date `2022-07-04` --> pas super fiable...\n",
    "* `maj`: plus intéressant, mais quelle diff entre les 2 champs ?"
   ]
  },
  {
   "cell_type": "markdown",
   "id": "1131c043",
   "metadata": {},
   "source": [
    "### SIRET ?"
   ]
  },
  {
   "cell_type": "code",
   "execution_count": null,
   "id": "616ce9e5",
   "metadata": {},
   "outputs": [],
   "source": [
    "raw_df.siret.value_counts().head(10).to_frame()"
   ]
  },
  {
   "cell_type": "code",
   "execution_count": null,
   "id": "0933da59",
   "metadata": {},
   "outputs": [],
   "source": [
    "# \"31723624800017\" -> Emmaüs\n",
    "# \"77568030900611\" -> Coallia\n",
    "# \"78805803000016\" -> Adoma\n",
    "# ..."
   ]
  },
  {
   "cell_type": "code",
   "execution_count": null,
   "id": "aba99338",
   "metadata": {},
   "outputs": [],
   "source": [
    "raw_df.siret.drop_duplicates(keep=False).count()"
   ]
  },
  {
   "cell_type": "markdown",
   "id": "cdabfa1f",
   "metadata": {},
   "source": [
    "* Pas mal de réseaux et d'antennes\n",
    "* 9363 structures uniques"
   ]
  },
  {
   "cell_type": "markdown",
   "id": "1bf4f9b1",
   "metadata": {},
   "source": [
    "### Nettoyage"
   ]
  },
  {
   "cell_type": "code",
   "execution_count": null,
   "id": "270a1bbc",
   "metadata": {
    "ExecuteTime": {
     "end_time": "2022-09-13T18:47:38.895389Z",
     "start_time": "2022-09-13T18:47:38.708325Z"
    }
   },
   "outputs": [],
   "source": [
    "df = raw_df.copy()\n",
    "\n",
    "# Traitement des dates\n",
    "df[[\"dateouv\", \"dateautor\", \"maj\", \"datemaj\"]] = df[\n",
    "    [\"dateouv\", \"dateautor\", \"maj\", \"datemaj\"]\n",
    "].apply(pd.to_datetime, errors=\"coerce\")\n",
    "\n",
    "# Reconstruction des adresses\n",
    "df[\"adresse\"] = (\n",
    "    df.numvoie.fillna(0.0).astype(int).astype(str).replace(0, None)\n",
    "    + \" \"\n",
    "    + df.typvoie\n",
    "    + \" \"\n",
    "    + df.voie\n",
    ")\n",
    "\n",
    "# Dissocier les codes postaux des noms de ville\n",
    "df[[\"cp\", \"commune\"]] = df.ligneacheminement.str.split(\" \", 1, expand=True)\n"
   ]
  },
  {
   "cell_type": "code",
   "execution_count": null,
   "id": "de217a64",
   "metadata": {
    "ExecuteTime": {
     "end_time": "2022-09-13T18:47:39.020715Z",
     "start_time": "2022-09-13T18:47:38.896725Z"
    }
   },
   "outputs": [],
   "source": [
    "# Conversion des coordonnées du système géodésique local vers WGS84\n",
    "EPSG = {\n",
    "    # Default value : 2154,\n",
    "    'GUADELOUPE': 2970,\n",
    "    'MARTINIQUE': 2970,\n",
    "    'GUYANE': 2972,\n",
    "    'LA REUNION': 2975,\n",
    "    'MAYOTTE': 4471,\n",
    "    'SAINT PIERRE ET MIQUELON': 4467\n",
    "}\n",
    "\n",
    "def coordinates_to_wgs84(df, from_epsg):\n",
    "    transformer = Transformer.from_crs(\"epsg:\" + str(from_epsg), \"epsg:4326\", always_xy=True)\n",
    "    latitude, longitude = transformer.transform(df['coordxet'], df['coordyet'])\n",
    "    return latitude, longitude\n",
    "\n",
    "# Transformer les coordonnées de la métropole\n",
    "wgs84 = coordinates_to_wgs84(df, 2154)\n",
    "mask = ~df.libdepartement.isin(EPSG.values())\n",
    "df.loc[mask, 'longitude'] = wgs84[0][mask]\n",
    "df.loc[mask, 'latitude'] = wgs84[1][mask]\n",
    "\n",
    "# Transformer les coordonnées des Territoires d'Outre-Mer\n",
    "for location, code in EPSG.items():\n",
    "    wgs84 = coordinates_to_wgs84(df, code)\n",
    "    mask = df.libdepartement == location\n",
    "    df.loc[mask, 'longitude'] = wgs84[0][mask]\n",
    "    df.loc[mask, 'latitude'] = wgs84[1][mask]"
   ]
  },
  {
   "cell_type": "markdown",
   "id": "572ad45f",
   "metadata": {},
   "source": [
    "# Analyse des typologies"
   ]
  },
  {
   "cell_type": "code",
   "execution_count": null,
   "id": "e44fc80c",
   "metadata": {
    "ExecuteTime": {
     "end_time": "2022-09-13T18:47:53.264480Z",
     "start_time": "2022-09-13T18:47:53.244886Z"
    }
   },
   "outputs": [],
   "source": [
    "from data_inclusion.schema import models"
   ]
  },
  {
   "cell_type": "code",
   "execution_count": null,
   "id": "4e95565b",
   "metadata": {
    "ExecuteTime": {
     "end_time": "2022-09-13T18:47:55.072006Z",
     "start_time": "2022-09-13T18:47:53.921721Z"
    }
   },
   "outputs": [],
   "source": [
    "# Recherche des typologies remarquables\n",
    "for typ in models.Typologie:\n",
    "    if df['rs'].apply(lambda s: typ.value.lower() in s.lower().split()).any():\n",
    "        print('')\n",
    "        print(typ.value)\n",
    "        print(df[df['rs'].apply(lambda s: typ.value.lower() in s.lower().split())].sample(1).rs)"
   ]
  },
  {
   "cell_type": "code",
   "execution_count": null,
   "id": "dd397c29",
   "metadata": {
    "ExecuteTime": {
     "end_time": "2022-09-13T18:47:43.047716Z",
     "start_time": "2022-09-13T18:47:40.302788Z"
    }
   },
   "outputs": [],
   "source": [
    "categories_flags_places_df = (\n",
    "    df.rs.str.lower()\n",
    "    .apply(\n",
    "        lambda s: {\n",
    "            \"ase\": \"ase\" in s.split(),\n",
    "            \"association\": \"association\" in s.split() or \"asso\" in s.split(),\n",
    "            \"cada\": \"cada\" in s.split(),\n",
    "            \"cava\": \"cava\" in s.split(),\n",
    "            \"ccas\": \"ccas\" in s.split(),\n",
    "            \"chrs\": \"chrs\" in s.split(),\n",
    "            \"chu\": \"chu\" in s.split(),\n",
    "            \"cias\": \"cias\" in s.split(),\n",
    "            \"cidff\": \"cidff\" in s.split(),\n",
    "            \"csapa\": \"csapa\" in s.split(),\n",
    "            \"ea\": \"ea\" in s.split(),\n",
    "            \"esat\": \"esat\" in s.split(),\n",
    "            \"huda\": \"huda\" in s.split(),\n",
    "            \"mde\": \"mde\" in s.split(),\n",
    "            \"mdef\": \"mdef\" in s.split(),\n",
    "            \"mjc\": \"mjc\" in s.split(),\n",
    "            \"msa\": \"msa\" in s.split(),\n",
    "            \"pension\": \"pension\" in s.split(),\n",
    "            \"prevention\": \"prevention\" in s.split(),\n",
    "            \"cph\": \"cph\" in s.split(),\n",
    "            \"udaf\": \"udaf\" in s.split(),\n",
    "        },\n",
    "    )\n",
    "    .apply(pd.Series)\n",
    "    .assign(\n",
    "        na=lambda df: df.apply(\n",
    "            lambda row: ~row.any(), axis=\"columns\", result_type=\"expand\"\n",
    "        )\n",
    "    )\n",
    ")\n",
    "\n",
    "categories_flags_places_df.sum().sort_values(ascending=False).plot(kind=\"bar\", grid=True, rot=35, figsize=(20, 8))"
   ]
  },
  {
   "cell_type": "code",
   "execution_count": null,
   "id": "05c87cb7",
   "metadata": {
    "ExecuteTime": {
     "end_time": "2022-09-13T18:47:43.395839Z",
     "start_time": "2022-09-13T18:47:43.049068Z"
    }
   },
   "outputs": [],
   "source": [
    "plt.rc(\"figure\", figsize=[12, 8])\n",
    "sns.countplot(\n",
    "    data=df.fillna('Inconnu'),\n",
    "    y='libcategetab',\n",
    "    order = df['libcategetab'].fillna('Inconnu').value_counts().index\n",
    ")"
   ]
  },
  {
   "cell_type": "markdown",
   "id": "24e16f8e",
   "metadata": {},
   "source": [
    "### Etude des répartitions géographiques"
   ]
  },
  {
   "cell_type": "code",
   "execution_count": null,
   "id": "9e684ec8",
   "metadata": {
    "ExecuteTime": {
     "end_time": "2022-09-13T18:47:44.101298Z",
     "start_time": "2022-09-13T18:47:43.397023Z"
    }
   },
   "outputs": [],
   "source": [
    "plt.rc(\"figure\", figsize=[12, 16])\n",
    "sns.countplot(\n",
    "    data=df.fillna('Inconnu'),\n",
    "    y='libdepartement',\n",
    "    order = df['libdepartement'].fillna('Inconnu').value_counts().index\n",
    ")"
   ]
  },
  {
   "cell_type": "markdown",
   "id": "6c51abe2",
   "metadata": {},
   "source": [
    "## Résumé"
   ]
  },
  {
   "cell_type": "markdown",
   "id": "c4af94f3",
   "metadata": {},
   "source": [
    "<a id='summary'></a>\n",
    "\n",
    "<br>✅ Dataset de structures\n",
    "<br>✅ 100% de dates de création et de mises à jour\n",
    "<br>✅ 100% d'identifiants uniques ('nofinessej')\n",
    "<br>✅ 100% de noms\n",
    "<br>✅ 100% de communes\n",
    "<br>✅ Les champs peuvent être majoritairement remplis proprement\n",
    "<br>\n",
    "<br>⚠️ 84% de SIRET\n",
    "<br>⚠️ Voies et noms de rue spécifiques à considérer\n",
    "<br>⚠️ Nombreuses typologies présentes, demande une analyse plus fine\n",
    "<br>\n",
    "<br>❌ Adresses parfois partielles\n",
    "<br>❌ Aucun rna"
   ]
  }
 ],
 "metadata": {
  "kernelspec": {
   "display_name": "Python 3.10.4 ('.venv': venv)",
   "language": "python",
   "name": "python3"
  },
  "language_info": {
   "codemirror_mode": {
    "name": "ipython",
    "version": 3
   },
   "file_extension": ".py",
   "mimetype": "text/x-python",
   "name": "python",
   "nbconvert_exporter": "python",
   "pygments_lexer": "ipython3",
   "version": "3.10.4"
  },
  "toc": {
   "base_numbering": 1,
   "nav_menu": {},
   "number_sections": true,
   "sideBar": true,
   "skip_h1_title": false,
   "title_cell": "Table of Contents",
   "title_sidebar": "Contents",
   "toc_cell": false,
   "toc_position": {},
   "toc_section_display": true,
   "toc_window_display": false
  },
  "vscode": {
   "interpreter": {
    "hash": "5c59c3774541e2228ee548c093b471ded1573b3beb617fa2a9d607b090635324"
   }
  }
 },
 "nbformat": 4,
 "nbformat_minor": 5
}
