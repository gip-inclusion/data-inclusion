{
 "cells": [
  {
   "cell_type": "code",
   "execution_count": 19,
   "metadata": {},
   "outputs": [],
   "source": [
    "import pandas as pd\n",
    "import dotenv\n",
    "dotenv.load_dotenv(dotenv.find_dotenv())\n",
    "from pathlib import Path\n",
    "\n",
    "# Page de téléchargement : https://www.insee.fr/fr/information/6800675\n",
    "\n",
    "regions_url = \"https://www.insee.fr/fr/statistiques/fichier/6800675/v_region_2023.csv\"\n",
    "departements_url = \"https://www.insee.fr/fr/statistiques/fichier/6800675/v_departement_2023.csv\"\n",
    "communes_url = \"https://www.insee.fr/fr/statistiques/fichier/6800675/v_commune_2023.csv\"\n",
    "\n",
    "seeds_dir= Path('../../../pipeline/dbt/seeds/schema/')\n"
   ]
  },
  {
   "cell_type": "code",
   "execution_count": 20,
   "metadata": {},
   "outputs": [
    {
     "data": {
      "text/html": [
       "<div>\n",
       "<style scoped>\n",
       "    .dataframe tbody tr th:only-of-type {\n",
       "        vertical-align: middle;\n",
       "    }\n",
       "\n",
       "    .dataframe tbody tr th {\n",
       "        vertical-align: top;\n",
       "    }\n",
       "\n",
       "    .dataframe thead th {\n",
       "        text-align: right;\n",
       "    }\n",
       "</style>\n",
       "<table border=\"1\" class=\"dataframe\">\n",
       "  <thead>\n",
       "    <tr style=\"text-align: right;\">\n",
       "      <th></th>\n",
       "      <th>DEP</th>\n",
       "      <th>REG</th>\n",
       "      <th>CHEFLIEU</th>\n",
       "      <th>TNCC</th>\n",
       "      <th>NCC</th>\n",
       "      <th>NCCENR</th>\n",
       "      <th>LIBELLE</th>\n",
       "    </tr>\n",
       "  </thead>\n",
       "  <tbody>\n",
       "    <tr>\n",
       "      <th>0</th>\n",
       "      <td>01</td>\n",
       "      <td>84</td>\n",
       "      <td>01053</td>\n",
       "      <td>5</td>\n",
       "      <td>AIN</td>\n",
       "      <td>Ain</td>\n",
       "      <td>Ain</td>\n",
       "    </tr>\n",
       "    <tr>\n",
       "      <th>1</th>\n",
       "      <td>02</td>\n",
       "      <td>32</td>\n",
       "      <td>02408</td>\n",
       "      <td>5</td>\n",
       "      <td>AISNE</td>\n",
       "      <td>Aisne</td>\n",
       "      <td>Aisne</td>\n",
       "    </tr>\n",
       "    <tr>\n",
       "      <th>2</th>\n",
       "      <td>03</td>\n",
       "      <td>84</td>\n",
       "      <td>03190</td>\n",
       "      <td>5</td>\n",
       "      <td>ALLIER</td>\n",
       "      <td>Allier</td>\n",
       "      <td>Allier</td>\n",
       "    </tr>\n",
       "  </tbody>\n",
       "</table>\n",
       "</div>"
      ],
      "text/plain": [
       "  DEP  REG CHEFLIEU  TNCC     NCC  NCCENR LIBELLE\n",
       "0  01   84    01053     5     AIN     Ain     Ain\n",
       "1  02   32    02408     5   AISNE   Aisne   Aisne\n",
       "2  03   84    03190     5  ALLIER  Allier  Allier"
      ]
     },
     "execution_count": 20,
     "metadata": {},
     "output_type": "execute_result"
    }
   ],
   "source": [
    "pd.read_csv(departements_url).head(3)"
   ]
  },
  {
   "cell_type": "code",
   "execution_count": 27,
   "metadata": {},
   "outputs": [],
   "source": [
    "def download_format_cog_file(url: str, type: str, column_mapping: dict):\n",
    "    print(f\"Processing {type}...\")\n",
    "    columns: list = list(column_mapping.keys())\n",
    "    print(columns)\n",
    "    \n",
    "    df: pd.DataFrame = pd.read_csv(url, usecols=columns)\n",
    "\n",
    "    df.rename(columns=column_mapping, inplace=True)\n",
    "\n",
    "    # To CSV\n",
    "    df.to_csv(seeds_dir / f\"insee_{type}.csv\", index=False)\n",
    "    "
   ]
  },
  {
   "cell_type": "code",
   "execution_count": 28,
   "metadata": {},
   "outputs": [
    {
     "name": "stdout",
     "output_type": "stream",
     "text": [
      "Processing regions...\n",
      "['REG', 'LIBELLE']\n",
      "Processing departements...\n",
      "['DEP', 'LIBELLE']\n",
      "Processing communes...\n",
      "['COM', 'LIBELLE']\n"
     ]
    }
   ],
   "source": [
    "# Régions\n",
    "download_format_cog_file(regions_url, 'regions', {'REG': 'code', 'LIBELLE': 'nom'})\n",
    "\n",
    "# Départements\n",
    "download_format_cog_file(departements_url, 'departements', {'DEP': 'code', 'LIBELLE': 'nom'})\n",
    "\n",
    "# Communes\n",
    "download_format_cog_file(communes_url, 'communes', {'COM': 'code', 'LIBELLE': 'nom'})\n"
   ]
  }
 ],
 "metadata": {
  "kernelspec": {
   "display_name": "jupyter-notebooks-RRxi6xtS",
   "language": "python",
   "name": "python3"
  },
  "language_info": {
   "codemirror_mode": {
    "name": "ipython",
    "version": 3
   },
   "file_extension": ".py",
   "mimetype": "text/x-python",
   "name": "python",
   "nbconvert_exporter": "python",
   "pygments_lexer": "ipython3",
   "version": "3.10.6"
  },
  "orig_nbformat": 4,
  "vscode": {
   "interpreter": {
    "hash": "38d4ac2969126b213bd5294103f60361a1ad1f286d9a4ba71e7b8456c96d66e0"
   }
  }
 },
 "nbformat": 4,
 "nbformat_minor": 2
}
