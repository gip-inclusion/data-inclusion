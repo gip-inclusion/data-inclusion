{
 "cells": [
  {
   "cell_type": "code",
   "execution_count": 1,
   "metadata": {},
   "outputs": [],
   "source": [
    "import pandas as pd\n",
    "import dotenv\n",
    "dotenv.load_dotenv(dotenv.find_dotenv())\n",
    "from pathlib import Path\n",
    "\n",
    "# Page de téléchargement : https://www.insee.fr/fr/information/6800675\n",
    "\n",
    "regions_url = \"https://www.insee.fr/fr/statistiques/fichier/6800675/v_region_2023.csv\"\n",
    "departements_url = \"https://www.insee.fr/fr/statistiques/fichier/6800675/v_departement_2023.csv\"\n",
    "communes_url = \"https://www.insee.fr/fr/statistiques/fichier/6800675/v_commune_2023.csv\"\n",
    "\n",
    "seeds_dir= Path('../../../pipeline/dbt/seeds/schema/')\n"
   ]
  },
  {
   "cell_type": "code",
   "execution_count": 2,
   "metadata": {},
   "outputs": [],
   "source": [
    "def download_format_cog_file(url: str, type: str, column_mapping: dict):\n",
    "    print(f\"Processing {type}...\")\n",
    "    columns: list = list(column_mapping.keys())\n",
    "    print(columns)\n",
    "    \n",
    "    df: pd.DataFrame = pd.read_csv(url, usecols=columns, dtype=str)\n",
    "\n",
    "    df.rename(columns=column_mapping, inplace=True)\n",
    "\n",
    "    print(df.head(3))\n",
    "\n",
    "    # To CSV\n",
    "    df.to_csv(seeds_dir / f\"insee_{type}.csv\", index=False)\n",
    "    "
   ]
  },
  {
   "cell_type": "code",
   "execution_count": 3,
   "metadata": {},
   "outputs": [
    {
     "name": "stdout",
     "output_type": "stream",
     "text": [
      "Processing regions...\n",
      "['REG', 'LIBELLE']\n",
      "  code       label\n",
      "0   01  Guadeloupe\n",
      "1   02  Martinique\n",
      "2   03      Guyane\n",
      "Processing departements...\n",
      "['DEP', 'LIBELLE']\n",
      "  code   label\n",
      "0   01     Ain\n",
      "1   02   Aisne\n",
      "2   03  Allier\n",
      "Processing communes...\n",
      "['COM', 'LIBELLE']\n",
      "    code                    label\n",
      "0  01001  L'Abergement-Clémenciat\n",
      "1  01002    L'Abergement-de-Varey\n",
      "2  01004        Ambérieu-en-Bugey\n"
     ]
    }
   ],
   "source": [
    "# Régions\n",
    "download_format_cog_file(regions_url, 'regions', {'REG': 'code', 'LIBELLE': 'label'})\n",
    "\n",
    "# Départements\n",
    "download_format_cog_file(departements_url, 'departements', {'DEP': 'code', 'LIBELLE': 'label'})\n",
    "\n",
    "# Communes\n",
    "download_format_cog_file(communes_url, 'communes', {'COM': 'code', 'LIBELLE': 'label'})\n"
   ]
  }
 ],
 "metadata": {
  "kernelspec": {
   "display_name": "jupyter-notebooks-RRxi6xtS",
   "language": "python",
   "name": "python3"
  },
  "language_info": {
   "codemirror_mode": {
    "name": "ipython",
    "version": 3
   },
   "file_extension": ".py",
   "mimetype": "text/x-python",
   "name": "python",
   "nbconvert_exporter": "python",
   "pygments_lexer": "ipython3",
   "version": "3.10.6"
  },
  "orig_nbformat": 4,
  "vscode": {
   "interpreter": {
    "hash": "38d4ac2969126b213bd5294103f60361a1ad1f286d9a4ba71e7b8456c96d66e0"
   }
  }
 },
 "nbformat": 4,
 "nbformat_minor": 2
}
