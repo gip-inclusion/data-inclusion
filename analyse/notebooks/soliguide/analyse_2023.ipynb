{
 "cells": [
  {
   "cell_type": "code",
   "execution_count": null,
   "id": "349cd1a6",
   "metadata": {},
   "outputs": [],
   "source": [
    "import os\n",
    "\n",
    "import dotenv\n",
    "import pandas as pd\n",
    "import numpy as np\n",
    "\n",
    "dotenv.load_dotenv(dotenv.find_dotenv())\n"
   ]
  },
  {
   "cell_type": "code",
   "execution_count": null,
   "id": "0da5e5c5",
   "metadata": {},
   "outputs": [],
   "source": [
    "%pip install -e ../../../pipeline\n",
    "\n",
    "from data_inclusion.scripts.tasks import soliguide\n"
   ]
  },
  {
   "cell_type": "code",
   "execution_count": null,
   "id": "8837967c",
   "metadata": {},
   "outputs": [],
   "source": [
    "client = soliguide.APIClient(\n",
    "    base_url=\"https://api.soliguide.fr/\",\n",
    "    token=os.environ[\"SOLIGUIDE_API_TOKEN\"],\n",
    "    user_agent=\"\",\n",
    ")\n"
   ]
  },
  {
   "cell_type": "code",
   "execution_count": null,
   "id": "dbfef573",
   "metadata": {},
   "outputs": [],
   "source": [
    "data = client.search(location_geo_type=\"pays\", location_geo_value=\"france\")\n"
   ]
  },
  {
   "cell_type": "code",
   "execution_count": null,
   "id": "a4658d84",
   "metadata": {},
   "outputs": [],
   "source": [
    "places_df = pd.json_normalize(data)\n",
    "\n",
    "# services_df référence places_df via `lieu_id`\n",
    "services_df = pd.json_normalize(\n",
    "    data,\n",
    "    record_path=\"services_all\",\n",
    "    meta=[\"lieu_id\"],\n",
    ")\n"
   ]
  },
  {
   "attachments": {},
   "cell_type": "markdown",
   "id": "1231acc9",
   "metadata": {},
   "source": [
    "# Structures"
   ]
  },
  {
   "attachments": {},
   "cell_type": "markdown",
   "id": "ad676b57",
   "metadata": {},
   "source": [
    "### id"
   ]
  },
  {
   "cell_type": "code",
   "execution_count": null,
   "id": "29663447",
   "metadata": {},
   "outputs": [],
   "source": []
  },
  {
   "attachments": {},
   "cell_type": "markdown",
   "id": "4d82ed7c",
   "metadata": {},
   "source": [
    "### siret"
   ]
  },
  {
   "cell_type": "code",
   "execution_count": null,
   "id": "d0078db9",
   "metadata": {},
   "outputs": [],
   "source": []
  },
  {
   "attachments": {},
   "cell_type": "markdown",
   "id": "17e719f7",
   "metadata": {},
   "source": [
    "### rna"
   ]
  },
  {
   "cell_type": "code",
   "execution_count": null,
   "id": "ad0d9fb0",
   "metadata": {},
   "outputs": [],
   "source": []
  },
  {
   "attachments": {},
   "cell_type": "markdown",
   "id": "45027815",
   "metadata": {},
   "source": [
    "### nom"
   ]
  },
  {
   "cell_type": "code",
   "execution_count": null,
   "id": "879b8001",
   "metadata": {},
   "outputs": [],
   "source": []
  },
  {
   "attachments": {},
   "cell_type": "markdown",
   "id": "b3afc242",
   "metadata": {},
   "source": [
    "### commune"
   ]
  },
  {
   "cell_type": "code",
   "execution_count": null,
   "id": "78954f23",
   "metadata": {},
   "outputs": [],
   "source": []
  },
  {
   "attachments": {},
   "cell_type": "markdown",
   "id": "4487efb5",
   "metadata": {},
   "source": [
    "### code_postal"
   ]
  },
  {
   "cell_type": "code",
   "execution_count": null,
   "id": "2e8ef05e",
   "metadata": {},
   "outputs": [],
   "source": []
  },
  {
   "attachments": {},
   "cell_type": "markdown",
   "id": "7d891bc9",
   "metadata": {},
   "source": [
    "### code_insee"
   ]
  },
  {
   "cell_type": "code",
   "execution_count": null,
   "id": "0ec21785",
   "metadata": {},
   "outputs": [],
   "source": []
  },
  {
   "attachments": {},
   "cell_type": "markdown",
   "id": "e059679e",
   "metadata": {},
   "source": [
    "### adresse"
   ]
  },
  {
   "cell_type": "code",
   "execution_count": null,
   "id": "5b7f9116",
   "metadata": {},
   "outputs": [],
   "source": []
  },
  {
   "attachments": {},
   "cell_type": "markdown",
   "id": "b1485e71",
   "metadata": {},
   "source": [
    "### complement_adresse"
   ]
  },
  {
   "cell_type": "code",
   "execution_count": null,
   "id": "281ba836",
   "metadata": {},
   "outputs": [],
   "source": []
  },
  {
   "attachments": {},
   "cell_type": "markdown",
   "id": "053df703",
   "metadata": {},
   "source": [
    "### longitude"
   ]
  },
  {
   "cell_type": "code",
   "execution_count": null,
   "id": "01b6a293",
   "metadata": {},
   "outputs": [],
   "source": []
  },
  {
   "attachments": {},
   "cell_type": "markdown",
   "id": "f60c633d",
   "metadata": {},
   "source": [
    "### latitude"
   ]
  },
  {
   "cell_type": "code",
   "execution_count": null,
   "id": "88874b83",
   "metadata": {},
   "outputs": [],
   "source": []
  },
  {
   "attachments": {},
   "cell_type": "markdown",
   "id": "93224075",
   "metadata": {},
   "source": [
    "### typologie"
   ]
  },
  {
   "cell_type": "code",
   "execution_count": null,
   "id": "fd08ae88",
   "metadata": {},
   "outputs": [],
   "source": []
  },
  {
   "attachments": {},
   "cell_type": "markdown",
   "id": "ab100d55",
   "metadata": {},
   "source": [
    "### telephone"
   ]
  },
  {
   "cell_type": "code",
   "execution_count": null,
   "id": "1e6e7a7b",
   "metadata": {},
   "outputs": [],
   "source": []
  },
  {
   "attachments": {},
   "cell_type": "markdown",
   "id": "dbd0baf6",
   "metadata": {},
   "source": [
    "### courriel"
   ]
  },
  {
   "cell_type": "code",
   "execution_count": null,
   "id": "292ecc06",
   "metadata": {},
   "outputs": [],
   "source": []
  },
  {
   "attachments": {},
   "cell_type": "markdown",
   "id": "357b274a",
   "metadata": {},
   "source": [
    "### site_web"
   ]
  },
  {
   "cell_type": "code",
   "execution_count": null,
   "id": "e7eec32c",
   "metadata": {},
   "outputs": [],
   "source": []
  },
  {
   "attachments": {},
   "cell_type": "markdown",
   "id": "5f622a80",
   "metadata": {},
   "source": [
    "### presentation_resume"
   ]
  },
  {
   "cell_type": "code",
   "execution_count": null,
   "id": "e5954a51",
   "metadata": {},
   "outputs": [],
   "source": []
  },
  {
   "attachments": {},
   "cell_type": "markdown",
   "id": "6ba291fc",
   "metadata": {},
   "source": [
    "### presentation_detail"
   ]
  },
  {
   "cell_type": "code",
   "execution_count": null,
   "id": "d08d5dbc",
   "metadata": {},
   "outputs": [],
   "source": []
  },
  {
   "attachments": {},
   "cell_type": "markdown",
   "id": "a17c551a",
   "metadata": {},
   "source": [
    "### source"
   ]
  },
  {
   "cell_type": "code",
   "execution_count": null,
   "id": "59ee9e7c",
   "metadata": {},
   "outputs": [],
   "source": []
  },
  {
   "attachments": {},
   "cell_type": "markdown",
   "id": "167fb885",
   "metadata": {},
   "source": [
    "### date_maj"
   ]
  },
  {
   "cell_type": "code",
   "execution_count": null,
   "id": "39aa34b5",
   "metadata": {},
   "outputs": [],
   "source": []
  },
  {
   "attachments": {},
   "cell_type": "markdown",
   "id": "b6dbdd42",
   "metadata": {},
   "source": [
    "### antenne"
   ]
  },
  {
   "cell_type": "code",
   "execution_count": null,
   "id": "b5255608",
   "metadata": {},
   "outputs": [],
   "source": []
  },
  {
   "attachments": {},
   "cell_type": "markdown",
   "id": "efc9232c",
   "metadata": {},
   "source": [
    "### lien_source"
   ]
  },
  {
   "cell_type": "code",
   "execution_count": null,
   "id": "16422b67",
   "metadata": {},
   "outputs": [],
   "source": []
  },
  {
   "attachments": {},
   "cell_type": "markdown",
   "id": "0758e60e",
   "metadata": {},
   "source": [
    "### horaires_ouverture"
   ]
  },
  {
   "cell_type": "code",
   "execution_count": null,
   "id": "b1b42eb5",
   "metadata": {},
   "outputs": [],
   "source": []
  },
  {
   "attachments": {},
   "cell_type": "markdown",
   "id": "14c3c508",
   "metadata": {},
   "source": [
    "### accessibilite"
   ]
  },
  {
   "cell_type": "code",
   "execution_count": null,
   "id": "a4f8d8f7",
   "metadata": {},
   "outputs": [],
   "source": []
  },
  {
   "attachments": {},
   "cell_type": "markdown",
   "id": "5484ca3f",
   "metadata": {},
   "source": [
    "### labels_nationaux"
   ]
  },
  {
   "cell_type": "code",
   "execution_count": null,
   "id": "bf995c20",
   "metadata": {},
   "outputs": [],
   "source": []
  },
  {
   "attachments": {},
   "cell_type": "markdown",
   "id": "bdf4b51b",
   "metadata": {},
   "source": [
    "### labels_autres"
   ]
  },
  {
   "cell_type": "code",
   "execution_count": null,
   "id": "31588016",
   "metadata": {},
   "outputs": [],
   "source": []
  },
  {
   "attachments": {},
   "cell_type": "markdown",
   "id": "7a93c501",
   "metadata": {},
   "source": [
    "### thematiques"
   ]
  },
  {
   "cell_type": "code",
   "execution_count": null,
   "id": "2b0f57cd",
   "metadata": {},
   "outputs": [],
   "source": []
  },
  {
   "attachments": {},
   "cell_type": "markdown",
   "id": "c6912fec",
   "metadata": {},
   "source": [
    "# Services"
   ]
  },
  {
   "attachments": {},
   "cell_type": "markdown",
   "id": "4d203fab",
   "metadata": {},
   "source": [
    "### id"
   ]
  },
  {
   "cell_type": "code",
   "execution_count": null,
   "id": "7c7ee1cf",
   "metadata": {},
   "outputs": [],
   "source": []
  },
  {
   "attachments": {},
   "cell_type": "markdown",
   "id": "83294e17",
   "metadata": {},
   "source": [
    "### structure_id"
   ]
  },
  {
   "cell_type": "code",
   "execution_count": null,
   "id": "24e651da",
   "metadata": {},
   "outputs": [],
   "source": []
  },
  {
   "attachments": {},
   "cell_type": "markdown",
   "id": "84c93acc",
   "metadata": {},
   "source": [
    "### source"
   ]
  },
  {
   "cell_type": "code",
   "execution_count": null,
   "id": "45a564e4",
   "metadata": {},
   "outputs": [],
   "source": []
  },
  {
   "attachments": {},
   "cell_type": "markdown",
   "id": "3b790afb",
   "metadata": {},
   "source": [
    "### nom"
   ]
  },
  {
   "cell_type": "code",
   "execution_count": null,
   "id": "4e9e621e",
   "metadata": {},
   "outputs": [],
   "source": []
  },
  {
   "attachments": {},
   "cell_type": "markdown",
   "id": "1c01f09a",
   "metadata": {},
   "source": [
    "### presentation_resume"
   ]
  },
  {
   "cell_type": "code",
   "execution_count": null,
   "id": "93d1c7d8",
   "metadata": {},
   "outputs": [],
   "source": []
  },
  {
   "attachments": {},
   "cell_type": "markdown",
   "id": "6146afe6",
   "metadata": {},
   "source": [
    "### presentation_detail"
   ]
  },
  {
   "cell_type": "code",
   "execution_count": null,
   "id": "806dde2e",
   "metadata": {},
   "outputs": [],
   "source": []
  },
  {
   "attachments": {},
   "cell_type": "markdown",
   "id": "ce514ab4",
   "metadata": {},
   "source": [
    "### types"
   ]
  },
  {
   "cell_type": "code",
   "execution_count": null,
   "id": "5e5ec115",
   "metadata": {},
   "outputs": [],
   "source": []
  },
  {
   "attachments": {},
   "cell_type": "markdown",
   "id": "9eb0a331",
   "metadata": {},
   "source": [
    "### thematiques"
   ]
  },
  {
   "cell_type": "code",
   "execution_count": null,
   "id": "161f5c20",
   "metadata": {},
   "outputs": [],
   "source": []
  },
  {
   "attachments": {},
   "cell_type": "markdown",
   "id": "8c249d2f",
   "metadata": {},
   "source": [
    "### prise_rdv"
   ]
  },
  {
   "cell_type": "code",
   "execution_count": null,
   "id": "7aaa2394",
   "metadata": {},
   "outputs": [],
   "source": []
  },
  {
   "attachments": {},
   "cell_type": "markdown",
   "id": "8e27b79e",
   "metadata": {},
   "source": [
    "### frais"
   ]
  },
  {
   "cell_type": "code",
   "execution_count": null,
   "id": "8bf47c3d",
   "metadata": {},
   "outputs": [],
   "source": []
  },
  {
   "attachments": {},
   "cell_type": "markdown",
   "id": "ddd1fb66",
   "metadata": {},
   "source": [
    "### frais_autres"
   ]
  },
  {
   "cell_type": "code",
   "execution_count": null,
   "id": "795d6b37",
   "metadata": {},
   "outputs": [],
   "source": []
  },
  {
   "attachments": {},
   "cell_type": "markdown",
   "id": "f4cf1345",
   "metadata": {},
   "source": [
    "### profils"
   ]
  },
  {
   "cell_type": "code",
   "execution_count": null,
   "id": "6dc49371",
   "metadata": {},
   "outputs": [],
   "source": []
  },
  {
   "attachments": {},
   "cell_type": "markdown",
   "id": "1255dd9d",
   "metadata": {},
   "source": [
    "### pre_requis"
   ]
  },
  {
   "cell_type": "code",
   "execution_count": null,
   "id": "ab8d182a",
   "metadata": {},
   "outputs": [],
   "source": []
  },
  {
   "attachments": {},
   "cell_type": "markdown",
   "id": "05d23459",
   "metadata": {},
   "source": [
    "### cumulable"
   ]
  },
  {
   "cell_type": "code",
   "execution_count": null,
   "id": "345ff262",
   "metadata": {},
   "outputs": [],
   "source": []
  },
  {
   "attachments": {},
   "cell_type": "markdown",
   "id": "8a85c67f",
   "metadata": {},
   "source": [
    "### justificatifs"
   ]
  },
  {
   "cell_type": "code",
   "execution_count": null,
   "id": "00227de5",
   "metadata": {},
   "outputs": [],
   "source": []
  },
  {
   "attachments": {},
   "cell_type": "markdown",
   "id": "0a574738",
   "metadata": {},
   "source": [
    "### formulaire_en_ligne"
   ]
  },
  {
   "cell_type": "code",
   "execution_count": null,
   "id": "c9b7f206",
   "metadata": {},
   "outputs": [],
   "source": []
  },
  {
   "attachments": {},
   "cell_type": "markdown",
   "id": "b1794b72",
   "metadata": {},
   "source": [
    "### commune"
   ]
  },
  {
   "cell_type": "code",
   "execution_count": null,
   "id": "15c12f01",
   "metadata": {},
   "outputs": [],
   "source": []
  },
  {
   "attachments": {},
   "cell_type": "markdown",
   "id": "dd0a49a2",
   "metadata": {},
   "source": [
    "### code_postal"
   ]
  },
  {
   "cell_type": "code",
   "execution_count": null,
   "id": "4907513c",
   "metadata": {},
   "outputs": [],
   "source": []
  },
  {
   "attachments": {},
   "cell_type": "markdown",
   "id": "57abdce1",
   "metadata": {},
   "source": [
    "### code_insee"
   ]
  },
  {
   "cell_type": "code",
   "execution_count": null,
   "id": "aecc9537",
   "metadata": {},
   "outputs": [],
   "source": []
  },
  {
   "attachments": {},
   "cell_type": "markdown",
   "id": "b0fcdb2b",
   "metadata": {},
   "source": [
    "### adresse"
   ]
  },
  {
   "cell_type": "code",
   "execution_count": null,
   "id": "d6723594",
   "metadata": {},
   "outputs": [],
   "source": []
  },
  {
   "attachments": {},
   "cell_type": "markdown",
   "id": "32a35bc2",
   "metadata": {},
   "source": [
    "### complement_adresse"
   ]
  },
  {
   "cell_type": "code",
   "execution_count": null,
   "id": "02026e94",
   "metadata": {},
   "outputs": [],
   "source": []
  },
  {
   "attachments": {},
   "cell_type": "markdown",
   "id": "ff3de81c",
   "metadata": {},
   "source": [
    "### longitude"
   ]
  },
  {
   "cell_type": "code",
   "execution_count": null,
   "id": "1bc258fa",
   "metadata": {},
   "outputs": [],
   "source": []
  },
  {
   "attachments": {},
   "cell_type": "markdown",
   "id": "1dee2805",
   "metadata": {},
   "source": [
    "### latitude"
   ]
  },
  {
   "cell_type": "code",
   "execution_count": null,
   "id": "5f230af1",
   "metadata": {},
   "outputs": [],
   "source": []
  },
  {
   "attachments": {},
   "cell_type": "markdown",
   "id": "99368eba",
   "metadata": {},
   "source": [
    "### recurrence"
   ]
  },
  {
   "cell_type": "code",
   "execution_count": null,
   "id": "3111b7b0",
   "metadata": {},
   "outputs": [],
   "source": []
  },
  {
   "attachments": {},
   "cell_type": "markdown",
   "id": "ac3f1dba",
   "metadata": {},
   "source": [
    "### date_creation"
   ]
  },
  {
   "cell_type": "code",
   "execution_count": null,
   "id": "c2604ce3",
   "metadata": {},
   "outputs": [],
   "source": []
  },
  {
   "attachments": {},
   "cell_type": "markdown",
   "id": "bfe85521",
   "metadata": {},
   "source": [
    "### date_suspension"
   ]
  },
  {
   "cell_type": "code",
   "execution_count": null,
   "id": "ae0ddac2",
   "metadata": {},
   "outputs": [],
   "source": []
  },
  {
   "attachments": {},
   "cell_type": "markdown",
   "id": "380b6ed9",
   "metadata": {},
   "source": [
    "### lien_source"
   ]
  },
  {
   "cell_type": "code",
   "execution_count": null,
   "id": "f4646843",
   "metadata": {},
   "outputs": [],
   "source": []
  },
  {
   "attachments": {},
   "cell_type": "markdown",
   "id": "3e6b2a75",
   "metadata": {},
   "source": [
    "### telephone"
   ]
  },
  {
   "cell_type": "code",
   "execution_count": null,
   "id": "7f4cde1e",
   "metadata": {},
   "outputs": [],
   "source": []
  },
  {
   "attachments": {},
   "cell_type": "markdown",
   "id": "56572d7d",
   "metadata": {},
   "source": [
    "### courriel"
   ]
  },
  {
   "cell_type": "code",
   "execution_count": null,
   "id": "479e9c47",
   "metadata": {},
   "outputs": [],
   "source": []
  },
  {
   "attachments": {},
   "cell_type": "markdown",
   "id": "167fe689",
   "metadata": {},
   "source": [
    "### contact_public"
   ]
  },
  {
   "cell_type": "code",
   "execution_count": null,
   "id": "5ae52297",
   "metadata": {},
   "outputs": [],
   "source": []
  },
  {
   "attachments": {},
   "cell_type": "markdown",
   "id": "3e2d4c55",
   "metadata": {},
   "source": [
    "### date_maj"
   ]
  },
  {
   "cell_type": "code",
   "execution_count": null,
   "id": "577ee35a",
   "metadata": {},
   "outputs": [],
   "source": []
  },
  {
   "attachments": {},
   "cell_type": "markdown",
   "id": "1b4feeb8",
   "metadata": {},
   "source": [
    "### modes_accueil"
   ]
  },
  {
   "cell_type": "code",
   "execution_count": null,
   "id": "0d7649c1",
   "metadata": {},
   "outputs": [],
   "source": []
  },
  {
   "attachments": {},
   "cell_type": "markdown",
   "id": "6bcfa2c7",
   "metadata": {},
   "source": [
    "### zone_diffusion_type"
   ]
  },
  {
   "cell_type": "code",
   "execution_count": null,
   "id": "aa43b661",
   "metadata": {},
   "outputs": [],
   "source": []
  },
  {
   "attachments": {},
   "cell_type": "markdown",
   "id": "bd815c1f",
   "metadata": {},
   "source": [
    "### zone_diffusion_code"
   ]
  },
  {
   "cell_type": "code",
   "execution_count": null,
   "id": "16e8bbf5",
   "metadata": {},
   "outputs": [],
   "source": []
  },
  {
   "attachments": {},
   "cell_type": "markdown",
   "id": "76d72149",
   "metadata": {},
   "source": [
    "### zone_diffusion_nom"
   ]
  },
  {
   "cell_type": "code",
   "execution_count": null,
   "id": "e4f8de89",
   "metadata": {},
   "outputs": [],
   "source": []
  }
 ],
 "metadata": {
  "kernelspec": {
   "display_name": ".venv",
   "language": "python",
   "name": "python3"
  },
  "language_info": {
   "codemirror_mode": {
    "name": "ipython",
    "version": 3
   },
   "file_extension": ".py",
   "mimetype": "text/x-python",
   "name": "python",
   "nbconvert_exporter": "python",
   "pygments_lexer": "ipython3",
   "version": "3.10.11"
  }
 },
 "nbformat": 4,
 "nbformat_minor": 5
}
