{
 "cells": [
  {
   "cell_type": "code",
   "execution_count": null,
   "metadata": {},
   "outputs": [],
   "source": [
    "import dotenv\n",
    "import matplotlib.pyplot as plt\n",
    "import numpy as np\n",
    "import os\n",
    "import pandas as pd\n",
    "import dotenv\n",
    "from tqdm.auto import tqdm"
   ]
  },
  {
   "cell_type": "code",
   "execution_count": null,
   "metadata": {},
   "outputs": [],
   "source": [
    "dotenv.load_dotenv(dotenv.find_dotenv())"
   ]
  },
  {
   "cell_type": "markdown",
   "metadata": {},
   "source": [
    "[lien](https://apisolidarite.soliguide.fr/Documentation-technique-de-l-API-Solidarit-ecaf8198f0e9400d93140b8043c9f2ce) vers la documentation api soliguide"
   ]
  },
  {
   "cell_type": "code",
   "execution_count": null,
   "metadata": {},
   "outputs": [],
   "source": [
    "pd.options.display.max_rows = None\n",
    "plt.rc(\"figure\", figsize=[12, 8])\n",
    "tqdm.pandas()"
   ]
  },
  {
   "cell_type": "markdown",
   "metadata": {},
   "source": [
    "### chargement des données soliguide"
   ]
  },
  {
   "cell_type": "code",
   "execution_count": null,
   "metadata": {},
   "outputs": [],
   "source": [
    "soliguide_raw_df = pd.read_json(\"soliguide-places-20220721.json\")\n",
    "soliguide_raw_df = soliguide_raw_df.replace([\"\", np.nan], None)"
   ]
  },
  {
   "cell_type": "code",
   "execution_count": null,
   "metadata": {},
   "outputs": [],
   "source": [
    "soliguide_services_df = pd.json_normalize(\n",
    "    soliguide_raw_df.to_dict(orient=\"records\"),\n",
    "    record_path=\"services_all\",\n",
    "    meta=\"lieu_id\",\n",
    ")"
   ]
  },
  {
   "cell_type": "markdown",
   "metadata": {},
   "source": [
    "# 2. Trouver les SIAE correspondants à ces SIRET"
   ]
  },
  {
   "cell_type": "code",
   "execution_count": null,
   "metadata": {},
   "outputs": [],
   "source": [
    "# Récupération des siaes en passant les services catégorisés avec le code 205 (\"Insertion par l'activité économique\")\n",
    "soliguide_siaes_df = soliguide_raw_df[\n",
    "    soliguide_raw_df.lieu_id.isin(\n",
    "        soliguide_services_df[soliguide_services_df.categorie == 205].lieu_id.to_list()\n",
    "    )\n",
    "]\n",
    "\n",
    "soliguide_siaes_df.shape[0]\n"
   ]
  },
  {
   "cell_type": "code",
   "execution_count": null,
   "metadata": {},
   "outputs": [],
   "source": [
    "from data_inclusion.scripts.tasks.sources import soliguide\n",
    "\n",
    "soliguide_siaes_df = soliguide.transform_dataframe(soliguide_siaes_df)"
   ]
  },
  {
   "cell_type": "code",
   "execution_count": null,
   "metadata": {},
   "outputs": [],
   "source": [
    "from data_inclusion.scripts.tasks import geocoding\n",
    "\n",
    "soliguide_siaes_df = geocoding.geocode_normalized_dataframe(\n",
    "    soliguide_siaes_df,\n",
    "    geocoding.BaseAdresseNationaleBackend(base_url=\"https://api-adresse.data.gouv.fr/\"),\n",
    ")\n"
   ]
  },
  {
   "cell_type": "markdown",
   "metadata": {},
   "source": [
    "# 1. Trouver les SIRET automatique pour les données Soliguide"
   ]
  },
  {
   "cell_type": "code",
   "execution_count": null,
   "metadata": {},
   "outputs": [],
   "source": [
    "from data_inclusion.scripts.tasks.siretisation import siretisation\n",
    "\n",
    "soliguide_siaes_df = siretisation.siretize_normalized_dataframe(\n",
    "    soliguide_siaes_df,\n",
    "    os.environ[\"SIRENE_DATABASE_URL\"],\n",
    ")\n"
   ]
  },
  {
   "cell_type": "code",
   "execution_count": null,
   "metadata": {},
   "outputs": [],
   "source": [
    "soliguide_siaes_df.siret.notna().sum()"
   ]
  },
  {
   "cell_type": "markdown",
   "metadata": {},
   "source": [
    "8 erreurs"
   ]
  },
  {
   "cell_type": "code",
   "execution_count": null,
   "metadata": {},
   "outputs": [],
   "source": [
    "# exclude errors\n",
    "soliguide_siaes_df= soliguide_siaes_df[\n",
    "    ~soliguide_siaes_df.siret.isin(\n",
    "        [\n",
    "            \"49929393400018\",\n",
    "            \"79493735900014\",\n",
    "            \"49825896100024\",\n",
    "            \"82068992500015\",\n",
    "            \"39900733500017\",\n",
    "            \"33958232200014\",\n",
    "            \"85154273800014\",\n",
    "            \"90840665500013\",\n",
    "        ]\n",
    "    )\n",
    "]\n"
   ]
  },
  {
   "cell_type": "markdown",
   "metadata": {},
   "source": [
    "### chargement des données siaes des emplois de l'inclusion"
   ]
  },
  {
   "cell_type": "code",
   "execution_count": null,
   "metadata": {},
   "outputs": [],
   "source": [
    "from data_inclusion.scripts.tasks.sources import itou\n",
    "\n",
    "client = itou.ItouClient(\n",
    "    url=\"https://emplois.inclusion.beta.gouv.fr/api/v1/structures/?type=siae\",\n",
    "    token=os.environ[\"ITOU_API_TOKEN\"],\n",
    ")\n",
    "\n",
    "itou_siaes_df = pd.DataFrame(client.list_structures()).replace([np.nan, \"\"], None)"
   ]
  },
  {
   "cell_type": "code",
   "execution_count": null,
   "metadata": {},
   "outputs": [],
   "source": [
    "from data_inclusion.scripts.tasks import geocoding\n",
    "\n",
    "itou_siaes_df = geocoding.geocode_normalized_dataframe(\n",
    "    itou_siaes_df,\n",
    "    geocoding.BaseAdresseNationaleBackend(base_url=\"https://api-adresse.data.gouv.fr/\"),\n",
    ")\n"
   ]
  },
  {
   "cell_type": "code",
   "execution_count": null,
   "metadata": {},
   "outputs": [],
   "source": [
    "itou_siaes_df.shape[0]"
   ]
  },
  {
   "cell_type": "markdown",
   "metadata": {},
   "source": [
    "# 3. croisement emplois de l'inclusion / soliguide sur la base des sirets retrouvés automatiquement"
   ]
  },
  {
   "cell_type": "code",
   "execution_count": null,
   "metadata": {},
   "outputs": [],
   "source": [
    "shared_df = pd.merge(\n",
    "    soliguide_siaes_df.add_prefix(\"soliguide_\"),\n",
    "    itou_siaes_df.drop_duplicates([\"siret\"]).add_prefix(\"itou_\"),\n",
    "    left_on=\"soliguide_siret\",\n",
    "    right_on=\"itou_siret\",\n",
    ")\n",
    "\n",
    "shared_df.shape[0]"
   ]
  },
  {
   "cell_type": "code",
   "execution_count": null,
   "metadata": {},
   "outputs": [],
   "source": [
    "shared_df[[\"soliguide_siret\", \"soliguide_id\", \"itou_id\"]]"
   ]
  },
  {
   "cell_type": "code",
   "execution_count": null,
   "metadata": {},
   "outputs": [],
   "source": [
    "shared_df[[\"soliguide_siret\", \"soliguide_date_maj\", \"itou_date_maj\"]].assign(\n",
    "    latest=shared_df.apply(\n",
    "        lambda row: \"soliguide\"\n",
    "        if row[\"soliguide_date_maj\"] > row[\"itou_date_maj\"]\n",
    "        else \"itou\",\n",
    "        axis=1,\n",
    "    )\n",
    ")\n"
   ]
  },
  {
   "cell_type": "markdown",
   "metadata": {},
   "source": [
    "Departements communs ?"
   ]
  },
  {
   "cell_type": "code",
   "execution_count": null,
   "metadata": {},
   "outputs": [],
   "source": [
    "shared_df.soliguide_code_insee.str[:2].value_counts().to_frame()"
   ]
  },
  {
   "cell_type": "markdown",
   "metadata": {},
   "source": [
    "# 4. Trouver tous les SIAE dans les emplois sur les territoires de Soliguide"
   ]
  },
  {
   "cell_type": "markdown",
   "metadata": {},
   "source": [
    "* Territoires de Soliguide : départements où soliguide a au moins 50 structures\n",
    "* on exclut les SIAEs déjà dans les données de Soliguide"
   ]
  },
  {
   "cell_type": "code",
   "execution_count": null,
   "metadata": {},
   "outputs": [],
   "source": [
    "from data_inclusion.scripts.tasks.sources import soliguide\n",
    "from data_inclusion.scripts.tasks import geocoding\n",
    "\n",
    "soliguide_structures_df = soliguide.transform_dataframe(soliguide_raw_df)\n",
    "soliguide_structures_df = geocoding.geocode_normalized_dataframe(\n",
    "    soliguide_structures_df,\n",
    "    geocoding.BaseAdresseNationaleBackend(base_url=\"https://api-adresse.data.gouv.fr/\"),\n",
    ")"
   ]
  },
  {
   "cell_type": "code",
   "execution_count": null,
   "metadata": {},
   "outputs": [],
   "source": [
    "count_by_cog_dept = soliguide_structures_df.code_insee.str[:2].value_counts()"
   ]
  },
  {
   "cell_type": "markdown",
   "metadata": {},
   "source": [
    "nb de siaes des emplois de l'inclusion sur les territoires de soliguide ?"
   ]
  },
  {
   "cell_type": "code",
   "execution_count": null,
   "metadata": {},
   "outputs": [],
   "source": [
    "itou_siaes_of_interest_df = itou_siaes_df[itou_siaes_df.code_insee.str[:2].isin(count_by_cog_dept[count_by_cog_dept > 50].index.to_list())]\n",
    "itou_siaes_of_interest_df.shape[0]"
   ]
  },
  {
   "cell_type": "markdown",
   "metadata": {},
   "source": [
    "nb de siaes des emplois de l'inclusion inconnues par soliguide sur ses territoires ?"
   ]
  },
  {
   "cell_type": "code",
   "execution_count": null,
   "metadata": {},
   "outputs": [],
   "source": [
    "itou_siaes_of_interest_df = itou_siaes_of_interest_df[~itou_siaes_of_interest_df.siret.isin(soliguide_siaes_df.siret)]\n",
    "itou_siaes_of_interest_df.shape[0]"
   ]
  },
  {
   "cell_type": "code",
   "execution_count": null,
   "metadata": {},
   "outputs": [],
   "source": [
    "soliguide_siaes_df.shape[0]"
   ]
  }
 ],
 "metadata": {
  "kernelspec": {
   "display_name": "Python 3.10.4 ('.venv': venv)",
   "language": "python",
   "name": "python3"
  },
  "language_info": {
   "codemirror_mode": {
    "name": "ipython",
    "version": 3
   },
   "file_extension": ".py",
   "mimetype": "text/x-python",
   "name": "python",
   "nbconvert_exporter": "python",
   "pygments_lexer": "ipython3",
   "version": "3.10.4"
  },
  "vscode": {
   "interpreter": {
    "hash": "5c59c3774541e2228ee548c093b471ded1573b3beb617fa2a9d607b090635324"
   }
  }
 },
 "nbformat": 4,
 "nbformat_minor": 2
}
