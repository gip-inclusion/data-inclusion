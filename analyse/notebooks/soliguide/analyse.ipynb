{
 "cells": [
  {
   "cell_type": "code",
   "execution_count": null,
   "metadata": {},
   "outputs": [],
   "source": [
    "from datetime import date\n",
    "from dateutil.parser import parse as dateutil_parse\n",
    "import os\n",
    "from pathlib import Path\n",
    "import importlib\n",
    "\n",
    "import dotenv\n",
    "import matplotlib.pyplot as plt\n",
    "import numpy as np\n",
    "import pandas as pd\n",
    "\n",
    "import soliguide\n",
    "\n",
    "importlib.reload(soliguide)"
   ]
  },
  {
   "cell_type": "code",
   "execution_count": null,
   "metadata": {},
   "outputs": [],
   "source": [
    "pd.options.display.max_rows = None\n",
    "plt.rc(\"figure\", figsize=[12, 8])"
   ]
  },
  {
   "cell_type": "code",
   "execution_count": null,
   "metadata": {},
   "outputs": [],
   "source": [
    "# Load token from dot `.env` in this notebook directory\n",
    "dotenv.load_dotenv(dotenv.find_dotenv())\n",
    "\n",
    "soliguide_api_client = soliguide.APIClient(\n",
    "    base_url=\"https://api.soliguide.fr/\",\n",
    "    token=os.environ[\"SOLIGUIDE_API_TOKEN\"],\n",
    "    user_agent=\"betaTest\",\n",
    ")"
   ]
  },
  {
   "cell_type": "code",
   "execution_count": null,
   "metadata": {},
   "outputs": [],
   "source": [
    "all_places_data = soliguide_api_client.search(\n",
    "    location_geo_type=\"pays\", location_geo_value=\"france\"\n",
    ")\n",
    "\n",
    "all_places_df = pd.DataFrame.from_records(data=all_places_data)\n",
    "all_places_df.to_json(f\"./soliguide-places-{date.today().strftime('%Y%m%d')}.json\", orient=\"records\")\n"
   ]
  },
  {
   "cell_type": "markdown",
   "metadata": {},
   "source": [
    "### Nettoyage"
   ]
  },
  {
   "cell_type": "code",
   "execution_count": null,
   "metadata": {},
   "outputs": [],
   "source": [
    "# get the latest downloaded data\n",
    "data_file_path = sorted(Path(\".\").glob(\"soliguide-places-*.json\"))[-1]\n",
    "\n",
    "all_places_df = pd.read_json(data_file_path)\n",
    "all_places_df = pd.json_normalize(all_places_df.to_dict(orient=\"records\"))\n",
    "all_places_df = all_places_df.set_index(\"lieu_id\")\n",
    "all_places_df.createdAt = all_places_df.createdAt.apply(lambda s: dateutil_parse(s))\n",
    "all_places_df.updatedAt = all_places_df.updatedAt.apply(lambda s: dateutil_parse(s))\n",
    "all_places_df = all_places_df.replace([np.nan, \"\"], None)\n",
    "all_places_df.sample(5)"
   ]
  },
  {
   "cell_type": "markdown",
   "metadata": {},
   "source": [
    "### Nombres de lieux uniques"
   ]
  },
  {
   "cell_type": "code",
   "execution_count": null,
   "metadata": {},
   "outputs": [],
   "source": [
    "all_places_df.reset_index().lieu_id.nunique()"
   ]
  },
  {
   "cell_type": "markdown",
   "metadata": {},
   "source": [
    "### Nombre de lieux en France"
   ]
  },
  {
   "cell_type": "code",
   "execution_count": null,
   "metadata": {},
   "outputs": [],
   "source": [
    "all_places_df.shape[0]"
   ]
  },
  {
   "cell_type": "markdown",
   "metadata": {},
   "source": [
    "### Taux de remplissage des champs de structures"
   ]
  },
  {
   "cell_type": "code",
   "execution_count": null,
   "metadata": {},
   "outputs": [],
   "source": [
    "def compute_field_occupancy_rates(df):\n",
    "    return ((1 - df.isnull().sum() / df.shape[0]) * 100).sort_values(ascending=False)"
   ]
  },
  {
   "cell_type": "code",
   "execution_count": null,
   "metadata": {},
   "outputs": [],
   "source": [
    "from IPython.display import display\n",
    "for _, df in compute_field_occupancy_rates(all_places_df).groupby(lambda c: c.split(\".\")[0]):\n",
    "    display(df.to_frame())"
   ]
  },
  {
   "cell_type": "markdown",
   "metadata": {},
   "source": [
    "### Distribution de la date de 1er référencement des lieux"
   ]
  },
  {
   "cell_type": "code",
   "execution_count": null,
   "metadata": {},
   "outputs": [],
   "source": [
    "all_places_df.createdAt.hist(bins=100)"
   ]
  },
  {
   "cell_type": "markdown",
   "metadata": {},
   "source": [
    "### Distribution de la date de dernière mise-à-jour"
   ]
  },
  {
   "cell_type": "code",
   "execution_count": null,
   "metadata": {},
   "outputs": [],
   "source": [
    "all_places_df.updatedAt.hist(bins=100)"
   ]
  },
  {
   "cell_type": "markdown",
   "metadata": {},
   "source": [
    "### Typologie\n",
    "\n",
    "* Pas de champs typologie"
   ]
  },
  {
   "cell_type": "code",
   "execution_count": null,
   "metadata": {},
   "outputs": [],
   "source": [
    "categories_flags_places_df = (\n",
    "    all_places_df.name.str.lower()\n",
    "    .apply(\n",
    "        lambda s: {\n",
    "            \"restos_du_c\": \"restos du c\" in s,\n",
    "            \"epicerie\": \"epicerie\" in s,\n",
    "            \"caf\": \"caf\" in s,\n",
    "            \"ccas\": \"ccas\" in s,\n",
    "            \"pole_emploi\": \"pôle emploi\" in s,\n",
    "            \"secours_populaire\": \"secours populaire\" in s,\n",
    "            \"secours_catholique\": \"secours catholique\" in s,\n",
    "            \"mairie\": \"mairie\" in s,\n",
    "            \"commune\": \"commune\" in s,\n",
    "            \"association\": \"association\" in s,\n",
    "            \"mission_locale\": \"mission locale\" in s,\n",
    "            \"action_emploi\": \"action emploi\" in s,\n",
    "            \"caarud\": \"caarud\" in s,\n",
    "            \"croix_rouge\": \"croix\" in s and \"rouge\" in s,\n",
    "            \"pmi\": \"pmi\" in s,\n",
    "            \"*thèque\": \"médiathèque\" in s or \"bibliothèque\" in s,\n",
    "            \"mjd\": \"mjd\" in s,\n",
    "            \"france_services\": \"espace france services\" in s,\n",
    "            \"cidff\": \"cidff\" in s,\n",
    "            \"médiavipp\": \"médiavipp\" in s,\n",
    "            \"nouvelles_voies\": \"nouvelles voies\" in s,\n",
    "            \"adil\": \"adil\" in s,\n",
    "            \"maison_emploi\": \"maison\" in s and \"emploi\" in s,\n",
    "        },\n",
    "    )\n",
    "    .apply(pd.Series)\n",
    "    .assign(\n",
    "        na=lambda df: df.apply(\n",
    "            lambda row: ~row.any(), axis=\"columns\", result_type=\"expand\"\n",
    "        )\n",
    "    )\n",
    ")\n",
    "\n",
    "categories_flags_places_df.sum().sort_values(ascending=False).plot(kind=\"bar\", grid=True, rot=35, figsize=(20, 8))\n"
   ]
  },
  {
   "cell_type": "code",
   "execution_count": null,
   "metadata": {},
   "outputs": [],
   "source": [
    "categories_flags_places_df.drop(columns=[\"na\"]).sum().sort_values(ascending=False).plot(\n",
    "    kind=\"bar\", grid=True, rot=35, figsize=(20, 8)\n",
    ")\n"
   ]
  },
  {
   "cell_type": "markdown",
   "metadata": {},
   "source": [
    "### Répartition géographique"
   ]
  },
  {
   "cell_type": "code",
   "execution_count": null,
   "metadata": {},
   "outputs": [],
   "source": [
    "all_places_df[\"position.departement\"].value_counts().to_frame()"
   ]
  },
  {
   "cell_type": "markdown",
   "metadata": {},
   "source": [
    "### Nombre de lieux par status sur soliguide"
   ]
  },
  {
   "cell_type": "code",
   "execution_count": null,
   "metadata": {},
   "outputs": [],
   "source": [
    "all_places_df.statut.value_counts().to_frame()"
   ]
  },
  {
   "cell_type": "markdown",
   "metadata": {},
   "source": [
    "# Services"
   ]
  },
  {
   "cell_type": "code",
   "execution_count": null,
   "metadata": {},
   "outputs": [],
   "source": [
    "all_services_df = pd.json_normalize(\n",
    "    all_places_df.reset_index().to_dict(orient=\"records\"),\n",
    "    record_path=\"services_all\",\n",
    "    meta=[\"lieu_id\"],\n",
    ")\n",
    "all_services_df = all_services_df.replace([np.nan, \"\"], None)\n",
    "all_services_df.sample(5)\n"
   ]
  },
  {
   "cell_type": "markdown",
   "metadata": {},
   "source": [
    "### Nombre de services"
   ]
  },
  {
   "cell_type": "code",
   "execution_count": null,
   "metadata": {},
   "outputs": [],
   "source": [
    "# nombre de données services\n",
    "all_services_df.shape[0]"
   ]
  },
  {
   "cell_type": "code",
   "execution_count": null,
   "metadata": {},
   "outputs": [],
   "source": [
    "# nombre de services uniques\n",
    "all_services_df.serviceObjectId.nunique()"
   ]
  },
  {
   "cell_type": "markdown",
   "metadata": {},
   "source": [
    "### Nombre de services fermés"
   ]
  },
  {
   "cell_type": "code",
   "execution_count": null,
   "metadata": {},
   "outputs": [],
   "source": [
    "(all_services_df[\"close.actif\"] == True).sum()"
   ]
  },
  {
   "cell_type": "markdown",
   "metadata": {},
   "source": [
    "### Nombre de services par typologie"
   ]
  },
  {
   "cell_type": "code",
   "execution_count": null,
   "metadata": {},
   "outputs": [],
   "source": [
    "# par catégories\n",
    "all_services_df.categorie.apply(lambda code: soliguide.categories_by_subcategories[code]).value_counts().to_frame()"
   ]
  },
  {
   "cell_type": "code",
   "execution_count": null,
   "metadata": {},
   "outputs": [],
   "source": [
    "# par sous-catégories\n",
    "all_services_df.categorie.apply(lambda code: soliguide.categories[code]).value_counts().to_frame()"
   ]
  },
  {
   "cell_type": "markdown",
   "metadata": {},
   "source": [
    "### Taux de remplissage des champs services"
   ]
  },
  {
   "cell_type": "code",
   "execution_count": null,
   "metadata": {},
   "outputs": [],
   "source": [
    "from IPython.display import display\n",
    "for _, df in compute_field_occupancy_rates(all_services_df).groupby(lambda c: c.split(\".\")[0]):\n",
    "    display(df.to_frame())"
   ]
  },
  {
   "attachments": {},
   "cell_type": "markdown",
   "metadata": {},
   "source": [
    "### Typologies"
   ]
  },
  {
   "cell_type": "code",
   "execution_count": null,
   "metadata": {},
   "outputs": [],
   "source": [
    "structures_df = all_places_df[all_places_df[\"position.departement\"] == \"Essonne\"]\n",
    "\n",
    "categories_flags_structures_df = (\n",
    "    structures_df.name.str.lower()\n",
    "    .apply(\n",
    "        lambda s: {\n",
    "            \"restos_du_c\": \"restos du c\" in s,\n",
    "            \"epicerie\": \"epicerie\" in s,\n",
    "            \"caf\": \"caf\" in s,\n",
    "            \"ccas\": \"ccas\" in s,\n",
    "            \"pole_emploi\": \"pôle emploi\" in s,\n",
    "            \"secours_populaire\": \"secours populaire\" in s,\n",
    "            \"secours_catholique\": \"secours catholique\" in s,\n",
    "            \"mairie\": \"mairie\" in s,\n",
    "            \"commune\": \"commune\" in s,\n",
    "            \"association\": \"association\" in s,\n",
    "            \"mission_locale\": \"mission locale\" in s,\n",
    "            \"action_emploi\": \"action emploi\" in s,\n",
    "            \"caarud\": \"caarud\" in s,\n",
    "            \"croix_rouge\": \"croix\" in s and \"rouge\" in s,\n",
    "            \"pmi\": \"pmi\" in s,\n",
    "            \"*thèque\": \"médiathèque\" in s or \"bibliothèque\" in s,\n",
    "            \"mjd\": \"mjd\" in s,\n",
    "            \"france_services\": \"espace france services\" in s,\n",
    "            \"cidff\": \"cidff\" in s,\n",
    "            \"médiavipp\": \"médiavipp\" in s,\n",
    "            \"nouvelles_voies\": \"nouvelles voies\" in s,\n",
    "            \"adil\": \"adil\" in s,\n",
    "            \"maison_emploi\": \"maison\" in s and \"emploi\" in s,\n",
    "        },\n",
    "    )\n",
    "    .apply(pd.Series)\n",
    "    .assign(\n",
    "        na=lambda df: df.apply(\n",
    "            lambda row: ~row.any(), axis=\"columns\", result_type=\"expand\"\n",
    "        )\n",
    "    )\n",
    ")\n"
   ]
  },
  {
   "cell_type": "code",
   "execution_count": null,
   "metadata": {},
   "outputs": [],
   "source": [
    "categories_flags_structures_df.sum().sort_values(ascending=False).plot(\n",
    "    kind=\"bar\", grid=True, rot=45, figsize=(20, 8)\n",
    ")\n"
   ]
  }
 ],
 "metadata": {
  "kernelspec": {
   "display_name": "Python 3 (ipykernel)",
   "language": "python",
   "name": "python3"
  },
  "language_info": {
   "codemirror_mode": {
    "name": "ipython",
    "version": 3
   },
   "file_extension": ".py",
   "mimetype": "text/x-python",
   "name": "python",
   "nbconvert_exporter": "python",
   "pygments_lexer": "ipython3",
   "version": "3.10.4 (main, Apr 24 2022, 15:44:04) [GCC 11.2.0]"
  },
  "toc": {
   "base_numbering": 1,
   "nav_menu": {},
   "number_sections": true,
   "sideBar": true,
   "skip_h1_title": false,
   "title_cell": "Table of Contents",
   "title_sidebar": "Contents",
   "toc_cell": false,
   "toc_position": {},
   "toc_section_display": true,
   "toc_window_display": false
  },
  "vscode": {
   "interpreter": {
    "hash": "5c59c3774541e2228ee548c093b471ded1573b3beb617fa2a9d607b090635324"
   }
  }
 },
 "nbformat": 4,
 "nbformat_minor": 2
}
