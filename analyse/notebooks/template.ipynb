{
 "cells": [
  {
   "attachments": {},
   "cell_type": "markdown",
   "metadata": {},
   "source": [
    "This notebook can be used to generate a notebook for data analysis."
   ]
  },
  {
   "cell_type": "code",
   "execution_count": null,
   "metadata": {},
   "outputs": [],
   "source": [
    "from pathlib import Path\n",
    "\n",
    "import nbformat"
   ]
  },
  {
   "cell_type": "code",
   "execution_count": null,
   "metadata": {},
   "outputs": [],
   "source": [
    "notebook = nbformat.v4.new_notebook()"
   ]
  },
  {
   "cell_type": "code",
   "execution_count": null,
   "metadata": {},
   "outputs": [],
   "source": [
    "%pip install -e ../../../data-inclusion-schema\n",
    "\n",
    "from data_inclusion.schema.models import Structure, Service\n"
   ]
  },
  {
   "cell_type": "code",
   "execution_count": null,
   "metadata": {},
   "outputs": [],
   "source": [
    "TARGET_PATH = \"\""
   ]
  },
  {
   "cell_type": "code",
   "execution_count": null,
   "metadata": {},
   "outputs": [],
   "source": [
    "notebook[\"cells\"] = []\n",
    "\n",
    "notebook[\"cells\"] += [\n",
    "    nbformat.v4.new_code_cell(\n",
    "        \"\"\"\\\n",
    "import os\n",
    "\n",
    "import dotenv\n",
    "import pandas as pd\n",
    "import numpy as np\n",
    "\n",
    "dotenv.load_dotenv(dotenv.find_dotenv())\n",
    "\"\"\"\n",
    "    ),\n",
    "    nbformat.v4.new_code_cell(\n",
    "        \"\"\"\\\n",
    "# raw_df = ...\n",
    "        \"\"\"\n",
    "    ),\n",
    "]\n",
    "notebook[\"cells\"] += [nbformat.v4.new_markdown_cell(\"# Structures\")]\n",
    "notebook[\"cells\"] += [\n",
    "    cell\n",
    "    for field_name in Structure.__fields__\n",
    "    for cell in [\n",
    "        nbformat.v4.new_markdown_cell(f\"### {field_name}\"),\n",
    "        nbformat.v4.new_code_cell(),\n",
    "    ]\n",
    "]\n",
    "notebook[\"cells\"] += [nbformat.v4.new_markdown_cell(\"# Services\")]\n",
    "notebook[\"cells\"] += [\n",
    "    cell\n",
    "    for field_name in Service.__fields__\n",
    "    for cell in [\n",
    "        nbformat.v4.new_markdown_cell(f\"### {field_name}\"),\n",
    "        nbformat.v4.new_code_cell(),\n",
    "    ]\n",
    "]\n"
   ]
  },
  {
   "cell_type": "code",
   "execution_count": null,
   "metadata": {},
   "outputs": [],
   "source": [
    "target_path = Path(TARGET_PATH)\n",
    "target_path.parent.mkdir(parents=True, exist_ok=True)\n",
    "\n",
    "nbformat.write(notebook, target_path)"
   ]
  }
 ],
 "metadata": {
  "kernelspec": {
   "display_name": "Python 3.10.4 ('.venv': venv)",
   "language": "python",
   "name": "python3"
  },
  "language_info": {
   "codemirror_mode": {
    "name": "ipython",
    "version": 3
   },
   "file_extension": ".py",
   "mimetype": "text/x-python",
   "name": "python",
   "nbconvert_exporter": "python",
   "pygments_lexer": "ipython3",
   "version": "3.10.11"
  },
  "vscode": {
   "interpreter": {
    "hash": "5c59c3774541e2228ee548c093b471ded1573b3beb617fa2a9d607b090635324"
   }
  }
 },
 "nbformat": 4,
 "nbformat_minor": 2
}
