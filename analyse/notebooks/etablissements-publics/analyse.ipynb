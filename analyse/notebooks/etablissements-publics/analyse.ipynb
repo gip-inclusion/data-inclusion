{
 "cells": [
  {
   "cell_type": "code",
   "execution_count": null,
   "id": "52a8658d",
   "metadata": {
    "ExecuteTime": {
     "end_time": "2022-09-13T23:32:37.509842Z",
     "start_time": "2022-09-13T23:32:36.353145Z"
    }
   },
   "outputs": [],
   "source": [
    "import requests\n",
    "import numpy as np\n",
    "import pandas as pd\n",
    "import seaborn as sns\n",
    "import matplotlib.pyplot as plt\n"
   ]
  },
  {
   "cell_type": "code",
   "execution_count": null,
   "id": "ed23fe10",
   "metadata": {
    "ExecuteTime": {
     "end_time": "2022-09-13T23:32:37.513351Z",
     "start_time": "2022-09-13T23:32:37.511159Z"
    }
   },
   "outputs": [],
   "source": [
    "pd.options.display.max_columns = None\n",
    "plt.rc(\"figure\", figsize=[12, 4])\n"
   ]
  },
  {
   "cell_type": "markdown",
   "id": "39205c88",
   "metadata": {},
   "source": [
    "# Ancien fichier"
   ]
  },
  {
   "cell_type": "markdown",
   "id": "06a79ee1",
   "metadata": {},
   "source": [
    "## Analyse"
   ]
  },
  {
   "cell_type": "markdown",
   "id": "0e7f6a90",
   "metadata": {},
   "source": [
    "👉 RÉSUMÉ EN BAS DE PAGE"
   ]
  },
  {
   "cell_type": "markdown",
   "id": "3292eedc",
   "metadata": {},
   "source": [
    "Documentation de l'API : https://api.gouv.fr/les-api/api_etablissements_publics"
   ]
  },
  {
   "cell_type": "markdown",
   "id": "4245236f",
   "metadata": {},
   "source": [
    "### Importation des données bruts"
   ]
  },
  {
   "cell_type": "markdown",
   "id": "959b2ec2",
   "metadata": {},
   "source": [
    "Liste des structures à importer"
   ]
  },
  {
   "cell_type": "code",
   "execution_count": null,
   "id": "cc99d895",
   "metadata": {
    "ExecuteTime": {
     "end_time": "2022-09-13T23:32:37.518179Z",
     "start_time": "2022-09-13T23:32:37.515315Z"
    }
   },
   "outputs": [],
   "source": [
    "code_pivot = [\n",
    "    \"agefiph\",\n",
    "    \"agence_insertion\",\n",
    "    \"adil\",\n",
    "    \"ars\",\n",
    "    \"aav\",\n",
    "    \"afpa\",\n",
    "    \"apec\",\n",
    "    \"aract\",\n",
    "    \"apecita\",\n",
    "    \"bav\",\n",
    "    \"caf\",\n",
    "    \"cicas\",\n",
    "    \"cio\",\n",
    "    \"cidf\",\n",
    "    \"pmi\",\n",
    "    \"dr_femmes\",\n",
    "    \"ars_antenne\",\n",
    "    \"direccte\",\n",
    "    \"direccte_ut\",\n",
    "    \"drihl\",\n",
    "    \"drihl_ut\",\n",
    "    \"dd_femmes\",\n",
    "    \"msap\",\n",
    "    \"greta\",\n",
    "    \"cij\",\n",
    "    \"epci\",\n",
    "    \"mairie\",\n",
    "    \"mairie_com\",\n",
    "    \"maison_emploi\",\n",
    "    \"mjd\",\n",
    "    \"maison_handicapees\",\n",
    "    \"mission_locale\",\n",
    "    \"msa\",\n",
    "    \"permanence_juridique\",\n",
    "    \"plateforme_naturalisation\",\n",
    "    \"pcb\",\n",
    "    \"pif\",\n",
    "    \"prefecture\",\n",
    "    \"droit_travail\",\n",
    "]\n"
   ]
  },
  {
   "cell_type": "markdown",
   "id": "830d054c",
   "metadata": {},
   "source": [
    "Appel à l'API pour l'ensemble des structures de la liste"
   ]
  },
  {
   "cell_type": "code",
   "execution_count": null,
   "id": "4d219d4f",
   "metadata": {
    "ExecuteTime": {
     "end_time": "2022-09-13T23:33:17.342674Z",
     "start_time": "2022-09-13T23:32:37.519380Z"
    }
   },
   "outputs": [],
   "source": [
    "url = \"https://etablissements-publics.api.gouv.fr/v3/organismes/\"\n",
    "df = pd.DataFrame()\n",
    "\n",
    "for code in code_pivot:\n",
    "    response = requests.get(url + code)\n",
    "    data = response.json()\n",
    "    code_df = pd.json_normalize(data, [\"features\", []])\n",
    "    df = pd.concat([raw_df, code_df])\n"
   ]
  },
  {
   "cell_type": "code",
   "execution_count": null,
   "id": "e8288edf",
   "metadata": {},
   "outputs": [],
   "source": [
    "df.info()\n"
   ]
  },
  {
   "cell_type": "markdown",
   "id": "398c6fb6",
   "metadata": {},
   "source": [
    "## Adresses\n",
    "\n",
    "type d'adresse: géopostale vs postale vs physique\n",
    "\n",
    "cf https://routagedoc.sudeducation.org/IMG/pdf/adressage.pdf\n",
    "\n"
   ]
  },
  {
   "cell_type": "code",
   "execution_count": null,
   "id": "8cf21b47",
   "metadata": {},
   "outputs": [],
   "source": [
    "adresses_df = pd.json_normalize(\n",
    "    raw_df.to_dict(orient=\"records\"),\n",
    "    record_path=\"properties.adresses\",\n",
    "    meta=\"properties.id\",\n",
    ")\n"
   ]
  },
  {
   "cell_type": "code",
   "execution_count": null,
   "id": "de72ed11",
   "metadata": {},
   "outputs": [],
   "source": [
    "adresses_df.type.value_counts()\n"
   ]
  },
  {
   "cell_type": "code",
   "execution_count": null,
   "id": "bc5a1942",
   "metadata": {},
   "outputs": [],
   "source": [
    "adresses_df[\"properties.id\"].nunique()\n"
   ]
  },
  {
   "cell_type": "code",
   "execution_count": null,
   "id": "2cf9640f",
   "metadata": {},
   "outputs": [],
   "source": [
    "adresses_df[(adresses_df.type == \"géopostale\") | (adresses_df.type == \"physique\")][\n",
    "    \"properties.id\"\n",
    "].nunique()\n"
   ]
  },
  {
   "cell_type": "code",
   "execution_count": null,
   "id": "290b2c13",
   "metadata": {},
   "outputs": [],
   "source": [
    "adresses_df[\n",
    "    (adresses_df.type == \"géopostale\") | (adresses_df.type == \"physique\")\n",
    "].shape[0]\n"
   ]
  },
  {
   "cell_type": "markdown",
   "id": "35fead0b",
   "metadata": {},
   "source": [
    "conclusion: la quasitotalité des structures ont soit une adresse géopostale, soit une adresse physique, de manière mutuellement exclusive\n",
    "\n",
    "choix : ordre de prio géopostale/physique > postale"
   ]
  },
  {
   "cell_type": "code",
   "execution_count": null,
   "id": "006d0769",
   "metadata": {},
   "outputs": [],
   "source": [
    "adresses_df = adresses_df.sort_values(\"type\")\n",
    "adresses_df = adresses_df.drop_duplicates(\"properties.id\", keep=\"first\")\n"
   ]
  },
  {
   "cell_type": "code",
   "execution_count": null,
   "id": "a9682d17",
   "metadata": {},
   "outputs": [],
   "source": [
    "adresses_df.shape[0]\n"
   ]
  },
  {
   "cell_type": "code",
   "execution_count": null,
   "id": "143af345",
   "metadata": {},
   "outputs": [],
   "source": [
    "def compute_field_occupancy_rates(df):\n",
    "    return ((1 - df.isnull().sum() / df.shape[0]) * 100).sort_values(ascending=False)\n"
   ]
  },
  {
   "cell_type": "markdown",
   "id": "4908d203",
   "metadata": {},
   "source": [
    "### Aperçu"
   ]
  },
  {
   "cell_type": "code",
   "execution_count": null,
   "id": "2fa1262f",
   "metadata": {
    "ExecuteTime": {
     "end_time": "2022-09-13T23:33:17.388466Z",
     "start_time": "2022-09-13T23:33:17.344169Z"
    }
   },
   "outputs": [],
   "source": [
    "df.sample(2)\n"
   ]
  },
  {
   "cell_type": "markdown",
   "id": "2bd88cc2",
   "metadata": {},
   "source": [
    "### Taux de remplissage de la structure"
   ]
  },
  {
   "cell_type": "code",
   "execution_count": null,
   "id": "e8376482",
   "metadata": {
    "ExecuteTime": {
     "end_time": "2022-09-13T23:33:17.539096Z",
     "start_time": "2022-09-13T23:33:17.389782Z"
    }
   },
   "outputs": [],
   "source": [
    "def compute_field_occupancy_rates(df):\n",
    "    return ((1 - df.isnull().sum() / df.shape[0]) * 100).sort_values(ascending=False)\n",
    "\n",
    "\n",
    "compute_field_occupancy_rates(df).to_frame()\n"
   ]
  },
  {
   "cell_type": "markdown",
   "id": "c7fb297c",
   "metadata": {},
   "source": [
    "### Identifiant local ?"
   ]
  },
  {
   "cell_type": "markdown",
   "id": "cfbec15e",
   "metadata": {},
   "source": [
    "Le champs `properties.id`"
   ]
  },
  {
   "cell_type": "code",
   "execution_count": null,
   "id": "3638725c",
   "metadata": {},
   "outputs": [],
   "source": [
    "df[\"properties.id\"].nunique()\n"
   ]
  },
  {
   "cell_type": "markdown",
   "id": "8e054500",
   "metadata": {},
   "source": [
    "### Code INSEE ?"
   ]
  },
  {
   "cell_type": "markdown",
   "id": "08505d7c",
   "metadata": {},
   "source": [
    "Le champs `properties.codeInsee` est présent et complet."
   ]
  },
  {
   "cell_type": "markdown",
   "id": "5e4d2bcc",
   "metadata": {},
   "source": [
    "### Dates ?"
   ]
  },
  {
   "cell_type": "markdown",
   "id": "19efff6c",
   "metadata": {},
   "source": [
    "Aucune information n'est disponible concernant les dates."
   ]
  },
  {
   "cell_type": "markdown",
   "id": "cf8ef660",
   "metadata": {},
   "source": [
    "### SIRET"
   ]
  },
  {
   "cell_type": "markdown",
   "id": "7a15af34",
   "metadata": {},
   "source": [
    "Aucune information sur les SIRET."
   ]
  },
  {
   "cell_type": "markdown",
   "id": "b3156652",
   "metadata": {},
   "source": [
    "### Nettoyage"
   ]
  },
  {
   "cell_type": "code",
   "execution_count": null,
   "id": "a69478ff",
   "metadata": {
    "ExecuteTime": {
     "end_time": "2022-09-13T23:33:17.772667Z",
     "start_time": "2022-09-13T23:33:17.540109Z"
    }
   },
   "outputs": [],
   "source": [
    "# Traitement des données absentes\n",
    "df = df.replace([\"\", np.nan], None)\n"
   ]
  },
  {
   "cell_type": "markdown",
   "id": "0de18f06",
   "metadata": {},
   "source": [
    "### Analyse des secteurs"
   ]
  },
  {
   "cell_type": "code",
   "execution_count": null,
   "id": "25719647",
   "metadata": {
    "ExecuteTime": {
     "end_time": "2022-09-13T23:33:18.126616Z",
     "start_time": "2022-09-13T23:33:17.773998Z"
    }
   },
   "outputs": [],
   "source": [
    "plt.rc(\"figure\", figsize=[12, 8])\n",
    "sns.countplot(\n",
    "    data=df.fillna(\"Inconnu\"),\n",
    "    y=\"properties.pivotLocal\",\n",
    "    order=df[\"properties.pivotLocal\"].fillna(\"Inconnu\").value_counts().index,\n",
    ")\n"
   ]
  },
  {
   "cell_type": "markdown",
   "id": "274d5dea",
   "metadata": {},
   "source": [
    "### Analyse des typologies"
   ]
  },
  {
   "cell_type": "markdown",
   "id": "075d6e38",
   "metadata": {},
   "source": [
    "Analyse approfondie à prévoir pour matcher les autres structures du pivot avec notre schéma."
   ]
  },
  {
   "cell_type": "code",
   "execution_count": null,
   "id": "21ab6150",
   "metadata": {},
   "outputs": [],
   "source": [
    "categories_flags_places_df = (\n",
    "    df['properties.pivotLocal'].str.lower()\n",
    "    .apply(\n",
    "        lambda s: \n",
    "    )\n",
    "    .apply(pd.Series)\n",
    "    .assign(\n",
    "        na=lambda df: df.apply(\n",
    "            lambda row: ~row.any(), axis=\"columns\", result_type=\"expand\"\n",
    "        )\n",
    "    )\n",
    ")\n",
    "\n",
    "categories_flags_places_df.sum().sort_values(ascending=False).plot(kind=\"bar\", grid=True, rot=35, figsize=(20, 8))"
   ]
  },
  {
   "cell_type": "markdown",
   "id": "0b01bff4",
   "metadata": {},
   "source": [
    "## Résumé"
   ]
  },
  {
   "cell_type": "markdown",
   "id": "3eca59c0",
   "metadata": {},
   "source": [
    "<br>✅ Id disponible (id)\n",
    "<br>✅ 100% des champs obligatoires\n",
    "<br>✅ Champs non-obligatoires disponibles (code INSEE, téléphone,...)\n",
    "<br>\n",
    "<br>❌ Pas de dates\n",
    "<br>❌ Pas de SIRET\n",
    "<br>❌ Pas de rna"
   ]
  },
  {
   "cell_type": "markdown",
   "id": "0b06c961",
   "metadata": {},
   "source": [
    "# Nouveau fichier (v4)\n",
    "\n",
    "[Documentation](https://echanges.dila.gouv.fr/OPENDATA/Base_donn%c3%a9es_locales/Specifications-datagouv-base-de-donnees-locales-Service-public_V1.1.pdf)"
   ]
  },
  {
   "cell_type": "code",
   "execution_count": null,
   "id": "6ac5bab1",
   "metadata": {},
   "outputs": [],
   "source": [
    "import numpy as np\n",
    "import pandas as pd\n",
    "import requests\n",
    "import tarfile\n",
    "import zipfile\n"
   ]
  },
  {
   "cell_type": "markdown",
   "id": "0c096277",
   "metadata": {},
   "source": [
    "## Analyse du dataset entier"
   ]
  },
  {
   "cell_type": "code",
   "execution_count": null,
   "id": "1f9fc4be",
   "metadata": {},
   "outputs": [],
   "source": [
    "url = \"https://www.data.gouv.fr/fr/datasets/r/73302880-e4df-4d4c-8676-1a61bb997f3d\""
   ]
  },
  {
   "cell_type": "code",
   "execution_count": null,
   "id": "60b90cad",
   "metadata": {},
   "outputs": [],
   "source": [
    "response = requests.get(url)"
   ]
  },
  {
   "cell_type": "code",
   "execution_count": null,
   "id": "66a00f9d",
   "metadata": {},
   "outputs": [],
   "source": [
    "with open(url.split(\"/\")[-1], \"wb\") as output_file:\n",
    "    output_file.write(response.content)\n"
   ]
  },
  {
   "cell_type": "code",
   "execution_count": null,
   "id": "23dd3da6",
   "metadata": {},
   "outputs": [],
   "source": [
    "with tarfile.open(url.split(\"/\")[-1], \"r:bz2\") as tar:\n",
    "    tar.extractall()\n"
   ]
  },
  {
   "cell_type": "code",
   "execution_count": null,
   "id": "4a161c8b",
   "metadata": {},
   "outputs": [],
   "source": [
    "import json\n",
    "import pathlib\n",
    "\n",
    "with next(pathlib.Path().glob(\"*.gouv_local.json\")).open() as f:\n",
    "    data = json.load(f)\n"
   ]
  },
  {
   "cell_type": "code",
   "execution_count": null,
   "id": "7cf07762",
   "metadata": {},
   "outputs": [],
   "source": [
    "raw_df = pd.json_normalize(data[\"service\"])\n",
    "raw_df = raw_df.replace([np.nan, \"\"], None)\n"
   ]
  },
  {
   "cell_type": "code",
   "execution_count": null,
   "id": "3528b24a",
   "metadata": {},
   "outputs": [],
   "source": [
    "raw_df.info()\n"
   ]
  },
  {
   "cell_type": "code",
   "execution_count": null,
   "id": "3f625488",
   "metadata": {},
   "outputs": [],
   "source": [
    "raw_df.siret.notna().sum()\n"
   ]
  },
  {
   "cell_type": "code",
   "execution_count": null,
   "id": "93c43dc7",
   "metadata": {},
   "outputs": [],
   "source": [
    "def compute_field_occupancy_rates(df):\n",
    "    return ((1 - df.isnull().sum() / df.shape[0]) * 100).sort_values(ascending=False)\n",
    "\n",
    "compute_field_occupancy_rates(raw_df).to_frame()"
   ]
  },
  {
   "cell_type": "markdown",
   "id": "d91a499e",
   "metadata": {},
   "source": [
    "## Analyse circonscrite aux éléments pivot"
   ]
  },
  {
   "cell_type": "markdown",
   "id": "0374efe7",
   "metadata": {},
   "source": [
    "Traitement des données sur la base du dataframe original :"
   ]
  },
  {
   "cell_type": "code",
   "execution_count": null,
   "id": "585deb74",
   "metadata": {},
   "outputs": [],
   "source": [
    "raw_df.sample(3)"
   ]
  },
  {
   "cell_type": "code",
   "execution_count": null,
   "id": "9f7a7ea1",
   "metadata": {},
   "outputs": [],
   "source": [
    "types_df = pd.json_normalize(\n",
    "    raw_df.to_dict(orient=\"records\"), record_path=\"pivot\", meta=\"id\"\n",
    ")\n",
    "types_df.info()"
   ]
  },
  {
   "cell_type": "code",
   "execution_count": null,
   "id": "7b922f10",
   "metadata": {},
   "outputs": [],
   "source": [
    "types_df.id.duplicated().sum()"
   ]
  },
  {
   "cell_type": "code",
   "execution_count": null,
   "id": "8edb19ae",
   "metadata": {},
   "outputs": [],
   "source": [
    "types_df.type_service_local.value_counts().head(20).to_frame()"
   ]
  },
  {
   "cell_type": "code",
   "execution_count": null,
   "id": "394517e8",
   "metadata": {},
   "outputs": [],
   "source": [
    "filtered_types_df = types_df[types_df.type_service_local.isin(code_pivot)]\n",
    "filtered_types_df.sample(3)"
   ]
  },
  {
   "cell_type": "markdown",
   "id": "c5229b0d",
   "metadata": {},
   "source": [
    "On filtre les données sur la base des pivots qui nous concernent :"
   ]
  },
  {
   "cell_type": "code",
   "execution_count": null,
   "id": "a2517b8f",
   "metadata": {},
   "outputs": [],
   "source": [
    "filtered_df = pd.merge(\n",
    "    raw_df, filtered_types_df[[\"id\", \"type_service_local\"]], how=\"inner\", on=\"id\"\n",
    ")"
   ]
  },
  {
   "cell_type": "code",
   "execution_count": null,
   "id": "ea4a2a85",
   "metadata": {},
   "outputs": [],
   "source": [
    "filtered_df.siret.fillna(filtered_df.siren).notna().sum()"
   ]
  },
  {
   "cell_type": "code",
   "execution_count": null,
   "id": "82043e35",
   "metadata": {},
   "outputs": [],
   "source": [
    "filtered_df.shape[0]"
   ]
  },
  {
   "cell_type": "code",
   "execution_count": null,
   "id": "051bad49",
   "metadata": {},
   "outputs": [],
   "source": [
    "filtered_df.sample(1).to_dict(orient=\"records\")"
   ]
  },
  {
   "cell_type": "markdown",
   "id": "69aa38bf",
   "metadata": {},
   "source": [
    "### taux de remplissage des champs"
   ]
  },
  {
   "cell_type": "code",
   "execution_count": null,
   "id": "0b7f123d",
   "metadata": {},
   "outputs": [],
   "source": [
    "compute_field_occupancy_rates(filtered_df).to_frame()"
   ]
  },
  {
   "cell_type": "code",
   "execution_count": null,
   "id": "4ec196e0",
   "metadata": {},
   "outputs": [],
   "source": [
    "adresses_df = pd.json_normalize(\n",
    "    filtered_df.to_dict(orient=\"records\"),\n",
    "    record_path=\"adresse\",\n",
    "    meta=\"id\"\n",
    ")"
   ]
  },
  {
   "cell_type": "code",
   "execution_count": null,
   "id": "15a0ad08",
   "metadata": {},
   "outputs": [],
   "source": [
    "adresses_df.type_adresse.value_counts()"
   ]
  },
  {
   "cell_type": "code",
   "execution_count": null,
   "id": "ba58ac77",
   "metadata": {},
   "outputs": [],
   "source": [
    "adresses_df.id.duplicated().sum()"
   ]
  },
  {
   "cell_type": "code",
   "execution_count": null,
   "id": "86dfcfa8",
   "metadata": {},
   "outputs": [],
   "source": [
    "adresses_df.id.nunique()\n"
   ]
  },
  {
   "cell_type": "markdown",
   "id": "8080a7ab",
   "metadata": {},
   "source": [
    "conclusion: toutes ont au moins une adresse, quelques unes ont 2 adresses"
   ]
  },
  {
   "cell_type": "markdown",
   "id": "05238304",
   "metadata": {},
   "source": [
    "### Date de création"
   ]
  },
  {
   "cell_type": "code",
   "execution_count": null,
   "id": "6e439ac4",
   "metadata": {},
   "outputs": [],
   "source": [
    "filtered_df.date_creation.value_counts()"
   ]
  },
  {
   "cell_type": "code",
   "execution_count": null,
   "id": "b0095626",
   "metadata": {},
   "outputs": [],
   "source": [
    "filtered_df.date_creation.value_counts()"
   ]
  },
  {
   "cell_type": "code",
   "execution_count": null,
   "id": "f9d3961b",
   "metadata": {},
   "outputs": [],
   "source": [
    "filtered_df.date_modification.isna().sum()"
   ]
  },
  {
   "cell_type": "markdown",
   "id": "1b3b84bc",
   "metadata": {},
   "source": [
    "conclusion: date de maj complete mais très mauvais à priori pour une bonne partie du fichier"
   ]
  },
  {
   "cell_type": "markdown",
   "id": "29ac0b06",
   "metadata": {},
   "source": [
    "### Identifiant local"
   ]
  },
  {
   "cell_type": "markdown",
   "id": "ef58547a",
   "metadata": {},
   "source": [
    "Nouvel identifiant `id` complet."
   ]
  },
  {
   "cell_type": "code",
   "execution_count": null,
   "id": "7d131736",
   "metadata": {},
   "outputs": [],
   "source": [
    "filtered_df.id.nunique()"
   ]
  },
  {
   "cell_type": "markdown",
   "id": "13a7acc1",
   "metadata": {},
   "source": [
    "### Nom"
   ]
  },
  {
   "cell_type": "code",
   "execution_count": null,
   "id": "f405aa1c",
   "metadata": {},
   "outputs": [],
   "source": [
    "filtered_df.nom.isna().sum()"
   ]
  },
  {
   "cell_type": "code",
   "execution_count": null,
   "id": "3533aa8a",
   "metadata": {},
   "outputs": [],
   "source": [
    "filtered_df.nom.sample(5)"
   ]
  },
  {
   "cell_type": "code",
   "execution_count": null,
   "id": "0cf6013e",
   "metadata": {},
   "outputs": [],
   "source": [
    "filtered_df[[\"nom\", \"code_insee_commune\"]].value_counts()"
   ]
  },
  {
   "cell_type": "code",
   "execution_count": null,
   "id": "74aaa012",
   "metadata": {},
   "outputs": [],
   "source": [
    "pd.json_normalize(filtered_df[filtered_df.nom == \"Caisse d'allocations familiales (Caf) de l'Essonne - accueil d'Évry\"].to_dict(orient=\"records\"), record_path=\"adresse\")"
   ]
  },
  {
   "cell_type": "markdown",
   "id": "22b68e8f",
   "metadata": {},
   "source": [
    "conclusion: à priori, plûtot clean"
   ]
  },
  {
   "cell_type": "markdown",
   "id": "96fe0352",
   "metadata": {},
   "source": [
    "### commune"
   ]
  },
  {
   "cell_type": "code",
   "execution_count": null,
   "id": "b65f65f0",
   "metadata": {},
   "outputs": [],
   "source": [
    "adresses_df = pd.json_normalize(\n",
    "    filtered_df.to_dict(orient=\"records\"),\n",
    "    record_path=\"adresse\",\n",
    "    meta=\"id\",\n",
    ")"
   ]
  },
  {
   "cell_type": "code",
   "execution_count": null,
   "id": "11a001d9",
   "metadata": {},
   "outputs": [],
   "source": [
    "adresses_df"
   ]
  },
  {
   "cell_type": "code",
   "execution_count": null,
   "id": "f7c7a991",
   "metadata": {},
   "outputs": [],
   "source": [
    "adresses_df.id.duplicated(keep=False).sum()"
   ]
  },
  {
   "cell_type": "code",
   "execution_count": null,
   "id": "e0bb5b8c",
   "metadata": {},
   "outputs": [],
   "source": [
    "adresses_df = adresses_df.sort_values(by=\"type_adresse\")\n",
    "adresses_df = adresses_df.drop_duplicates(subset=[\"id\"],keep=\"first\")"
   ]
  },
  {
   "cell_type": "code",
   "execution_count": null,
   "id": "590a907e",
   "metadata": {},
   "outputs": [],
   "source": [
    "adresses_df.id.duplicated(keep=False).sum()"
   ]
  },
  {
   "cell_type": "code",
   "execution_count": null,
   "id": "24b0f3de",
   "metadata": {},
   "outputs": [],
   "source": [
    "filtered_df = pd.merge(filtered_df, adresses_df, how=\"left\", on=\"id\")"
   ]
  },
  {
   "cell_type": "code",
   "execution_count": null,
   "id": "bbf4529a",
   "metadata": {},
   "outputs": [],
   "source": [
    "filtered_df.nom_commune.isna().sum()"
   ]
  },
  {
   "cell_type": "markdown",
   "id": "8e3a4534",
   "metadata": {},
   "source": [
    "### code postal"
   ]
  },
  {
   "cell_type": "code",
   "execution_count": null,
   "id": "98bfcd28",
   "metadata": {},
   "outputs": [],
   "source": [
    "filtered_df.code_postal.isna().sum()"
   ]
  },
  {
   "cell_type": "markdown",
   "id": "b0f13dc9",
   "metadata": {},
   "source": [
    "### Code Insee"
   ]
  },
  {
   "cell_type": "code",
   "execution_count": null,
   "id": "c18161a6",
   "metadata": {},
   "outputs": [],
   "source": [
    "filtered_df.code_insee_commune.isna().sum()"
   ]
  },
  {
   "cell_type": "markdown",
   "id": "c486edcd",
   "metadata": {},
   "source": [
    "### adresse"
   ]
  },
  {
   "cell_type": "code",
   "execution_count": null,
   "id": "686d8b6f",
   "metadata": {},
   "outputs": [],
   "source": [
    "filtered_df.adresse.isna().sum()"
   ]
  },
  {
   "cell_type": "code",
   "execution_count": null,
   "id": "3e623d35",
   "metadata": {},
   "outputs": [],
   "source": [
    "filtered_df[[\"numero_voie\", \"complement1\"]].sample(10)"
   ]
  },
  {
   "cell_type": "markdown",
   "id": "8b40a632",
   "metadata": {},
   "source": [
    "### longitude, latitude"
   ]
  },
  {
   "cell_type": "code",
   "execution_count": null,
   "id": "54a89f52",
   "metadata": {},
   "outputs": [],
   "source": [
    "filtered_df.longitude.isna().sum(), filtered_df.latitude.isna().sum()"
   ]
  },
  {
   "cell_type": "markdown",
   "id": "466c44dd",
   "metadata": {},
   "source": [
    "### telephone"
   ]
  },
  {
   "cell_type": "code",
   "execution_count": null,
   "id": "a67d96dc",
   "metadata": {},
   "outputs": [],
   "source": [
    "(filtered_df.telephone.astype(str) == \"[]\").sum()"
   ]
  },
  {
   "cell_type": "code",
   "execution_count": null,
   "id": "14b5c9bd",
   "metadata": {},
   "outputs": [],
   "source": [
    "telephone_df = pd.json_normalize(filtered_df.to_dict(orient=\"records\"), record_path=\"telephone\", meta=\"id\")"
   ]
  },
  {
   "cell_type": "code",
   "execution_count": null,
   "id": "3f920870",
   "metadata": {},
   "outputs": [],
   "source": [
    "telephone_df.shape[0]"
   ]
  },
  {
   "cell_type": "code",
   "execution_count": null,
   "id": "c0c987ae",
   "metadata": {},
   "outputs": [],
   "source": [
    "telephone_df.id.duplicated(keep=False).sum()"
   ]
  },
  {
   "cell_type": "code",
   "execution_count": null,
   "id": "0a7d02fa",
   "metadata": {},
   "outputs": [],
   "source": [
    "telephone_df[telephone_df.id.duplicated(keep=False)]"
   ]
  },
  {
   "cell_type": "code",
   "execution_count": null,
   "id": "cbad8e06",
   "metadata": {},
   "outputs": [],
   "source": [
    "import re\n",
    "\n",
    "telephone_df[telephone_df.valeur.map(lambda s: re.match(r\"[a-zA-Z]+\", s) != None)]"
   ]
  },
  {
   "cell_type": "markdown",
   "id": "10fb4ec6",
   "metadata": {},
   "source": [
    "### courriel"
   ]
  },
  {
   "cell_type": "code",
   "execution_count": null,
   "id": "96da061b",
   "metadata": {},
   "outputs": [],
   "source": [
    "courriel_df = pd.json_normalize(filtered_df.to_dict(orient=\"records\"), record_path=\"adresse_courriel\", meta=\"id\")"
   ]
  },
  {
   "cell_type": "code",
   "execution_count": null,
   "id": "1bb814fd",
   "metadata": {},
   "outputs": [],
   "source": [
    "courriel_df = courriel_df.rename(columns={0: \"valeur\"})"
   ]
  },
  {
   "cell_type": "code",
   "execution_count": null,
   "id": "e1effc1e",
   "metadata": {},
   "outputs": [],
   "source": [
    "courriel_df.valeur.value_counts()"
   ]
  },
  {
   "cell_type": "code",
   "execution_count": null,
   "id": "18dda3bd",
   "metadata": {},
   "outputs": [],
   "source": [
    "courriel_df.id.duplicated(keep=False).sum()"
   ]
  },
  {
   "cell_type": "code",
   "execution_count": null,
   "id": "c4f70c8a",
   "metadata": {},
   "outputs": [],
   "source": [
    "courriel_df[courriel_df.id.duplicated(keep=False)]"
   ]
  },
  {
   "cell_type": "markdown",
   "id": "523a57ab",
   "metadata": {},
   "source": [
    "### site web"
   ]
  },
  {
   "cell_type": "code",
   "execution_count": null,
   "id": "d60f958b",
   "metadata": {},
   "outputs": [],
   "source": [
    "site_internet_df = pd.json_normalize(filtered_df.to_dict(orient=\"records\"), record_path=\"site_internet\", meta=\"id\")"
   ]
  },
  {
   "cell_type": "code",
   "execution_count": null,
   "id": "4c6d5b50",
   "metadata": {},
   "outputs": [],
   "source": [
    "site_internet_df.id.duplicated(keep=False).sum()"
   ]
  },
  {
   "cell_type": "code",
   "execution_count": null,
   "id": "ed31df4c",
   "metadata": {},
   "outputs": [],
   "source": [
    "site_internet_df[site_internet_df.id.duplicated(keep=False)]"
   ]
  },
  {
   "cell_type": "markdown",
   "id": "bb9d14f3",
   "metadata": {},
   "source": [
    "### description"
   ]
  },
  {
   "cell_type": "code",
   "execution_count": null,
   "id": "d35aa0d5",
   "metadata": {},
   "outputs": [],
   "source": [
    "(filtered_df.texte_reference.astype(str) != \"[]\").sum()"
   ]
  },
  {
   "cell_type": "code",
   "execution_count": null,
   "id": "06ccd65d",
   "metadata": {},
   "outputs": [],
   "source": [
    "filtered_df.mission.notna().sum()"
   ]
  },
  {
   "cell_type": "code",
   "execution_count": null,
   "id": "bfa1ecb6",
   "metadata": {},
   "outputs": [],
   "source": [
    "filtered_df[filtered_df.mission.notna()].mission.sample(10).to_frame()"
   ]
  },
  {
   "cell_type": "markdown",
   "id": "94374c94",
   "metadata": {},
   "source": [
    "### date maj"
   ]
  },
  {
   "cell_type": "code",
   "execution_count": null,
   "id": "741999af",
   "metadata": {},
   "outputs": [],
   "source": [
    "filtered_df.date_modification.sample(5)"
   ]
  },
  {
   "cell_type": "code",
   "execution_count": null,
   "id": "cad662e0",
   "metadata": {},
   "outputs": [],
   "source": [
    "from datetime import datetime\n",
    "\n",
    "filtered_df.date_modification.map(lambda s: datetime.strptime(s, \"%d/%m/%Y %H:%M:%S\"))\n"
   ]
  },
  {
   "cell_type": "markdown",
   "id": "d2d0bc95",
   "metadata": {},
   "source": [
    "### lien source"
   ]
  },
  {
   "cell_type": "code",
   "execution_count": null,
   "id": "c9e40277",
   "metadata": {},
   "outputs": [],
   "source": [
    "annuaire_df = pd.json_normalize(filtered_df.to_dict(orient=\"records\"), record_path=\"annuaire\", meta=\"id\")"
   ]
  },
  {
   "cell_type": "markdown",
   "id": "7b9a8424",
   "metadata": {},
   "source": [
    "### accessibilité"
   ]
  },
  {
   "cell_type": "code",
   "execution_count": null,
   "id": "cb24cde7",
   "metadata": {},
   "outputs": [],
   "source": [
    "adresses_df.accessibilite.value_counts()"
   ]
  },
  {
   "cell_type": "markdown",
   "id": "f53f75b6",
   "metadata": {},
   "source": [
    "### horaires d'ouverture"
   ]
  },
  {
   "cell_type": "code",
   "execution_count": null,
   "id": "edfcde09",
   "metadata": {},
   "outputs": [],
   "source": [
    "horaires_df = pd.json_normalize(filtered_df.to_dict(orient=\"records\"), record_path=\"plage_ouverture\", meta=\"id\")"
   ]
  },
  {
   "cell_type": "code",
   "execution_count": null,
   "id": "27d0b33a",
   "metadata": {},
   "outputs": [],
   "source": [
    "filtered_df.plage_ouverture.map(json.dumps)"
   ]
  },
  {
   "cell_type": "markdown",
   "id": "0cdd147b",
   "metadata": {},
   "source": [
    "### labels nationaux"
   ]
  },
  {
   "cell_type": "code",
   "execution_count": null,
   "id": "96518d10",
   "metadata": {},
   "outputs": [],
   "source": [
    "filtered_df.partenaire.value_counts()"
   ]
  },
  {
   "cell_type": "code",
   "execution_count": null,
   "id": "4dbf5d69",
   "metadata": {},
   "outputs": [],
   "source": [
    "filtered_df.apply(lambda row: \"afpa\" in row.nom.lower(), axis=\"columns\").sum()"
   ]
  },
  {
   "cell_type": "code",
   "execution_count": null,
   "id": "a55831a9",
   "metadata": {},
   "outputs": [],
   "source": [
    "types_df.type_service_local.value_counts().head(20).to_frame()"
   ]
  },
  {
   "cell_type": "code",
   "execution_count": null,
   "id": "83208f96",
   "metadata": {},
   "outputs": [],
   "source": [
    "filtered_df.type_service_local.value_counts().head(50).to_frame()"
   ]
  },
  {
   "cell_type": "markdown",
   "id": "6226f644",
   "metadata": {},
   "source": [
    "### SIRET"
   ]
  },
  {
   "cell_type": "code",
   "execution_count": null,
   "id": "7a057a59",
   "metadata": {},
   "outputs": [],
   "source": [
    "filtered_df.siret.notna().sum()"
   ]
  },
  {
   "cell_type": "code",
   "execution_count": null,
   "id": "dd9ee182",
   "metadata": {},
   "outputs": [],
   "source": [
    "filtered_df.siren.notna().sum()"
   ]
  },
  {
   "cell_type": "code",
   "execution_count": null,
   "id": "4ebbe834",
   "metadata": {},
   "outputs": [],
   "source": [
    "filtered_df[filtered_df.siren.notna() | filtered_df.siret.notna()].shape[0]"
   ]
  },
  {
   "cell_type": "markdown",
   "id": "556fa2ba",
   "metadata": {},
   "source": [
    "Champs siret et siren, assez peu renseignés"
   ]
  },
  {
   "cell_type": "markdown",
   "id": "cffb3f49",
   "metadata": {},
   "source": [
    "### Analyse des secteurs"
   ]
  },
  {
   "cell_type": "code",
   "execution_count": null,
   "id": "d75b6d19",
   "metadata": {},
   "outputs": [],
   "source": [
    "df[\"pivot\"].str[0].str['type_service_local'].value_counts()"
   ]
  },
  {
   "cell_type": "markdown",
   "id": "95873e97",
   "metadata": {},
   "source": [
    "## Résumé nouveau fichier"
   ]
  },
  {
   "cell_type": "markdown",
   "id": "07a36afa",
   "metadata": {},
   "source": [
    "<br>✅ Id disponible (id)\n",
    "<br>✅ 100% des champs obligatoires\n",
    "<br>✅ Champs non-obligatoires disponibles (code Insee, téléphone, dates...)\n",
    "<br>\n",
    "<br>❌ Pas de SIRET\n",
    "<br>❌ Pas de rna"
   ]
  }
 ],
 "metadata": {
  "kernelspec": {
   "display_name": "Python 3 (ipykernel)",
   "language": "python",
   "name": "python3"
  },
  "language_info": {
   "codemirror_mode": {
    "name": "ipython",
    "version": 3
   },
   "file_extension": ".py",
   "mimetype": "text/x-python",
   "name": "python",
   "nbconvert_exporter": "python",
   "pygments_lexer": "ipython3",
   "version": "3.11.6"
  },
  "toc": {
   "base_numbering": 1,
   "nav_menu": {},
   "number_sections": true,
   "sideBar": true,
   "skip_h1_title": false,
   "title_cell": "Table of Contents",
   "title_sidebar": "Contents",
   "toc_cell": false,
   "toc_position": {},
   "toc_section_display": true,
   "toc_window_display": false
  },
  "vscode": {
   "interpreter": {
    "hash": "5c59c3774541e2228ee548c093b471ded1573b3beb617fa2a9d607b090635324"
   }
  }
 },
 "nbformat": 4,
 "nbformat_minor": 5
}
