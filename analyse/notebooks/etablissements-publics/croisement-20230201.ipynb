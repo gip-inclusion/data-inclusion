{
 "cells": [
  {
   "cell_type": "code",
   "execution_count": null,
   "metadata": {},
   "outputs": [],
   "source": [
    "import pandas as pd"
   ]
  },
  {
   "attachments": {},
   "cell_type": "markdown",
   "metadata": {},
   "source": [
    "#### Le but \n",
    "\n",
    "En repartant du [travail de siretisation des mairies de l'annuaire du service public](https://pad.incubateur.net/u5jVO0ekT9SvUNB85Gr8Ng#), croiser avec les données data.inclusion sur la base du siret.\n",
    "\n"
   ]
  },
  {
   "cell_type": "code",
   "execution_count": null,
   "metadata": {},
   "outputs": [],
   "source": [
    "data_inclusion_df = pd.read_csv(\n",
    "    \"https://www.data.gouv.fr/fr/datasets/r/fd4cb3ef-5c31-4c99-92fe-2cd8016c0ca5\",\n",
    "    dtype=str,\n",
    ")"
   ]
  },
  {
   "cell_type": "code",
   "execution_count": null,
   "metadata": {},
   "outputs": [],
   "source": [
    "# on isole les données provenant de l'annuaire\n",
    "data_inclusion_annuaire_df = data_inclusion_df.query(\"source == 'etab_publics'\")\n",
    "\n",
    "# et on les retire les données\n",
    "data_inclusion_df = data_inclusion_df.query(\"source != 'etab_publics'\")\n",
    "\n",
    "# on retire les données sans sirets\n",
    "data_inclusion_df = data_inclusion_df[data_inclusion_df.siret.notna()]"
   ]
  },
  {
   "cell_type": "code",
   "execution_count": null,
   "metadata": {},
   "outputs": [],
   "source": [
    "# fichier issu du travail de siretisation des mairies\n",
    "annuaire_mairies_df = pd.read_csv(\n",
    "    \"https://data-inclusion-lake.s3.fr-par.scw.cloud/extra/base-donnees-locales-mairies-sirets-20230109.csv\",\n",
    "    sep=\"|\",\n",
    "    dtype=str,\n",
    ")\n",
    "\n",
    "# on retire les données sans sirets\n",
    "annuaire_mairies_df = annuaire_mairies_df[annuaire_mairies_df.siret.notna()]"
   ]
  },
  {
   "cell_type": "code",
   "execution_count": null,
   "metadata": {},
   "outputs": [],
   "source": [
    "# la jointure via siret\n",
    "results_df = pd.merge(\n",
    "    annuaire_mairies_df,\n",
    "    data_inclusion_df,\n",
    "    how=\"left\",\n",
    "    on=\"siret\",\n",
    "    suffixes=(\"_annuaire\", \"\"),\n",
    ")\n",
    "\n",
    "results_df = results_df.assign(siret_annuaire=results_df.siret)"
   ]
  },
  {
   "cell_type": "code",
   "execution_count": null,
   "metadata": {},
   "outputs": [],
   "source": [
    "# on ne garde que les matchs\n",
    "results_df = results_df[results_df.source.notna()]"
   ]
  },
  {
   "cell_type": "code",
   "execution_count": null,
   "metadata": {},
   "outputs": [],
   "source": [
    "results_df.source.value_counts().to_frame()"
   ]
  },
  {
   "cell_type": "code",
   "execution_count": null,
   "metadata": {},
   "outputs": [],
   "source": [
    "# on isole les données de l'annuaire qui ont matchés pour les réintroduire\n",
    "data_inclusion_annuaire_df = data_inclusion_annuaire_df[data_inclusion_annuaire_df.id.isin(results_df.id_annuaire)]\n",
    "\n",
    "results_annuaire_df = pd.merge(\n",
    "    annuaire_mairies_df,\n",
    "    data_inclusion_annuaire_df,\n",
    "    how=\"inner\",\n",
    "    on=\"id\",\n",
    "    suffixes=(\"_annuaire\", \"\"),\n",
    ")\n",
    "\n",
    "results_annuaire_df = results_annuaire_df.assign(id_annuaire=results_annuaire_df.id)"
   ]
  },
  {
   "cell_type": "code",
   "execution_count": null,
   "metadata": {},
   "outputs": [],
   "source": [
    "results_df = pd.concat([results_df, results_annuaire_df])"
   ]
  },
  {
   "cell_type": "code",
   "execution_count": null,
   "metadata": {},
   "outputs": [],
   "source": [
    "# on groupe par identifiant dans l'annuaire et source dans data.inclusion afin de distinguer les doublons au sein d'une source\n",
    "final_df = results_df.assign(rang=results_df.groupby([\"id_annuaire\", \"source\"])[\"id_annuaire\"].rank(method=\"first\").astype(int))"
   ]
  },
  {
   "cell_type": "code",
   "execution_count": null,
   "metadata": {},
   "outputs": [],
   "source": [
    "# on pivote la table\n",
    "final_df = final_df.pivot(index=[\"id_annuaire\", \"nom_annuaire\", \"siret_annuaire\", \"lien\", \"rang\"], columns=\"source\")"
   ]
  },
  {
   "cell_type": "code",
   "execution_count": null,
   "metadata": {},
   "outputs": [],
   "source": [
    "import openpyxl.utils\n",
    "\n",
    "with pd.ExcelWriter(\n",
    "    \"/tmp/base-donnees-locales-mairies-croisements-20230202.xlsx\",\n",
    "    engine=\"openpyxl\",\n",
    ") as writer:\n",
    "    for schema_column_name, df in final_df.groupby(axis=1, level=0):\n",
    "        df.to_excel(writer, sheet_name=schema_column_name)\n",
    "\n",
    "        # adjust column width\n",
    "        worksheet = writer.sheets[schema_column_name]\n",
    "        for column_cells in worksheet.columns:\n",
    "            length = min(max(len(str(cell.value) if cell.value else \"\") for cell in column_cells), 50)\n",
    "            worksheet.column_dimensions[openpyxl.utils.get_column_letter(column_cells[0].column)].width = length\n"
   ]
  }
 ],
 "metadata": {
  "kernelspec": {
   "display_name": ".venv",
   "language": "python",
   "name": "python3"
  },
  "language_info": {
   "codemirror_mode": {
    "name": "ipython",
    "version": 3
   },
   "file_extension": ".py",
   "mimetype": "text/x-python",
   "name": "python",
   "nbconvert_exporter": "python",
   "pygments_lexer": "ipython3",
   "version": "3.10.8"
  },
  "vscode": {
   "interpreter": {
    "hash": "0a605734d949a2010a20d990a303989c986e5cf043e82395c74cff7e62d85c33"
   }
  }
 },
 "nbformat": 4,
 "nbformat_minor": 2
}
