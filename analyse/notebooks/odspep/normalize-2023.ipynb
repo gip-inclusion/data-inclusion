{
 "cells": [
  {
   "cell_type": "code",
   "execution_count": null,
   "id": "d409edbf",
   "metadata": {},
   "outputs": [],
   "source": [
    "import pandas as pd\n",
    "import dotenv\n",
    "from pathlib import Path\n",
    "import os\n",
    "\n",
    "basepath=Path('/home/colin/data/gip/pole-emploi/')\n"
   ]
  },
  {
   "cell_type": "code",
   "execution_count": null,
   "id": "967fd250",
   "metadata": {},
   "outputs": [],
   "source": [
    "# pd.options.display.max_rows = None\n",
    "# pd.options.display.max_columns = None\n",
    "\n",
    "# dotenv.load_dotenv(dotenv.find_dotenv())\n",
    "# %load_ext dotenv\n",
    "# %dotenv\n",
    "\n",
    "import env"
   ]
  },
  {
   "cell_type": "code",
   "execution_count": null,
   "id": "fb0d7f1f",
   "metadata": {},
   "outputs": [],
   "source": [
    "os.environ['SCALEWAY_ACCESS']"
   ]
  },
  {
   "cell_type": "code",
   "execution_count": null,
   "id": "f6eaf148",
   "metadata": {},
   "outputs": [],
   "source": [
    "\n"
   ]
  },
  {
   "cell_type": "code",
   "execution_count": null,
   "id": "36d92ef2",
   "metadata": {},
   "outputs": [],
   "source": [
    "# Testing S3 and Minio\n",
    "\n",
    "s3_client = Minio(os.environ[\"SCALEWAY_URL\"],\n",
    "                access_key=os.environ[\"SCALEWAY_ACCESS\"],\n",
    "                secret_key=os.environ[\"SCALEWAY_SECRET\"],\n",
    "                region=os.environ['MINIO_REGION']\n",
    "                )\n",
    "\n",
    "objects = s3_client.list_objects(os.environ['SCALEWAY_BUCKET'], prefix=\"sources/odspep/2023-01-23/denormalized/Exports/\")"
   ]
  },
  {
   "cell_type": "markdown",
   "id": "f8c61142",
   "metadata": {},
   "source": []
  },
  {
   "cell_type": "code",
   "execution_count": null,
   "id": "42d0f2df",
   "metadata": {},
   "outputs": [],
   "source": [
    "from minio import Minio\n",
    "\n",
    "def get_from_s3(filepath: str) -> Path:\n",
    "    s3_client = Minio(os.environ[\"SCALEWAY_URL\"],\n",
    "                access_key=os.environ[\"SCALEWAY_ACCESS\"],\n",
    "                secret_key=os.environ[\"SCALEWAY_SECRET\"],\n",
    "                region=os.environ['MINIO_REGION']\n",
    "                )\n",
    "    try:\n",
    "        data = s3_client.get_object(environ['SCALEWAY_BUCKET'], filepath)\n",
    "        # Save the file locally with same name\n",
    "        local_filepath: Path = Path(os.getcwd()) / filepath.split(\"/\")[-1]\n",
    "        print(local_filepath)\n",
    "        with open(local_filepath, 'wb') as file_data:\n",
    "            for d in data.stream(32*1024):\n",
    "                file_data.write(d)\n",
    "    finally:\n",
    "        data.close()\n",
    "        data.release_conn()\n",
    "    return local_filepath\n",
    "\n",
    "\n",
    "import warnings\n",
    "def read_odspep_excel(name: str) -> pd.DataFrame:\n",
    "    with warnings.catch_warnings(record=True):\n",
    "        warnings.simplefilter(\"always\")\n",
    "        return pd.read_excel(\n",
    "            get_from_s3(f\"sources/odspep/2023-01-23/denormalized/Exports/DD009_{name}.xlsx\"), dtype=str)"
   ]
  },
  {
   "attachments": {},
   "cell_type": "markdown",
   "id": "c4e5f63d",
   "metadata": {},
   "source": [
    "### RES_PARTENARIALE => ressources.csv\n",
    "\n",
    "Fetch raw ressources data"
   ]
  },
  {
   "cell_type": "code",
   "execution_count": null,
   "id": "9511d550",
   "metadata": {},
   "outputs": [],
   "source": [
    "df_res_partenariale = read_odspep_excel(\"RES_PARTENARIALE\")\n",
    "print(df_res_partenariale.columns)\n"
   ]
  },
  {
   "cell_type": "code",
   "execution_count": null,
   "id": "de7bf1dc",
   "metadata": {},
   "outputs": [],
   "source": [
    "df_res_partenariale['']"
   ]
  },
  {
   "cell_type": "code",
   "execution_count": null,
   "id": "1fbdd79d",
   "metadata": {},
   "outputs": [],
   "source": [
    "\n",
    "df_res_partenariale.rename(inplace=True,columns={\n",
    "    \"SERVICE_RSP\": \"LIBELLE_SERVICE\",\n",
    "    \"SERVICE_DESCRIPTION_RSP\": \"DESCRIPTION_SERVICE\",\n",
    "})\n",
    "\n",
    "print(list(df_res_partenariale.columns))"
   ]
  },
  {
   "attachments": {},
   "cell_type": "markdown",
   "id": "e903d0be",
   "metadata": {},
   "source": [
    "Fetch raw adresse data"
   ]
  },
  {
   "cell_type": "code",
   "execution_count": null,
   "id": "13559868",
   "metadata": {},
   "outputs": [],
   "source": [
    "df_adresse =  pd.read_excel(\n",
    "        ,\n",
    "        dtype=str, \n",
    "    )\n",
    "    \n",
    "print(list(df_res_partenariale.columns))"
   ]
  },
  {
   "cell_type": "code",
   "execution_count": null,
   "id": "c3104382",
   "metadata": {},
   "outputs": [],
   "source": [
    "resources_target_columns = pd.read_csv(basepath / \"2022-11-23/normalized/ressources.csv\", sep=\"|\").columns\n",
    "resources_target_columns = list(resources_target_columns)\n",
    "print(resources_target_columns)"
   ]
  },
  {
   "cell_type": "code",
   "execution_count": null,
   "id": "ea9cc01e",
   "metadata": {},
   "outputs": [],
   "source": [
    "df_ressources = pd.read_csv(basepath / \"2022-11-23/normalized/ressources.csv\", sep=\"|\")\n",
    "df_ressources['SERVICE_RSP'].head(\n",
    "    \n",
    ")"
   ]
  },
  {
   "cell_type": "code",
   "execution_count": null,
   "id": "85319497",
   "metadata": {},
   "outputs": [],
   "source": [
    "df_res_partenariale.to_csv(\n",
    "    \"ressources.csv\",\n",
    "    sep=\"|\",\n",
    "    index=False)\n",
    "\n"
   ]
  }
 ],
 "metadata": {
  "kernelspec": {
   "display_name": ".venv",
   "language": "python",
   "name": "python3"
  },
  "language_info": {
   "codemirror_mode": {
    "name": "ipython",
    "version": 3
   },
   "file_extension": ".py",
   "mimetype": "text/x-python",
   "name": "python",
   "nbconvert_exporter": "python",
   "pygments_lexer": "ipython3",
   "version": "3.10.6"
  },
  "toc": {
   "base_numbering": 1,
   "nav_menu": {},
   "number_sections": true,
   "sideBar": true,
   "skip_h1_title": false,
   "title_cell": "Table of Contents",
   "title_sidebar": "Contents",
   "toc_cell": false,
   "toc_position": {},
   "toc_section_display": true,
   "toc_window_display": false
  },
  "vscode": {
   "interpreter": {
    "hash": "dd946d6ba280afe0edaacee9742095166062224f90f077bd96e57e8739365e9a"
   }
  }
 },
 "nbformat": 4,
 "nbformat_minor": 5
}
