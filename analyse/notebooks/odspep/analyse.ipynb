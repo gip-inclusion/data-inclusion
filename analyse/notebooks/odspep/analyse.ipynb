{
 "cells": [
  {
   "cell_type": "code",
   "execution_count": null,
   "id": "d409edbf",
   "metadata": {},
   "outputs": [],
   "source": [
    "import os\n",
    "from datetime import datetime\n",
    "\n",
    "\n",
    "import numpy as np\n",
    "import pandas as pd\n",
    "\n",
    "pd.options.display.max_rows = None\n",
    "pd.options.display.max_columns = None"
   ]
  },
  {
   "cell_type": "code",
   "execution_count": null,
   "id": "f6f66c3a",
   "metadata": {},
   "outputs": [],
   "source": [
    "import dotenv\n",
    "\n",
    "dotenv.load_dotenv(dotenv.find_dotenv())\n"
   ]
  },
  {
   "cell_type": "code",
   "execution_count": null,
   "id": "c3ebbe8b",
   "metadata": {},
   "outputs": [],
   "source": [
    "df = pd.read_excel(os.environ.get(\"ODSPEP_FILE_URL\"), dtype=str).replace(\n",
    "    [np.nan, \"\"], None\n",
    ")"
   ]
  },
  {
   "cell_type": "code",
   "execution_count": null,
   "id": "66852e0a",
   "metadata": {},
   "outputs": [],
   "source": [
    "df.sample(5)\n"
   ]
  },
  {
   "cell_type": "markdown",
   "id": "c8fb0c89",
   "metadata": {},
   "source": [
    "### Description générale"
   ]
  },
  {
   "cell_type": "code",
   "execution_count": null,
   "id": "139baacf",
   "metadata": {},
   "outputs": [],
   "source": [
    "df.shape[0]"
   ]
  },
  {
   "cell_type": "markdown",
   "id": "26798578",
   "metadata": {},
   "source": [
    "### analyse\n",
    "\n",
    "* orienté services\n",
    "* 696 services dans le fichier en théorie\n",
    "* dénormalisation des autres dimensions (mise à plat) -> `ID_RES` dupliqués\n",
    "* jointure pour obtenir les \"libellés\" à partir des codes\n",
    "* ok : lat/lon, adresse sous norme AFNOR, code insee\n",
    "* ok : horaires d'ouverture au format maison\n",
    "* ok : contacts de la structure (champs *_CTC), tel très remplis\n",
    "* ko : pas de siret\n",
    "* ko : pas de date de maj\n",
    "* ko : pas de champs pour mapper la typologie de structure\n",
    "\n",
    "### documentation\n",
    "\n",
    "* les champs `*_ADR` correspondent à l'adresse de la structure (et non du service)\n",
    "* pour obtenir la zone de diffusion du service, regrouper le champs `COM_SERVICE` pour un même `ID_RES`\n"
   ]
  },
  {
   "cell_type": "markdown",
   "id": "118e69ef",
   "metadata": {},
   "source": [
    "### Répartition géographique ?\n",
    "\n",
    "* à prendre avec des pincettes car le fichier est dénormalisé\n",
    "* d'autres départements que ceux initialement demandés sont présent car un service dans le cd35 par exemple peut avoir une zone de diffusion plus grande que le département."
   ]
  },
  {
   "cell_type": "code",
   "execution_count": null,
   "id": "3298550b",
   "metadata": {},
   "outputs": [],
   "source": [
    "df[[\"DEPT_SERVICE\", \"Departement Service\"]].value_counts().to_frame()"
   ]
  },
  {
   "cell_type": "markdown",
   "id": "52167c09",
   "metadata": {},
   "source": [
    "## Structures"
   ]
  },
  {
   "cell_type": "markdown",
   "id": "ce4a47cb",
   "metadata": {},
   "source": [
    "### id"
   ]
  },
  {
   "cell_type": "code",
   "execution_count": null,
   "id": "e246d2a1",
   "metadata": {},
   "outputs": [],
   "source": [
    "df.shape[0]\n"
   ]
  },
  {
   "cell_type": "code",
   "execution_count": null,
   "id": "f4ffb934",
   "metadata": {},
   "outputs": [],
   "source": [
    "ressources_df = df.iloc[\n",
    "    :,\n",
    "    (df.columns == \"ID_RES\")\n",
    "    | (df.columns == \"STRUCTURE\")\n",
    "    | (df.columns == \"LIBELLE_SERVICE\")\n",
    "    | (df.columns == \"DESCRIPTION_SERVICE\")\n",
    "    | (df.columns == \"DATE DERNIERE MAJ\")\n",
    "    | df.columns.str.endswith(\"_ADR\")\n",
    "    | df.columns.str.endswith(\"_PHY\")\n",
    "    | df.columns.str.endswith(\"_CTC\"),\n",
    "]\n",
    "ressources_df = ressources_df.drop_duplicates(subset=\"ID_RES\")"
   ]
  },
  {
   "cell_type": "code",
   "execution_count": null,
   "id": "3d6362b5",
   "metadata": {},
   "outputs": [],
   "source": [
    "ressources_df.info()\n"
   ]
  },
  {
   "cell_type": "code",
   "execution_count": null,
   "id": "1528a216",
   "metadata": {},
   "outputs": [],
   "source": [
    "ressources_df.shape[0]\n"
   ]
  },
  {
   "cell_type": "code",
   "execution_count": null,
   "id": "0fc1b1b8",
   "metadata": {},
   "outputs": [],
   "source": [
    "ressources_df.STRUCTURE.duplicated(keep=False).sum()\n"
   ]
  },
  {
   "cell_type": "markdown",
   "id": "b178987d",
   "metadata": {},
   "source": [
    "### siret"
   ]
  },
  {
   "cell_type": "markdown",
   "id": "7efd71f8",
   "metadata": {},
   "source": [
    "### rna"
   ]
  },
  {
   "cell_type": "markdown",
   "id": "958b9632",
   "metadata": {},
   "source": [
    "### nom"
   ]
  },
  {
   "cell_type": "code",
   "execution_count": null,
   "id": "90f19548",
   "metadata": {},
   "outputs": [],
   "source": [
    "ressources_df[[\"STRUCTURE\", \"LIBELLE_SERVICE\"]].sample(20)\n"
   ]
  },
  {
   "cell_type": "code",
   "execution_count": null,
   "id": "cf2f66a1",
   "metadata": {},
   "outputs": [],
   "source": [
    "ressources_df.STRUCTURE.isna().sum()\n"
   ]
  },
  {
   "cell_type": "code",
   "execution_count": null,
   "id": "4082e7fd",
   "metadata": {},
   "outputs": [],
   "source": [
    "ressources_df.LIBELLE_SERVICE.isna().sum()\n"
   ]
  },
  {
   "cell_type": "markdown",
   "id": "6d5bbe5b",
   "metadata": {},
   "source": [
    "### commune"
   ]
  },
  {
   "cell_type": "code",
   "execution_count": null,
   "id": "00132cd9",
   "metadata": {},
   "outputs": [],
   "source": [
    "ressources_df.LIBELLE_COMMUNE_ADR.isna().sum()\n"
   ]
  },
  {
   "cell_type": "code",
   "execution_count": null,
   "id": "ee50f485",
   "metadata": {},
   "outputs": [],
   "source": [
    "ressources_df.LIBELLE_COMMUNE_ADR.sample(20).to_frame()\n"
   ]
  },
  {
   "cell_type": "markdown",
   "id": "3ad7d271",
   "metadata": {},
   "source": [
    "### code_postal"
   ]
  },
  {
   "cell_type": "code",
   "execution_count": null,
   "id": "15d542df",
   "metadata": {},
   "outputs": [],
   "source": [
    "ressources_df.CODE_POSTAL_ADR.isna().sum()\n"
   ]
  },
  {
   "cell_type": "code",
   "execution_count": null,
   "id": "1b54b9b8",
   "metadata": {},
   "outputs": [],
   "source": [
    "ressources_df.CODE_POSTAL_ADR.sample(20).to_frame()\n"
   ]
  },
  {
   "cell_type": "markdown",
   "id": "c2485bc2",
   "metadata": {},
   "source": [
    "### code_insee"
   ]
  },
  {
   "cell_type": "code",
   "execution_count": null,
   "id": "6ee1801c",
   "metadata": {},
   "outputs": [],
   "source": [
    "ressources_df.CODE_COMMUNE_ADR.sample(20).to_frame()\n"
   ]
  },
  {
   "cell_type": "markdown",
   "id": "d35699ce",
   "metadata": {},
   "source": [
    "### adresse"
   ]
  },
  {
   "cell_type": "code",
   "execution_count": null,
   "id": "cb13b8d6",
   "metadata": {},
   "outputs": [],
   "source": [
    "ressources_df.L4_NUMERO_LIB_VOIE_ADR.isna().sum()\n"
   ]
  },
  {
   "cell_type": "markdown",
   "id": "d25d2c35",
   "metadata": {},
   "source": [
    "### complement_adresse"
   ]
  },
  {
   "cell_type": "markdown",
   "id": "95a1440c",
   "metadata": {},
   "source": [
    "### longitude"
   ]
  },
  {
   "cell_type": "markdown",
   "id": "201b22f9",
   "metadata": {},
   "source": [
    "### latitude"
   ]
  },
  {
   "cell_type": "markdown",
   "id": "878bf34b",
   "metadata": {},
   "source": [
    "### typologie"
   ]
  },
  {
   "cell_type": "markdown",
   "id": "66528ac1",
   "metadata": {},
   "source": [
    "### telephone"
   ]
  },
  {
   "cell_type": "code",
   "execution_count": null,
   "id": "04f9a397",
   "metadata": {},
   "outputs": [],
   "source": [
    "contacts_df = df[\n",
    "    [\n",
    "        \"ID_RES\",\n",
    "        \"ID_CTC\",\n",
    "        \"TEL_1_CTC\",\n",
    "        \"TEL_2_CTC\",\n",
    "        \"FAX_CTC\",\n",
    "        \"SITE_INTERNET_CTC\",\n",
    "        \"MAIL_CTC\",\n",
    "    ]\n",
    "]\n",
    "contacts_df = contacts_df.drop_duplicates()"
   ]
  },
  {
   "cell_type": "markdown",
   "id": "4ba8c30f",
   "metadata": {},
   "source": [
    "### courriel"
   ]
  },
  {
   "cell_type": "markdown",
   "id": "def1ef3a",
   "metadata": {},
   "source": [
    "### site_web"
   ]
  },
  {
   "cell_type": "markdown",
   "id": "651ae1b1",
   "metadata": {},
   "source": [
    "### presentation_resume"
   ]
  },
  {
   "cell_type": "markdown",
   "id": "7c0ff1eb",
   "metadata": {},
   "source": [
    "### presentation_detail"
   ]
  },
  {
   "cell_type": "markdown",
   "id": "81052997",
   "metadata": {},
   "source": [
    "### date_maj"
   ]
  },
  {
   "cell_type": "code",
   "execution_count": null,
   "id": "11996258",
   "metadata": {},
   "outputs": [],
   "source": [
    "df[\"DATE DERNIERE MAJ\"].value_counts()\n"
   ]
  },
  {
   "cell_type": "markdown",
   "id": "a850be11",
   "metadata": {},
   "source": [
    "### structure_parente"
   ]
  },
  {
   "cell_type": "code",
   "execution_count": null,
   "id": "06339db8",
   "metadata": {},
   "outputs": [],
   "source": [
    "ressources_df.STRUCTURE.duplicated(keep=False).sum()\n"
   ]
  },
  {
   "cell_type": "markdown",
   "id": "764d181d",
   "metadata": {},
   "source": [
    "### lien_source"
   ]
  },
  {
   "cell_type": "markdown",
   "id": "142f0697",
   "metadata": {},
   "source": [
    "### horaires_ouverture"
   ]
  },
  {
   "cell_type": "code",
   "execution_count": null,
   "id": "793ec749",
   "metadata": {},
   "outputs": [],
   "source": [
    "horaires_df = df.iloc[\n",
    "    :,\n",
    "    df.columns.str.contains(\"ID_RES|COMMENTAIRES_HORAIRE_RSP\")\n",
    "    | df.columns.str.endswith(\"_HOR\"),\n",
    "]\n",
    "horaires_df = horaires_df.drop_duplicates()\n",
    "horaires_df = horaires_df.dropna(subset=[\"JOUR_HOR\"])\n",
    "horaires_df.shape[0]"
   ]
  },
  {
   "cell_type": "code",
   "execution_count": null,
   "id": "3b47b126",
   "metadata": {},
   "outputs": [],
   "source": [
    "horaires_df.sample(10)\n"
   ]
  },
  {
   "cell_type": "markdown",
   "id": "de2fc69e",
   "metadata": {},
   "source": [
    "### accessibilite"
   ]
  },
  {
   "cell_type": "markdown",
   "id": "b802d8fc",
   "metadata": {},
   "source": [
    "### labels_nationaux"
   ]
  },
  {
   "cell_type": "markdown",
   "id": "d23fd297",
   "metadata": {},
   "source": [
    "### labels_autres"
   ]
  },
  {
   "cell_type": "markdown",
   "id": "ee71c21b",
   "metadata": {},
   "source": [
    "### thematiques"
   ]
  },
  {
   "cell_type": "code",
   "execution_count": null,
   "id": "9043e244",
   "metadata": {},
   "outputs": [],
   "source": [
    "familles_df = df[[\"ID_RES\", \"CODE_FAM\", \"FamilleBesoin\"]]\n",
    "familles_df = familles_df.drop_duplicates()\n"
   ]
  },
  {
   "cell_type": "code",
   "execution_count": null,
   "id": "c8975d65",
   "metadata": {},
   "outputs": [],
   "source": [
    "familles_df.ID_RES.value_counts().to_frame().head(20)\n"
   ]
  },
  {
   "cell_type": "code",
   "execution_count": null,
   "id": "255cdeeb",
   "metadata": {},
   "outputs": [],
   "source": [
    "familles_df[[\"CODE_FAM\", \"FamilleBesoin\"]].value_counts().to_frame()\n"
   ]
  },
  {
   "cell_type": "code",
   "execution_count": null,
   "id": "1d282a2d",
   "metadata": {},
   "outputs": [],
   "source": [
    "categories_df = df[[\"ID_RES\", \"CODE_CAT\", \"Besoin\"]]\n",
    "categories_df = categories_df.drop_duplicates()\n"
   ]
  },
  {
   "cell_type": "code",
   "execution_count": null,
   "id": "208c052f",
   "metadata": {},
   "outputs": [],
   "source": [
    "categories_df.ID_RES.value_counts().to_frame().head(20)\n"
   ]
  },
  {
   "cell_type": "code",
   "execution_count": null,
   "id": "27e3e4a9",
   "metadata": {},
   "outputs": [],
   "source": [
    "categories_df[[\"CODE_CAT\", \"Besoin\"]].value_counts().to_frame()\n"
   ]
  },
  {
   "cell_type": "code",
   "execution_count": null,
   "id": "62a844cd",
   "metadata": {},
   "outputs": [],
   "source": [
    "sous_categories_df = df[[\"ID_RES\", \"CODE_SSC\", \"Sous besoin\"]]\n",
    "sous_categories_df = sous_categories_df.drop_duplicates()\n"
   ]
  },
  {
   "cell_type": "code",
   "execution_count": null,
   "id": "e36b4bae",
   "metadata": {},
   "outputs": [],
   "source": [
    "sous_categories_df.ID_RES.value_counts().to_frame().head(20)\n"
   ]
  },
  {
   "cell_type": "code",
   "execution_count": null,
   "id": "e711dfa5",
   "metadata": {},
   "outputs": [],
   "source": [
    "sous_categories_df[[\"CODE_SSC\", \"Sous besoin\"]].value_counts().to_frame()\n"
   ]
  },
  {
   "cell_type": "code",
   "execution_count": null,
   "id": "7d61c6db",
   "metadata": {},
   "outputs": [],
   "source": [
    "all_cat_df = df[\n",
    "    [\n",
    "        \"ID_RES\",\n",
    "        \"CODE_FAM\",\n",
    "        \"CODE_CAT\",\n",
    "        \"CODE_SSC\",\n",
    "        \"FamilleBesoin\",\n",
    "        \"Besoin\",\n",
    "        \"Sous besoin\",\n",
    "    ]\n",
    "]\n",
    "all_cat_df.drop_duplicates()\n",
    "all_cat_df.shape[0]"
   ]
  },
  {
   "cell_type": "code",
   "execution_count": null,
   "id": "54db44ee",
   "metadata": {},
   "outputs": [],
   "source": [
    "all_cat_df[\"Besoin\"].drop_duplicates().to_list()\n"
   ]
  },
  {
   "cell_type": "markdown",
   "id": "377ea72f",
   "metadata": {},
   "source": [
    "# Services"
   ]
  },
  {
   "cell_type": "markdown",
   "id": "2a9515c9",
   "metadata": {},
   "source": [
    "### id"
   ]
  },
  {
   "cell_type": "markdown",
   "id": "9a49dc94",
   "metadata": {},
   "source": [
    "### structure_id"
   ]
  },
  {
   "cell_type": "markdown",
   "id": "9e0733c9",
   "metadata": {},
   "source": [
    "### nom"
   ]
  },
  {
   "cell_type": "code",
   "execution_count": null,
   "id": "d96e5d7e",
   "metadata": {},
   "outputs": [],
   "source": [
    "ressources_df.DESCRIPTION_SERVICE.map(len)\n"
   ]
  },
  {
   "cell_type": "markdown",
   "id": "1aec52bf",
   "metadata": {},
   "source": [
    "### Taux de remplissage des champs"
   ]
  },
  {
   "cell_type": "code",
   "execution_count": null,
   "id": "9829238c",
   "metadata": {},
   "outputs": [],
   "source": [
    "def compute_field_occupancy_rates(df):\n",
    "    return ((1 - df.isnull().sum() / df.shape[0]) * 100).sort_values(ascending=False)"
   ]
  },
  {
   "cell_type": "code",
   "execution_count": null,
   "id": "658e6e06",
   "metadata": {},
   "outputs": [],
   "source": [
    "compute_field_occupancy_rates(df).to_frame()"
   ]
  },
  {
   "cell_type": "markdown",
   "id": "3d7558bc",
   "metadata": {},
   "source": [
    "Typologie de structure"
   ]
  },
  {
   "cell_type": "code",
   "execution_count": null,
   "id": "dba27235",
   "metadata": {},
   "outputs": [],
   "source": [
    "from data_inclusion.schema import models\n",
    "\n",
    "categories_flags_services_df = (\n",
    "    services_df.STRUCTURE.str.lower()\n",
    "    .apply(\n",
    "        lambda s: {\n",
    "            models.Typologie.CAF.value: \"caf\" in s.split()\n",
    "            or (\"caisse\" in s and \"allocation\" in s and \"fami\" in s),\n",
    "            models.Typologie.CC.value: \"communaut\" in s\n",
    "            and \"commune\" in s\n",
    "            and \"maternelle\" not in s,\n",
    "            models.Typologie.ASSO.value: \"association\" in s.split(),\n",
    "            models.Typologie.CCAS.value: \"ccas\" in s.split()\n",
    "            or \"social\" in s\n",
    "            and \"action\" in s,\n",
    "            models.Typologie.CHRS.value: \"chrs\" in s.split()\n",
    "            or (\"bergement\" in s and \"insertion\" in s),\n",
    "            models.Typologie.RS_FJT.value: (\"sidence\" in s and \"social\" in s)\n",
    "            or \"fjt\" in s\n",
    "            or (\"foyer\" in s and \"jeune\" in s and \"travail\" in s),\n",
    "            models.Typologie.CS.value: \"centre social\" in s,\n",
    "            models.Typologie.MDS.value: \"maison\" in s and \"solidarit\" in s,\n",
    "            models.Typologie.ML.value: \"mission\" in s and \"local\" in s,\n",
    "            models.Typologie.MDPH.value: \"maison\" in s and \"handic\" in s,\n",
    "        }\n",
    "    )\n",
    "    .apply(pd.Series)\n",
    "    .assign(\n",
    "        na=lambda df: df.apply(\n",
    "            lambda row: ~row.any(), axis=\"columns\", result_type=\"expand\"\n",
    "        )\n",
    "    )\n",
    ")"
   ]
  },
  {
   "cell_type": "code",
   "execution_count": null,
   "id": "5b4d3e19",
   "metadata": {},
   "outputs": [],
   "source": [
    "categories_flags_services_df.iloc[:, categories_flags_services_df.columns != \"na\"].any(\n",
    "    axis=\"columns\"\n",
    ").sum()"
   ]
  },
  {
   "cell_type": "code",
   "execution_count": null,
   "id": "5f99f834",
   "metadata": {},
   "outputs": [],
   "source": [
    "categories_flags_services_df.sum().sort_values(ascending=False).plot(\n",
    "    kind=\"bar\", grid=True, rot=35, figsize=(20, 8)\n",
    ")\n"
   ]
  },
  {
   "cell_type": "code",
   "execution_count": null,
   "id": "59a08ad0",
   "metadata": {},
   "outputs": [],
   "source": [
    "df.iloc[:, df.columns.str.endswith(\"_CTC\")].sample(10)"
   ]
  },
  {
   "cell_type": "markdown",
   "id": "597d8cb5",
   "metadata": {},
   "source": [
    "Champ `type service partenaire` pour extraire un type de structure ?"
   ]
  },
  {
   "cell_type": "code",
   "execution_count": null,
   "id": "fc8d9c8a",
   "metadata": {},
   "outputs": [],
   "source": [
    "df.drop_duplicates(subset=\"ID_RES\")[\n",
    "    \"type service partenaire \"\n",
    "].value_counts().to_frame()"
   ]
  },
  {
   "cell_type": "markdown",
   "id": "14272e29",
   "metadata": {},
   "source": [
    "### Nombre de structures sous-jacentes"
   ]
  },
  {
   "cell_type": "code",
   "execution_count": null,
   "id": "1f97b05c",
   "metadata": {},
   "outputs": [],
   "source": [
    "df.STRUCTURE.nunique()"
   ]
  },
  {
   "cell_type": "markdown",
   "id": "34ee74a0",
   "metadata": {},
   "source": [
    "Aperçu de la distribution du nombres de services par structure\n",
    "\n",
    "Pour la majorité : un service par structure"
   ]
  },
  {
   "cell_type": "code",
   "execution_count": null,
   "id": "be5ec0c6",
   "metadata": {},
   "outputs": [],
   "source": [
    "df.drop_duplicates(\"ID_RES\").STRUCTURE.value_counts().head(10).to_frame()"
   ]
  },
  {
   "cell_type": "markdown",
   "id": "28132e5e",
   "metadata": {},
   "source": [
    "### Siretisation automatique"
   ]
  },
  {
   "cell_type": "code",
   "execution_count": null,
   "id": "344d0cb2",
   "metadata": {},
   "outputs": [],
   "source": [
    "import os\n",
    "import importlib\n",
    "\n",
    "import dotenv\n",
    "from tqdm.auto import tqdm\n",
    "import sqlalchemy as sqla\n",
    "\n",
    "from data_inclusion.tasks import siretisation\n",
    "\n",
    "tqdm.pandas()\n",
    "\n",
    "# reload siretisation without restarting the entire kernel\n",
    "importlib.reload(siretisation)\n",
    "\n",
    "dotenv.load_dotenv(dotenv.find_dotenv())\n",
    "\n",
    "engine = sqla.create_engine(os.environ[\"SIRENE_DATABASE_URL\"])\n",
    "\n",
    "structures_df = df.drop_duplicates(\"ID_RES\")\n",
    "\n",
    "establishments_df = structures_df.progress_apply(\n",
    "    lambda row: siretisation.search_establishment(\n",
    "        nom=row.STRUCTURE,\n",
    "        adresse=row.L4_NUMERO_LIB_VOIE_ADR,\n",
    "        code_insee=row.CODE_COMMUNE_ADR,\n",
    "        latitude=row.LATITUDE_ADR,\n",
    "        longitude=row.LONGITUDE_ADR,\n",
    "        engine=engine,\n",
    "    )\n",
    "    or {},\n",
    "    axis=\"columns\",\n",
    "    result_type=\"expand\",\n",
    ")\n",
    "\n",
    "structures_siretisees_df = pd.merge(\n",
    "    df,\n",
    "    establishments_df,\n",
    "    how=\"left\",\n",
    "    right_index=True,\n",
    "    left_index=True,\n",
    ")"
   ]
  },
  {
   "cell_type": "markdown",
   "id": "e1202152",
   "metadata": {},
   "source": [
    "#### Résultats de la siretisation automatique"
   ]
  },
  {
   "cell_type": "markdown",
   "id": "64a34ead",
   "metadata": {},
   "source": [
    "% de structures siretisées"
   ]
  },
  {
   "cell_type": "code",
   "execution_count": null,
   "id": "c509c5ea",
   "metadata": {},
   "outputs": [],
   "source": [
    "structures_siretisees_df.drop_duplicates(\n",
    "    \"STRUCTURE\"\n",
    ").siret.notna().sum() * 100 / structures_siretisees_df.drop_duplicates(\n",
    "    \"STRUCTURE\"\n",
    ").shape[\n",
    "    0\n",
    "]"
   ]
  },
  {
   "cell_type": "markdown",
   "id": "7a881b52",
   "metadata": {},
   "source": [
    "% de services avec structures siretisées\n",
    "\n",
    "Certaines structures ont un nombre important de services."
   ]
  },
  {
   "cell_type": "code",
   "execution_count": null,
   "id": "d9baf9b8",
   "metadata": {},
   "outputs": [],
   "source": [
    "structures_siretisees_df.siret.notna().sum() * 100 / structures_siretisees_df.shape[0]"
   ]
  },
  {
   "cell_type": "markdown",
   "id": "f5163edb",
   "metadata": {},
   "source": [
    "établissement vs structures"
   ]
  },
  {
   "cell_type": "code",
   "execution_count": null,
   "id": "59fefa2f",
   "metadata": {},
   "outputs": [],
   "source": [
    "structures_siretisees_df[structures_siretisees_df.siret.notna()][\n",
    "    [\"ID_RES\", \"STRUCTURE\", \"siret\", \"name\"]\n",
    "]"
   ]
  }
 ],
 "metadata": {
  "kernelspec": {
   "display_name": "Python 3 (ipykernel)",
   "language": "python",
   "name": "python3"
  },
  "language_info": {
   "codemirror_mode": {
    "name": "ipython",
    "version": 3
   },
   "file_extension": ".py",
   "mimetype": "text/x-python",
   "name": "python",
   "nbconvert_exporter": "python",
   "pygments_lexer": "ipython3",
   "version": "3.10.4"
  },
  "toc": {
   "base_numbering": 1,
   "nav_menu": {},
   "number_sections": true,
   "sideBar": true,
   "skip_h1_title": false,
   "title_cell": "Table of Contents",
   "title_sidebar": "Contents",
   "toc_cell": false,
   "toc_position": {},
   "toc_section_display": true,
   "toc_window_display": false
  },
  "vscode": {
   "interpreter": {
    "hash": "5c59c3774541e2228ee548c093b471ded1573b3beb617fa2a9d607b090635324"
   }
  }
 },
 "nbformat": 4,
 "nbformat_minor": 5
}
