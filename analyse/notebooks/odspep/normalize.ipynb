{
 "cells": [
  {
   "cell_type": "code",
   "execution_count": null,
   "metadata": {},
   "outputs": [],
   "source": [
    "from collections import defaultdict\n",
    "\n",
    "import dotenv\n",
    "import numpy as np\n",
    "import pandas as pd\n"
   ]
  },
  {
   "cell_type": "code",
   "execution_count": null,
   "metadata": {},
   "outputs": [],
   "source": [
    "pd.options.display.max_rows = None\n",
    "pd.options.display.max_columns = None\n",
    "\n",
    "dotenv.load_dotenv(dotenv.find_dotenv())\n"
   ]
  },
  {
   "cell_type": "markdown",
   "metadata": {},
   "source": [
    "Ce notebook permet de re-normaliser les données extraites."
   ]
  },
  {
   "cell_type": "code",
   "execution_count": null,
   "metadata": {},
   "outputs": [],
   "source": [
    "def normalize_dataframe(df: pd.DataFrame) -> dict[str, pd.DataFrame]:\n",
    "    df_by_tbl_name = {}\n",
    "\n",
    "    df = df.replace([np.nan, \"\"], None)\n",
    "\n",
    "    ressources_df = df.iloc[\n",
    "        :,\n",
    "        (df.columns == \"ID_RES\")\n",
    "        | (df.columns == \"STRUCTURE\")\n",
    "        | (df.columns == \"LIBELLE_SERVICE\")\n",
    "        | (df.columns == \"DESCRIPTION_SERVICE\")\n",
    "        | (df.columns == \"DATE DERNIERE MAJ\")\n",
    "        | (df.columns == \"SERVICE_RSP\")\n",
    "        | df.columns.str.endswith(\"_ADR\")\n",
    "        | df.columns.str.endswith(\"_PHY\")\n",
    "    ]\n",
    "    ressources_df = ressources_df.drop_duplicates(subset=\"ID_RES\")\n",
    "    df_by_tbl_name[\"ressources\"] = ressources_df\n",
    "\n",
    "    contacts_df = df[\n",
    "        [\n",
    "            \"ID_RES\",\n",
    "            \"ID_CTC\",\n",
    "            \"TEL_1_CTC\",\n",
    "            \"TEL_2_CTC\",\n",
    "            \"FAX_CTC\",\n",
    "            \"SITE_INTERNET_CTC\",\n",
    "            \"MAIL_CTC\",\n",
    "        ]\n",
    "    ]\n",
    "    contacts_df = contacts_df.drop_duplicates()\n",
    "    df_by_tbl_name[\"contacts\"] = contacts_df\n",
    "\n",
    "    horaires_df = df.iloc[\n",
    "        :,\n",
    "        (df.columns == \"ID_RES\")\n",
    "        | (df.columns == \"COMMENTAIRES_HORAIRE_RSP\")\n",
    "        | df.columns.str.endswith(\"_HOR\"),\n",
    "    ]\n",
    "    horaires_df = horaires_df.drop_duplicates()\n",
    "    horaires_df = horaires_df.dropna(subset=[\"JOUR_HOR\"])\n",
    "    df_by_tbl_name[\"horaires\"] = horaires_df\n",
    "\n",
    "    familles_df = df[[\"ID_RES\", \"CODE_FAM\", \"FamilleBesoin\"]]\n",
    "    familles_df = familles_df.drop_duplicates()\n",
    "    df_by_tbl_name[\"familles\"] = familles_df\n",
    "\n",
    "    categories_df = df[[\"ID_RES\", \"CODE_CAT\", \"Besoin\"]]\n",
    "    categories_df = categories_df.drop_duplicates()\n",
    "    df_by_tbl_name[\"categories\"] = categories_df\n",
    "\n",
    "    sous_categories_df = df[[\"ID_RES\", \"CODE_SSC\", \"Sous besoin\"]]\n",
    "    sous_categories_df = sous_categories_df.drop_duplicates()\n",
    "    df_by_tbl_name[\"sous_categories\"] = sous_categories_df\n",
    "\n",
    "    return df_by_tbl_name\n"
   ]
  },
  {
   "cell_type": "code",
   "execution_count": null,
   "metadata": {},
   "outputs": [],
   "source": [
    "dfs = []\n"
   ]
  },
  {
   "cell_type": "code",
   "execution_count": null,
   "metadata": {},
   "outputs": [],
   "source": [
    "dfs.append(\n",
    "    pd.read_excel(\n",
    "        \"https://data-inclusion-lake.s3.fr-par.scw.cloud/sources/odspep/2022-11-23/denormalized/exportDORA14092022.xlsx\",\n",
    "        dtype=str,\n",
    "    )\n",
    ")\n"
   ]
  },
  {
   "cell_type": "code",
   "execution_count": null,
   "metadata": {},
   "outputs": [],
   "source": [
    "dfs.append(\n",
    "    pd.read_excel(\n",
    "        \"https://data-inclusion-lake.s3.fr-par.scw.cloud/sources/odspep/2022-11-23/denormalized/exportDora0311-1.xlsx\",\n",
    "        dtype=str,\n",
    "    )\n",
    ")\n"
   ]
  },
  {
   "cell_type": "code",
   "execution_count": null,
   "metadata": {},
   "outputs": [],
   "source": [
    "dfs.append(\n",
    "    pd.read_excel(\n",
    "        \"https://data-inclusion-lake.s3.fr-par.scw.cloud/sources/odspep/2022-11-23/denormalized/exportDora0311-2.xlsx\",\n",
    "        dtype=str,\n",
    "    )\n",
    ")\n"
   ]
  },
  {
   "cell_type": "code",
   "execution_count": null,
   "metadata": {},
   "outputs": [],
   "source": [
    "dfs.append(\n",
    "    pd.read_excel(\n",
    "        \"https://data-inclusion-lake.s3.fr-par.scw.cloud/sources/odspep/2022-11-23/denormalized/exportDora0311-3.xlsx\",\n",
    "        dtype=str,\n",
    "    )\n",
    ")\n"
   ]
  },
  {
   "cell_type": "code",
   "execution_count": null,
   "metadata": {},
   "outputs": [],
   "source": [
    "dfs.append(\n",
    "    pd.read_excel(\n",
    "        \"https://data-inclusion-lake.s3.fr-par.scw.cloud/sources/odspep/2022-11-23/denormalized/exportDora0311-4.xlsx\",\n",
    "        dtype=str,\n",
    "    )\n",
    ")\n"
   ]
  },
  {
   "cell_type": "code",
   "execution_count": null,
   "metadata": {},
   "outputs": [],
   "source": [
    "for df in dfs[1:]:\n",
    "    df[\"DATE DERNIERE MAJ\"] = pd.to_datetime(\n",
    "        df[\"MAX_DATE\"].astype(float), unit=\"D\", origin=\"1899-12-30\"\n",
    "    ).map(lambda dt: dt.isoformat(sep=\" \", timespec=\"seconds\"))\n"
   ]
  },
  {
   "cell_type": "code",
   "execution_count": null,
   "metadata": {},
   "outputs": [],
   "source": [
    "df_by_tbl_name = defaultdict(pd.DataFrame)\n",
    "\n",
    "for df in dfs:\n",
    "    local_df_by_tbl_name = normalize_dataframe(df)\n",
    "\n",
    "    for tbl_name, df in local_df_by_tbl_name.items():\n",
    "        df_by_tbl_name[tbl_name] = pd.concat([df_by_tbl_name[tbl_name], df])\n"
   ]
  },
  {
   "cell_type": "code",
   "execution_count": null,
   "metadata": {},
   "outputs": [],
   "source": [
    "for tbl_name, df in df_by_tbl_name.items():\n",
    "    print(tbl_name, df.duplicated(subset=[\"ID_RES\"], keep=False).sum())\n"
   ]
  },
  {
   "cell_type": "code",
   "execution_count": null,
   "metadata": {},
   "outputs": [],
   "source": [
    "for tbl_name, df in df_by_tbl_name.items():\n",
    "    df.to_csv(\n",
    "        f\"{tbl_name}.csv\",\n",
    "        index=False,\n",
    "        sep=\"|\",\n",
    "    )\n"
   ]
  }
 ],
 "metadata": {
  "kernelspec": {
   "display_name": "Python 3.10.4 ('.venv': venv)",
   "language": "python",
   "name": "python3"
  },
  "language_info": {
   "codemirror_mode": {
    "name": "ipython",
    "version": 3
   },
   "file_extension": ".py",
   "mimetype": "text/x-python",
   "name": "python",
   "nbconvert_exporter": "python",
   "pygments_lexer": "ipython3",
   "version": "3.10.4"
  },
  "vscode": {
   "interpreter": {
    "hash": "5c59c3774541e2228ee548c093b471ded1573b3beb617fa2a9d607b090635324"
   }
  }
 },
 "nbformat": 4,
 "nbformat_minor": 2
}
