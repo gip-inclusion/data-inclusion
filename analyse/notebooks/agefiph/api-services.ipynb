{
 "cells": [
  {
   "cell_type": "code",
   "execution_count": null,
   "id": "517ed275",
   "metadata": {},
   "outputs": [],
   "source": [
    "import requests\n",
    "import json\n",
    "import pandas as pd\n",
    "\n",
    "\n",
    "api_url = \"https://www.agefiph.fr/jsonapi\"\n",
    "\n",
    "services_json = requests.get(api_url + \"/node/aide_service\")\n",
    "services_json = services_json.json()\n",
    "services: list = services_json[\"data\"]\n",
    "\n",
    "thematiques_json = requests.get(api_url + \"/taxonomy_term/thematique\")\n",
    "thematiques_json = thematiques_json.json()\n",
    "thematiques: list = thematiques_json[\"data\"]"
   ]
  },
  {
   "cell_type": "code",
   "execution_count": null,
   "id": "9f98dd4d",
   "metadata": {},
   "outputs": [],
   "source": [
    "# with pd.json_normalize the values of fied_essential_* were turned into NaN\n",
    "# so I switched to a more basic approach\n",
    "# df_services = pd.json_normalize(services,  sep=\".\")\n",
    "\n",
    "services_normalized = []\n",
    "for service in services:    \n",
    "    s = {}\n",
    "    attributes = service[\"attributes\"]\n",
    "    \n",
    "    s[\"id\"] = service[\"id\"]\n",
    "    s[\"date_creation\"] = attributes[\"created\"]\n",
    "    s[\"date_maj\"] = attributes[\"changed\"]\n",
    "    s[\"nom\"] = attributes[\"title\"]\n",
    "    s[\"presentation_resume\"] = attributes[\"field_titre_card_employeur\"]\n",
    "    \n",
    "    s[\"presentation_detail\"] = \"\"\n",
    "    \n",
    "    # DESCRIPTIONS\n",
    "    # TODO: convertir le html des descriptions en markdown\n",
    "    \n",
    "    if attributes['field_essentiel_ph']:\n",
    "        s[\"presentation_detail\"] = f\"\"\"Pour la personne handicapée : {attributes['field_essentiel_ph']['processed']}\n",
    "    \"\"\"\n",
    "    if attributes['field_essentiel_employeur']:\n",
    "        s[\"presentation_detail\"] += f\"\"\"Pour l'employeur : {attributes['field_essentiel_employeur']['processed']}\"\"\"   \n",
    "    \n",
    "    if attributes[\"field_texte_brut_long\"]:\n",
    "         s[\"presentation_detail\"] = attributes[\"field_texte_brut_long\"] + f\"\"\"\n",
    "         {s[\"presentation_detail\"]}\"\"\"   \n",
    "            \n",
    "    # THEMATIQUES (seulement les id)\n",
    "    s[\"id_thematiques\"] = []\n",
    "    try:\n",
    "        for thematique in service[\"relationships\"][\"field_thematique\"][\"data\"]:\n",
    "            print(thematique['id'])\n",
    "            s[\"id_thematiques\"].append(thematique[\"id\"])\n",
    "    except KeyError:\n",
    "        print(f\"{s['nom']} : pas de thématique\")\n",
    "           \n",
    "    services_normalized.append(s)  "
   ]
  },
  {
   "cell_type": "code",
   "execution_count": null,
   "id": "abab60d0",
   "metadata": {},
   "outputs": [],
   "source": [
    "thematiques_normalized = {}\n",
    "\n",
    "for thematique in thematiques:\n",
    "    attributes = thematique[\"attributes\"]\n",
    "    print(attributes['name'])\n",
    "    \n",
    "    thematiques_normalized[thematique[\"id\"]] =  attributes['name']"
   ]
  },
  {
   "cell_type": "code",
   "execution_count": null,
   "id": "fa4d2b8d",
   "metadata": {},
   "outputs": [],
   "source": [
    "import copy\n",
    "\n",
    "services_normalized_w_thematiques = []\n",
    "for service in services_normalized:\n",
    "    service['thematiques'] = []\n",
    "    for id_thematique in service[\"id_thematiques\"]:\n",
    "        service['thematiques'].append(thematiques_normalized[id_thematique])\n",
    "    del service[\"id_thematiques\"]\n",
    "    services_normalized_w_thematiques.append(service)\n",
    "    \n",
    "pd.DataFrame(services_normalized_w_thematiques).to_csv(\"agefiph_services_api.csv\", index=None)"
   ]
  },
  {
   "cell_type": "code",
   "execution_count": null,
   "id": "ecfc54c4",
   "metadata": {},
   "outputs": [],
   "source": [
    "# Ajout des données des structures et de contact, récupérées à la main sur le site officiel."
   ]
  }
 ],
 "metadata": {
  "kernelspec": {
   "display_name": "Python 3 (ipykernel)",
   "language": "python",
   "name": "python3"
  },
  "language_info": {
   "codemirror_mode": {
    "name": "ipython",
    "version": 3
   },
   "file_extension": ".py",
   "mimetype": "text/x-python",
   "name": "python",
   "nbconvert_exporter": "python",
   "pygments_lexer": "ipython3",
   "version": "3.10.6"
  }
 },
 "nbformat": 4,
 "nbformat_minor": 5
}
