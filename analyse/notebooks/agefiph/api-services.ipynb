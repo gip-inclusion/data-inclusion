{
 "cells": [
  {
   "cell_type": "markdown",
   "id": "45495455",
   "metadata": {},
   "source": [
    "Le but de ce notebook est de générer des structures et services pour l'offre de service de l'agefiph.\n",
    "\n",
    "Ce notebook prend 2 sources de données :\n",
    "\n",
    "* une liste de strucures issu d'un tableau grist maintenu par data.inclusion,\n",
    "* une liste de services issu de l'api de l'agefiph.\n"
   ]
  },
  {
   "cell_type": "code",
   "execution_count": null,
   "id": "517ed275",
   "metadata": {},
   "outputs": [],
   "source": [
    "import requests\n",
    "import numpy as np\n",
    "import pandas as pd\n",
    "import trafilatura\n",
    "import hashlib\n",
    "from uuid import UUID\n",
    "\n",
    "\n",
    "def html_to_markdown(s: str):\n",
    "    if s is None or s == \"\":\n",
    "        return s\n",
    "    return trafilatura.extract(trafilatura.load_html(\"<html>\" + s + \"</html>\"))\n",
    "\n",
    "\n",
    "# https://grist.incubateur.net/o/datainclusion/bWqnEafQaLgc/Partage-de-donnes-AGEFIPH-Mars-Avril-2023/p/4\n",
    "STRUCTURES_TABLE_URL = \"https://grist.incubateur.net/o/datainclusion/api/docs/bWqnEafQaLgcTvFv7rv6hF/download/csv?viewSection=7&tableId=Structures&activeSortSpec=%5B%5D&filters=%5B%5D\"\n",
    "SERVICES_API_URL = \"https://www.agefiph.fr/jsonapi/node/aide_service\"\n"
   ]
  },
  {
   "cell_type": "code",
   "execution_count": null,
   "id": "5d20e16b",
   "metadata": {},
   "outputs": [],
   "source": [
    "raw_structures_df = pd.read_csv(STRUCTURES_TABLE_URL, dtype=str).replace([np.nan, \"\"], None)\n",
    "raw_services_df = pd.json_normalize(\n",
    "    requests.get(SERVICES_API_URL).json()[\"data\"]\n",
    ").replace([np.nan, \"\"], None)\n"
   ]
  },
  {
   "cell_type": "code",
   "execution_count": null,
   "id": "15a0ca22",
   "metadata": {},
   "outputs": [],
   "source": [
    "raw_structures_df = raw_structures_df\n",
    "\n",
    "raw_structures_df.info()\n"
   ]
  },
  {
   "cell_type": "code",
   "execution_count": null,
   "id": "7bd7e018",
   "metadata": {},
   "outputs": [],
   "source": [
    "raw_services_df = raw_services_df[\n",
    "    [\n",
    "        \"id\",\n",
    "        \"attributes.created\",\n",
    "        \"attributes.changed\",\n",
    "        \"attributes.title\",\n",
    "        \"attributes.field_titre_card_employeur\",\n",
    "        \"attributes.field_essentiel_ph.processed\",\n",
    "        \"attributes.field_essentiel_employeur.processed\",\n",
    "        \"attributes.field_texte_brut_long\",\n",
    "        \"relationships.field_thematique.data\",\n",
    "    ]\n",
    "]\n",
    "\n",
    "raw_services_df.info()\n"
   ]
  },
  {
   "cell_type": "code",
   "execution_count": null,
   "id": "d5ad9896",
   "metadata": {},
   "outputs": [],
   "source": [
    "pd.json_normalize(\n",
    "    raw_services_df.rename(columns={\"id\": \"service_id\"}).to_dict(orient=\"records\"),\n",
    "    record_path=\"relationships.field_thematique.data\",\n",
    "    meta=\"service_id\",\n",
    ").info()\n"
   ]
  },
  {
   "cell_type": "code",
   "execution_count": null,
   "id": "e2ad9881",
   "metadata": {},
   "outputs": [],
   "source": [
    "DI_THEMATIQUES_BY_AGEFIPH_THEMATIQUE_ID = {\n",
    "    # Source https://grist.incubateur.net/o/datainclusion/uVsB8pabQGoe/Thmatiques/p/13\n",
    "    \"4e08047f-b0ed-431a-9182-61e8e61b1486\": \"handicap--favoriser-le-retour-et-le-maintien-dans-lemploi\",\n",
    "    \"11618ce3-e59b-404f-8eb2-5763215464f2\": \"handicap--favoriser-le-retour-et-le-maintien-dans-lemploi\",\n",
    "    \"60c25ci7-61sc-89a9-ny54-126hslf808a2\": \"handicap--connaissance-des-droits-des-travailleurs\",\n",
    "    \"51be0003-13d8-4ffa-9923-248e7aa4a227\": None,\n",
    "    \"ddf0fa87-2ee0-481c-a258-96985b7826c3\": None,\n",
    "    \"cb2c9fec-c190-4e2f-aeee-6da818109bf8\": \"handicap--favoriser-le-retour-et-le-maintien-dans-lemploi\",\n",
    "    \"78b28acb-803e-4b06-ab77-58dabfbd8571\": \"handicap--adaptation-au-poste-de-travail\",\n",
    "    \"366eb399-1e6c-4609-8066-d1504fae2a8e\": None,\n",
    "    \"907a8c33-5c56-49d3-bd64-a736a9ceac76\": None,\n",
    "    \"5d8c88d8-db03-4f27-b517-d7016896b01a\": None,\n",
    "    \"fb5e6180-290b-4216-ba68-624d25defa3a\": \"handicap--favoriser-le-retour-et-le-maintien-dans-lemploi\",\n",
    "    \"03228d62-2a59-49d8-8443-b25cb2e684b9\": \"accompagnement-social-et-professionnel-personnalise--definition-du-projet-professionnel\",\n",
    "    \"f9ab3e06-af51-463a-aaf7-7b04a28e047f\": \"se-former--trouver-sa-formation\",\n",
    "    \"aeab1d68-4e89-4e2a-a612-d8645e3999d8\": \"creation-activite--definir-son-projet-de-creation-dentreprise\",\n",
    "    \"f4551558-8315-4708-8357-5ecc89751bc6\": \"handicap--faire-reconnaitre-un-handicap\",\n",
    "    \"4b8b0473-52c2-4a21-956d-d7d68a7053b5\": None,\n",
    "}\n",
    "\n",
    "\n",
    "def map_service(row) -> dict:\n",
    "    service = {}\n",
    "    service[\"id\"] = row[\"id\"]\n",
    "    service[\"date_creation\"] = row[\"attributes.created\"]\n",
    "    service[\"date_maj\"] = row[\"attributes.changed\"]\n",
    "    service[\"nom\"] = row[\"attributes.title\"]\n",
    "    service[\"contact_public\"] = True\n",
    "    service[\"presentation_resume\"] = row[\"attributes.field_titre_card_employeur\"]\n",
    "\n",
    "    service[\"presentation_detail\"] = \"\"\n",
    "    if row[\"attributes.field_essentiel_ph.processed\"] is not None:\n",
    "        service[\"presentation_detail\"] += (\n",
    "            \"<p>Pour la personne handicapée :</p>\"\n",
    "            + row[\"attributes.field_essentiel_ph.processed\"]\n",
    "        )\n",
    "    if row[\"attributes.field_essentiel_employeur.processed\"] is not None:\n",
    "        service[\"presentation_detail\"] += (\n",
    "            \"<p>Pour l'employeur :</p>\"\n",
    "            + row[\"attributes.field_essentiel_employeur.processed\"]\n",
    "        )\n",
    "    if row[\"attributes.field_texte_brut_long\"] is not None:\n",
    "        service[\"presentation_detail\"] = (\n",
    "            row[\"attributes.field_texte_brut_long\"] + service[\"presentation_detail\"]\n",
    "        )\n",
    "    service[\"presentation_detail\"] = html_to_markdown(service[\"presentation_detail\"])\n",
    "    service[\"presentation_detail\"] = service[\"presentation_detail\"] or None\n",
    "\n",
    "    service[\"thematiques\"] = list(\n",
    "        set(\n",
    "            [\n",
    "                v\n",
    "                for v in [\n",
    "                    DI_THEMATIQUES_BY_AGEFIPH_THEMATIQUE_ID[\n",
    "                        agefiph_thematique_data[\"id\"]\n",
    "                    ]\n",
    "                    for agefiph_thematique_data in row[\n",
    "                        \"relationships.field_thematique.data\"\n",
    "                    ]\n",
    "                ]\n",
    "                if v is not None\n",
    "            ]\n",
    "        )\n",
    "    )\n",
    "\n",
    "    return service\n"
   ]
  },
  {
   "cell_type": "code",
   "execution_count": null,
   "id": "9f98dd4d",
   "metadata": {},
   "outputs": [],
   "source": [
    "template_services_df = raw_services_df.apply(map_service, axis=1, result_type=\"expand\")\n",
    "\n",
    "template_services_df.info()\n"
   ]
  },
  {
   "cell_type": "code",
   "execution_count": null,
   "id": "e0680158",
   "metadata": {},
   "outputs": [],
   "source": [
    "# Cartesian products\n",
    "services_df = (\n",
    "    raw_structures_df[\n",
    "        [\n",
    "            \"id\",\n",
    "            \"courriel\",\n",
    "            \"telephone\",\n",
    "            \"adresse\",\n",
    "            \"commune\",\n",
    "            \"code_postal\",\n",
    "            \"code_insee\",\n",
    "        ]\n",
    "    ]\n",
    "    .rename(columns={\"id\": \"structure_id\"})\n",
    "    .join(template_services_df, how=\"cross\")\n",
    ")\n",
    "\n",
    "# Making service id unique across all regions\n",
    "services_df = services_df.assign(\n",
    "    id=services_df.apply(\n",
    "        lambda row: str(\n",
    "            UUID(\n",
    "                hex=hashlib.md5((row[\"structure_id\"] + row[\"id\"]).encode()).hexdigest()\n",
    "            )\n",
    "        ),\n",
    "        axis=1,\n",
    "    )\n",
    ")\n",
    "\n",
    "services_df.info()\n"
   ]
  },
  {
   "cell_type": "code",
   "execution_count": null,
   "id": "ecfc54c4",
   "metadata": {},
   "outputs": [],
   "source": [
    "services_df.to_json(\"services.json\", orient=\"records\", force_ascii=False)\n",
    "raw_structures_df.to_json(\"structures.json\", orient=\"records\", force_ascii=False)\n"
   ]
  },
  {
   "cell_type": "code",
   "execution_count": null,
   "id": "85c609c1",
   "metadata": {},
   "outputs": [],
   "source": [
    "services_df\n"
   ]
  }
 ],
 "metadata": {
  "kernelspec": {
   "display_name": "Python 3 (ipykernel)",
   "language": "python",
   "name": "python3"
  },
  "language_info": {
   "codemirror_mode": {
    "name": "ipython",
    "version": 3
   },
   "file_extension": ".py",
   "mimetype": "text/x-python",
   "name": "python",
   "nbconvert_exporter": "python",
   "pygments_lexer": "ipython3",
   "version": "3.10.11"
  }
 },
 "nbformat": 4,
 "nbformat_minor": 5
}
